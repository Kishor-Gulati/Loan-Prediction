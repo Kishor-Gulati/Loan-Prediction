{
 "cells": [
  {
   "cell_type": "markdown",
   "metadata": {},
   "source": [
    "# Loan_Prediction"
   ]
  },
  {
   "cell_type": "markdown",
   "metadata": {},
   "source": [
    "### Goal:\n",
    "* To try and implement various Classification and Regression models.\n",
    "* Automate Pre processing and model running(Pipeline), for future.\n",
    "* To Extract maximum information and predictions from our data by:\n",
    "    * Using various columns as our dependent variables.\n",
    "    * Passing data with predictions to other models and using it to predict other features.\n",
    "    * Trying both, classification and regression on problems statements, that allow.\n",
    "\n",
    "### Approach:\n",
    "* Notebook is written in a systematic way for easy understanding.\n",
    "* We have defined and used functions where ever possible, to try and automate tasks.\n",
    "* We have included model pipelines, to automate model running and evaluation.\n",
    "* The domain expert will have feature importances ready, incase they need to do feature selection.\n",
    "* In order to conserve cost, processing power and time, we have commented some code, which we intent to optimize in the future with better processing power."
   ]
  },
  {
   "cell_type": "markdown",
   "metadata": {},
   "source": [
    "## Index:\n",
    "1. [Problem Statement](#1 \"Dataset+Column Description, Problem statements\").\n",
    "2. [Library Imports](#2 \"Libraries Imported and used in this project\").\n",
    "3. [Functions Used](#3 \"Functions Created and used in this project\").\n",
    "4. [Loading Datasets](#4 \"Reading Training and Testing Datasets and storing in our DataFrames\").  \n",
    "<br>  \n",
    "5. [EDA](#5 \"Exploratory Data Analysis\").\n",
    "    * [Basic EDA](#5.1 \"Running Basic Statistical Summaries\").\n",
    "    * [Visualizations](#5.2 \"The most important Visualization\").   \n",
    "<br>  \n",
    "6. [Data Preprocessing](#6 \"Preparing Data for the models\").\n",
    "    * [Duplicated values](#6.1 \"Checking and handling Duplicate records\").\n",
    "    * [Null Values](#6.2 \"Checking and imputing/handling Null records\").\n",
    "    * [Feature Engineering](#6.3 \"Creating Total Income from Applicant+CoApplicant Incomes\").\n",
    "    * [Label Encoder](#6.4 \"Converting Categorical columns to Discrete numeric datatype\").  \n",
    "<br>  \n",
    "7. [Problem Statement 1](#7 \"Predicting Loan Status on Test Dataset\").\n",
    "    * [Creating Dataframes](#7.1 \"Creating new DataFrames for current Problem Statement\").\n",
    "    * [Defining X & Y](#7.2 \"Defining Independent/Dependent/Testing Variables\").\n",
    "    * [Correlation matrix](#7.3 \"Generating Correlation Matrix with visual\").\n",
    "    * [DF to Array type](#7.4 \"Converting - '.values' for faster processing\").\n",
    "    * [Feature Importance](#7.5 \"Checking for any feature with 0 importance\").\n",
    "    * [SMOTE](#7.6 \"Handing imbalance in Independent variable class for X_train\").\n",
    "    * [Classification model pipeline](#7.7 \"Running a pipeline for common Classification models\").\n",
    "        * [Metrics Summary](#7.7a \"Metrics Summary for base Classification models\").\n",
    "    * [Tuning/Pruning](#7.8 \"Model Optimization for well performing models\").\n",
    "        * [Logistic Regression (adjusting threshold)](#7.8a \"Dedicated approach for Logistic Regression\").\n",
    "        * [Random Forest (GridSearchCv)](#7.8b \"Hyperparameter tuning for Random Forest\").\n",
    "        * [SVC (GridSearchCv)](#7.8c \"Hyperparameter tuning for SVC model\").\n",
    "    * [SMOTE for Training dataset](#7.9 \"Handing imbalance in Independent variable class for X in Train Dataset\").\n",
    "    * [Final Predictions](#7.10 \"Using best model for Predictions on Test Dataset and dumping to a .csv file\").  \n",
    "<br>  \n",
    "8. [Problem Statement 2(a)](#8 \"Predicting Loan Amount on Test Dataset for Rejected Loans\").\n",
    "    * [Creating Dataframes](#8.1 \"Creating new DataFrames for current Problem Statement\").\n",
    "    * [Defining X & Y](#8.2 \"Defining Independent/Dependent/Testing Variables\").\n",
    "    * [DF to Array type](#8.3 \"Converting - '.values' for faster processing\").\n",
    "    * [Feature Importance](#8.4 \"Checking for any feature with 0 importance\")\n",
    "    * [Regression model pipeline](#8.5 \"Running a pipeline for common Regression models\").\n",
    "    * [Tuning/Pruning](#8.6 \"Model Optimization for well performing models\").\n",
    "        * [Linear (Base/Ridge/Lasso)](#8.6a \"Dedicated approach [L1+L2 penalty] for Linear Regression\").\n",
    "        * [Random Forest (GridSearchCv)](#8.6b \"Hyperparameter tuning for Random Forest\").\n",
    "        * [Extra Tree (GridSearchCv)](#8.6c \"Hyperparameter tuning for Extra Tree\").\n",
    "    * [Metrics Summary](#8.7 \"Metrics Summary of Tuned/Pruned Regression models, performing well\").\n",
    "    * [Final Predictions](#8.8 \"Using best model for Predictions on Test Dataset and dumping to a .csv file\").  \n",
    "<br>      \n",
    "9. [Problem Statement 2(b)](#9 \"Predicting Loan Amount Term on Test Dataset for Rejected Loans\").\n",
    "    * [Creating Dataframes](#9.1  \"Creating new DataFrames for current Problem Statement\").\n",
    "    * [Defining X & Y](#9.2 \"Defining Independent/Dependent/Testing Variables\").\n",
    "    * [Feature Importance](#9.3 \"Checking for any feature with 0 importance\")\n",
    "    * [Regression model pipeline](#9.4 \"Running a pipeline for common Regression models\").\n",
    "    * [UpSampling](#9.5 \"Resampling Dependent variable classes with less than 100 samples to 100\").\n",
    "    * [Re-Running model pipeline](#9.6 \"Runing the model pipeline again with balanced Data\").\n",
    "    * [Tuning/Pruning](#9.7 \"Model Optimization for well performing models\").\n",
    "        * [Random Forest (GridSearchCv)](#9.7a \"Hyperparameter tuning for Random Forest\").\n",
    "        * [Extra Tree (GridSearchCv)](#9.7b \"Hyperparameter tuning for Extra Tree\").\n",
    "    * [Metrics Summary](#9.8 \"Metrics Summary of Tuned/Pruned Regression models, performing well\").\n",
    "    * [Final Prediction](#9.9 \"Using best model for Predictions on Test Dataset and dumping to a .csv file\").\n",
    "    * [Extra Step](#9.10 \"Trying to solve the same problem using Classification, instead of Regression\")."
   ]
  },
  {
   "cell_type": "markdown",
   "metadata": {},
   "source": [
    "<a id='1'></a>\n",
    "### About Dataset\n",
    "The data contains client loan data and whether there loan got approved or not.\n",
    "The main goal is to find out loan approval prediction over testing data using model (created using training data)\n",
    "\n",
    "### Problem Statement: \n",
    "\n",
    "A Company wants to automate the loan eligibility process based on customer details provided while filling online application form. The details filled by the customer are Gender, Marital Status, Education, Number of Dependents, Income of self and co applicant, Required Loan Amount, Required Loan Term, Credit History and others. The requirements are as follows:\n",
    "\n",
    "1. Check eligibility of the Customer given the inputs described above.(Classification)\n",
    "2. If customer is not eligible for the input required amount and duration:\n",
    "    * What can be amount for the given duration.(Regression)\n",
    "    * If duration is less than equal to 20 years, is customer eligible for required amount for some longer duration? What is that duration?(Regression)\n",
    "    \n",
    "### Content:\n",
    "\n",
    "<body>\n",
    "    <h3>Dataset columns and definition</h3>\n",
    "\t<table>\n",
    "\t\t<thead>\n",
    "\t\t\t<tr>\n",
    "                <th><u>Feature</u></th>\n",
    "                <th><u>Description</u></th>\n",
    "\t\t\t</tr>\n",
    "\t\t</thead>\n",
    "\t\t<tbody>\n",
    "\t\t\t<tr>\n",
    "\t\t\t\t<td>Loan_ID</td>\n",
    "\t\t\t\t<td>Unique id for every loan request.</td>\n",
    "\t\t\t</tr>\n",
    "\t\t\t<tr>\n",
    "\t\t\t\t<td>Gender</td>\n",
    "\t\t\t\t<td>Applicant's Gender.</td>\n",
    "\t\t\t</tr>\n",
    "\t\t\t<tr>\n",
    "\t\t\t\t<td>Married</td>\n",
    "\t\t\t\t<td>Applicant's Marital status.</td>\n",
    "\t\t\t</tr>\n",
    "\t\t\t<tr>\n",
    "\t\t\t\t<td>Dependents</td>\n",
    "\t\t\t\t<td>How many people are dependent on the Applicant in his/her family.</td>\n",
    "\t\t\t</tr>\n",
    "\t\t\t<tr>\n",
    "\t\t\t\t<td>Education</td>\n",
    "\t\t\t\t<td>Applicant's Education.</td>\n",
    "\t\t\t</tr>\n",
    "\t\t\t<tr>\n",
    "\t\t\t\t<td>Self_Employed</td>\n",
    "\t\t\t\t<td>Whether the applicant is employed | Owner of business.</td>\n",
    "\t\t\t</tr>\n",
    "\t\t\t<tr>\n",
    "\t\t\t\t<td>ApplicantIncome</td>\n",
    "\t\t\t\t<td>Applicant's Income on record.</td>\n",
    "\t\t\t</tr>\n",
    "\t\t\t<tr>\n",
    "\t\t\t\t<td>CoapplicantIncome</td>\n",
    "\t\t\t\t<td>CoApplicant's Income on record.</td>\n",
    "\t\t\t</tr>\n",
    "\t\t\t<tr>\n",
    "\t\t\t\t<td>LoanAmount</td>\n",
    "\t\t\t\t<td>Amount of Loan required.</td>\n",
    "\t\t\t</tr>\n",
    "\t\t\t<tr>\n",
    "\t\t\t\t<td>Loan_Amount_Term</td>\n",
    "\t\t\t\t<td>Duration in which applicant wants to pay back the loan amount.</td>\n",
    "\t\t\t</tr>\n",
    "\t\t\t<tr>\n",
    "\t\t\t\t<td>Credit_History</td>\n",
    "\t\t\t\t<td>Whether the candidate has good or bad credit history in past.</td>\n",
    "\t\t\t</tr>\n",
    "\t\t\t<tr>\n",
    "\t\t\t\t<td>Property_Area</td>\n",
    "\t\t\t\t<td>Type of locality of property which the candidate has given as mortage. The type tells us about property valuation.</td>\n",
    "\t\t\t</tr>\n",
    "        </tbody>\n",
    "\t</table>\n",
    "</body>"
   ]
  },
  {
   "cell_type": "markdown",
   "metadata": {},
   "source": [
    "<a id='2'></a>\n",
    "### Library Imports."
   ]
  },
  {
   "cell_type": "code",
   "execution_count": 1,
   "metadata": {},
   "outputs": [],
   "source": [
    "# Time to run\n",
    "import time\n",
    "start_time = time.time()\n",
    "\n",
    "# Basic Libraries\n",
    "import pandas as pd\n",
    "import numpy as np\n",
    "import warnings\n",
    "warnings.filterwarnings(\"ignore\")\n",
    "\n",
    "# We set options to display all columns\n",
    "pd.set_option('display.max_columns', None)\n",
    "\n",
    "# Visualisation\n",
    "import matplotlib.pyplot as plt\n",
    "import seaborn as sns\n",
    "\n",
    "# Preprocessing & PreTraining\n",
    "from sklearn.preprocessing import LabelEncoder\n",
    "from sklearn.preprocessing import StandardScaler\n",
    "from sklearn.utils import resample\n",
    "from imblearn.over_sampling import SMOTE\n",
    "from sklearn.model_selection import train_test_split\n",
    "from sklearn.pipeline import Pipeline\n",
    "from sklearn.model_selection import GridSearchCV\n",
    "from sklearn.model_selection import RandomizedSearchCV\n",
    "\n",
    "# Classification Models & Metrics\n",
    "from sklearn.linear_model import LogisticRegression\n",
    "from sklearn.tree import DecisionTreeClassifier\n",
    "from sklearn.ensemble import RandomForestClassifier\n",
    "from sklearn.svm import SVC\n",
    "from sklearn.neighbors import KNeighborsClassifier\n",
    "from sklearn.ensemble import GradientBoostingClassifier\n",
    "from sklearn.metrics import confusion_matrix, accuracy_score, classification_report\n",
    "\n",
    "#Regression Models & Metrics.\n",
    "from sklearn.linear_model import LinearRegression\n",
    "from sklearn.neighbors import KNeighborsRegressor\n",
    "from sklearn.tree import DecisionTreeRegressor\n",
    "from sklearn.ensemble import RandomForestRegressor, GradientBoostingRegressor, ExtraTreesRegressor\n",
    "from sklearn.metrics import r2_score, mean_squared_error\n",
    "from sklearn import metrics\n",
    "from sklearn.linear_model import Ridge\n",
    "from sklearn.linear_model import Lasso"
   ]
  },
  {
   "cell_type": "markdown",
   "metadata": {},
   "source": [
    "<a id='3'></a>\n",
    "### Functions used"
   ]
  },
  {
   "cell_type": "code",
   "execution_count": 2,
   "metadata": {},
   "outputs": [],
   "source": [
    "# Function to Calculate time to run and display in minutes & seconds\n",
    "def calculate_execution_time(start_time, end_time):\n",
    "    execution_time = end_time - start_time  # Time in seconds\n",
    "    minutes, seconds = divmod(execution_time, 60)  # Time in minutes & Seconds\n",
    "    return f\"Execution time: {int(minutes)} minutes and {seconds:.2f} seconds\"\n",
    "\n",
    "# Function for handling missing values.\n",
    "def impute_missing_values(df):\n",
    "    for column in df.columns:\n",
    "        if df[column].dtype == 'object' or df[column].dtype == 'category':\n",
    "            # For object (categorical) columns, fill missing values with the mode\n",
    "            mode_value = df[column].mode()[0]\n",
    "            df[column].fillna(mode_value, inplace=True)\n",
    "        else:\n",
    "            # For numeric columns, fill missing values with the mean\n",
    "            mean_value = df[column].mean()\n",
    "            df[column].fillna(mean_value, inplace=True)\n",
    "            \n",
    "            \n",
    "# Function to convert categorical columns to Discrete Numerical values.            \n",
    "def label_encode_columns(df, columns_to_encode):\n",
    "    label_encoder = LabelEncoder()\n",
    "    \n",
    "    for column in columns_to_encode:\n",
    "        df[column] = label_encoder.fit_transform(df[column])\n",
    "        label_mapping = dict(zip(label_encoder.classes_, label_encoder.transform(label_encoder.classes_)))\n",
    "        \n",
    "        print(f'Feature: {column}')\n",
    "        print('Mapping:', label_mapping)\n",
    "    return df\n",
    "\n",
    "# Function for Classification Model Pipeline.\n",
    "def build_and_evaluate_classification_pipeline(X_train, y_train, X_test, y_test, model):\n",
    "    \"\"\"\n",
    "    Build and evaluate a scikit-learn pipeline for classification.\n",
    "\n",
    "    Parameters:\n",
    "    - X_train: Features of the training data.\n",
    "    - y_train: Target variable of the training data.\n",
    "    - X_test: Features of the testing data.\n",
    "    - y_test: Target variable of the testing data.\n",
    "    - model: The classification model to be evaluated.\n",
    "\n",
    "    Returns:\n",
    "    - accuracy: The accuracy score of the classification model on the test data.\n",
    "    - report: The classification report including precision, recall, and F1-score.\n",
    "    - cm: The confusion matrix of the classification model.\n",
    "\n",
    "    The function constructs a pipeline that includes data preprocessing (scaling) and the specified classification model.\n",
    "    It then fits the pipeline to the training data, makes predictions on the test data, and calculates accuracy, classification\n",
    "    report, and confusion matrix.\n",
    "    \"\"\"\n",
    "    # Create the full Classification pipeline\n",
    "    preprocessor = Pipeline([\n",
    "        ('scaler', StandardScaler())\n",
    "    ])\n",
    "\n",
    "    # Create the full pipeline\n",
    "    pipeline = Pipeline([\n",
    "        ('preprocessor', preprocessor),  # Standardize features\n",
    "        ('model', model)  # Use the selected Classification model\n",
    "    ])\n",
    "\n",
    "    # Fit the pipeline to the training data\n",
    "    pipeline.fit(X_train, y_train)\n",
    "\n",
    "    # Make predictions on the test data\n",
    "    y_pred = pipeline.predict(X_test)\n",
    "\n",
    "    # Calculate accuracy\n",
    "    accuracy = accuracy_score(y_test, y_pred)\n",
    "\n",
    "    # Generate the classification report\n",
    "    report = classification_report(y_test, y_pred)\n",
    "\n",
    "    # Generate the confusion matrix\n",
    "    cm = confusion_matrix(y_test, y_pred)\n",
    "\n",
    "    return accuracy, report, cm\n",
    "\n",
    "# Function for Regression Model Pipeline.\n",
    "def build_and_evaluate_regression_pipeline(X_train, y_train, X_test, y_test, model):\n",
    "    \"\"\"\n",
    "    Build and evaluate a regression pipeline on the given training and testing data.\n",
    "\n",
    "    Parameters:\n",
    "    - X_train: Features of the training data.\n",
    "    - y_train: Target variable of the training data.\n",
    "    - X_test: Features of the testing data.\n",
    "    - y_test: Target variable of the testing data.\n",
    "    - model: The regression model to be evaluated.\n",
    "\n",
    "    Returns:\n",
    "    - metrics: A dictionary containing model evaluation metrics (R-squared, adjusted R-squared, RMSE).\n",
    "    \"\"\"\n",
    "    # Create the full regression pipeline\n",
    "    regression_pipeline = Pipeline([\n",
    "        ('scaler', StandardScaler()),  # Standardize features\n",
    "        ('model', model)  # Use the selected regression model\n",
    "    ])\n",
    "\n",
    "    # Fit the pipeline to the training data\n",
    "    regression_pipeline.fit(X_train, y_train)\n",
    "\n",
    "    # Predict on the test set\n",
    "    y_pred = regression_pipeline.predict(X_test)\n",
    "    \n",
    "    # Calculate model accuracy\n",
    "    model_accuracy = regression_pipeline.score(X_train, Y_train)\n",
    "\n",
    "    # Calculate metrics: R-squared, adjusted R-squared, and RMSE\n",
    "    mse = mean_squared_error(y_test, y_pred)\n",
    "    rmse = np.sqrt(mse)\n",
    "    r_squared = r2_score(y_test, y_pred)\n",
    "\n",
    "    # Calculate adjusted R-squared\n",
    "    n = len(X_test)\n",
    "    p = X_test.shape[1]\n",
    "    adjusted_r_squared = 1 - (1 - r_squared) * (n - 1) / (n - p - 1)\n",
    "\n",
    "    return model_accuracy, r_squared, adjusted_r_squared, rmse\n",
    "\n",
    "#Function for Upscaling multiclass.\n",
    "def balance_multiclass_dataset_with_limit(df, target_column, desired_samples_per_class, random_state=10):\n",
    "    \"\"\"\n",
    "    Balance a multi-class dataset using upsampling with a limit on the number of samples per class.\n",
    "\n",
    "    Parameters:\n",
    "        df (pd.DataFrame): The DataFrame containing the dataset.\n",
    "        target_column (str): The name of the target column (class labels).\n",
    "        desired_samples_per_class (int): The maximum number of samples per class after upsampling.\n",
    "        random_state (int): Random seed for reproducibility.\n",
    "\n",
    "    Returns:\n",
    "        pd.DataFrame: A balanced DataFrame with up to 'desired_samples_per_class' samples from each minority class.\n",
    "    \"\"\"\n",
    "    # Get unique class labels\n",
    "    class_labels = df[target_column].unique()\n",
    "\n",
    "    # Create an empty DataFrame to store the upsampled data\n",
    "    balanced_df = pd.DataFrame()\n",
    "\n",
    "    # Upsample each class to match the desired number of samples\n",
    "    for label in class_labels:\n",
    "        class_data = df[df[target_column] == label]\n",
    "        \n",
    "        # Check if upsampling is needed\n",
    "        if len(class_data) < desired_samples_per_class:\n",
    "            upsampled_class_data = resample(class_data, \n",
    "                                           replace=True,  # Sample with replacement\n",
    "                                           n_samples=desired_samples_per_class, \n",
    "                                           random_state=random_state)\n",
    "        else:\n",
    "            upsampled_class_data = class_data\n",
    "        \n",
    "        # Concatenate the upsampled class data with the majority class data\n",
    "        balanced_df = pd.concat([balanced_df, upsampled_class_data])\n",
    "\n",
    "    # Shuffle the balanced dataset to mix the samples\n",
    "    balanced_df = balanced_df.sample(frac=1, random_state=random_state)\n",
    "\n",
    "    return balanced_df"
   ]
  },
  {
   "cell_type": "markdown",
   "metadata": {},
   "source": [
    "<a id='4'></a>\n",
    "### Loading Datasets."
   ]
  },
  {
   "cell_type": "code",
   "execution_count": 3,
   "metadata": {
    "scrolled": true
   },
   "outputs": [
    {
     "data": {
      "text/html": [
       "<div>\n",
       "<style scoped>\n",
       "    .dataframe tbody tr th:only-of-type {\n",
       "        vertical-align: middle;\n",
       "    }\n",
       "\n",
       "    .dataframe tbody tr th {\n",
       "        vertical-align: top;\n",
       "    }\n",
       "\n",
       "    .dataframe thead th {\n",
       "        text-align: right;\n",
       "    }\n",
       "</style>\n",
       "<table border=\"1\" class=\"dataframe\">\n",
       "  <thead>\n",
       "    <tr style=\"text-align: right;\">\n",
       "      <th></th>\n",
       "      <th>Loan_ID</th>\n",
       "      <th>Gender</th>\n",
       "      <th>Married</th>\n",
       "      <th>Dependents</th>\n",
       "      <th>Education</th>\n",
       "      <th>Self_Employed</th>\n",
       "      <th>ApplicantIncome</th>\n",
       "      <th>CoapplicantIncome</th>\n",
       "      <th>LoanAmount</th>\n",
       "      <th>Loan_Amount_Term</th>\n",
       "      <th>Credit_History</th>\n",
       "      <th>property_Area</th>\n",
       "      <th>Loan_Status</th>\n",
       "    </tr>\n",
       "  </thead>\n",
       "  <tbody>\n",
       "    <tr>\n",
       "      <th>0</th>\n",
       "      <td>LP001002</td>\n",
       "      <td>Male</td>\n",
       "      <td>No</td>\n",
       "      <td>0</td>\n",
       "      <td>Graduate</td>\n",
       "      <td>No</td>\n",
       "      <td>5849.0</td>\n",
       "      <td>0.0</td>\n",
       "      <td>NaN</td>\n",
       "      <td>360.0</td>\n",
       "      <td>1.0</td>\n",
       "      <td>Urban</td>\n",
       "      <td>Y</td>\n",
       "    </tr>\n",
       "    <tr>\n",
       "      <th>1</th>\n",
       "      <td>LP001003</td>\n",
       "      <td>Male</td>\n",
       "      <td>Yes</td>\n",
       "      <td>1</td>\n",
       "      <td>Graduate</td>\n",
       "      <td>No</td>\n",
       "      <td>NaN</td>\n",
       "      <td>1508.0</td>\n",
       "      <td>128.0</td>\n",
       "      <td>360.0</td>\n",
       "      <td>1.0</td>\n",
       "      <td>Rural</td>\n",
       "      <td>N</td>\n",
       "    </tr>\n",
       "    <tr>\n",
       "      <th>2</th>\n",
       "      <td>LP001005</td>\n",
       "      <td>Male</td>\n",
       "      <td>Yes</td>\n",
       "      <td>0</td>\n",
       "      <td>Graduate</td>\n",
       "      <td>Yes</td>\n",
       "      <td>3000.0</td>\n",
       "      <td>0.0</td>\n",
       "      <td>66.0</td>\n",
       "      <td>360.0</td>\n",
       "      <td>1.0</td>\n",
       "      <td>Urban</td>\n",
       "      <td>Y</td>\n",
       "    </tr>\n",
       "    <tr>\n",
       "      <th>3</th>\n",
       "      <td>LP001006</td>\n",
       "      <td>Male</td>\n",
       "      <td>Yes</td>\n",
       "      <td>0</td>\n",
       "      <td>Not Graduate</td>\n",
       "      <td>No</td>\n",
       "      <td>2583.0</td>\n",
       "      <td>2358.0</td>\n",
       "      <td>120.0</td>\n",
       "      <td>360.0</td>\n",
       "      <td>1.0</td>\n",
       "      <td>Urban</td>\n",
       "      <td>Y</td>\n",
       "    </tr>\n",
       "    <tr>\n",
       "      <th>4</th>\n",
       "      <td>LP001008</td>\n",
       "      <td>Male</td>\n",
       "      <td>No</td>\n",
       "      <td>0</td>\n",
       "      <td>Graduate</td>\n",
       "      <td>No</td>\n",
       "      <td>6000.0</td>\n",
       "      <td>0.0</td>\n",
       "      <td>141.0</td>\n",
       "      <td>360.0</td>\n",
       "      <td>1.0</td>\n",
       "      <td>Urban</td>\n",
       "      <td>Y</td>\n",
       "    </tr>\n",
       "  </tbody>\n",
       "</table>\n",
       "</div>"
      ],
      "text/plain": [
       "    Loan_ID Gender Married Dependents     Education Self_Employed  \\\n",
       "0  LP001002   Male      No          0      Graduate            No   \n",
       "1  LP001003   Male     Yes          1      Graduate            No   \n",
       "2  LP001005   Male     Yes          0      Graduate           Yes   \n",
       "3  LP001006   Male     Yes          0  Not Graduate            No   \n",
       "4  LP001008   Male      No          0      Graduate            No   \n",
       "\n",
       "   ApplicantIncome  CoapplicantIncome  LoanAmount  Loan_Amount_Term  \\\n",
       "0           5849.0                0.0         NaN             360.0   \n",
       "1              NaN             1508.0       128.0             360.0   \n",
       "2           3000.0                0.0        66.0             360.0   \n",
       "3           2583.0             2358.0       120.0             360.0   \n",
       "4           6000.0                0.0       141.0             360.0   \n",
       "\n",
       "   Credit_History property_Area Loan_Status  \n",
       "0             1.0         Urban           Y  \n",
       "1             1.0         Rural           N  \n",
       "2             1.0         Urban           Y  \n",
       "3             1.0         Urban           Y  \n",
       "4             1.0         Urban           Y  "
      ]
     },
     "execution_count": 3,
     "metadata": {},
     "output_type": "execute_result"
    }
   ],
   "source": [
    "df_train = pd.read_csv(r'training_set.csv', header=0)\n",
    "df_test = pd.read_csv(r'testing_set.csv', header=0)\n",
    "\n",
    "df_train.head()"
   ]
  },
  {
   "cell_type": "code",
   "execution_count": 4,
   "metadata": {
    "scrolled": true
   },
   "outputs": [
    {
     "data": {
      "text/html": [
       "<div>\n",
       "<style scoped>\n",
       "    .dataframe tbody tr th:only-of-type {\n",
       "        vertical-align: middle;\n",
       "    }\n",
       "\n",
       "    .dataframe tbody tr th {\n",
       "        vertical-align: top;\n",
       "    }\n",
       "\n",
       "    .dataframe thead th {\n",
       "        text-align: right;\n",
       "    }\n",
       "</style>\n",
       "<table border=\"1\" class=\"dataframe\">\n",
       "  <thead>\n",
       "    <tr style=\"text-align: right;\">\n",
       "      <th></th>\n",
       "      <th>Loan_ID</th>\n",
       "      <th>Gender</th>\n",
       "      <th>Married</th>\n",
       "      <th>Dependents</th>\n",
       "      <th>Education</th>\n",
       "      <th>Self_Employed</th>\n",
       "      <th>ApplicantIncome</th>\n",
       "      <th>CoapplicantIncome</th>\n",
       "      <th>LoanAmount</th>\n",
       "      <th>Loan_Amount_Term</th>\n",
       "      <th>Credit_History</th>\n",
       "      <th>property_Area</th>\n",
       "    </tr>\n",
       "  </thead>\n",
       "  <tbody>\n",
       "    <tr>\n",
       "      <th>0</th>\n",
       "      <td>LP001015</td>\n",
       "      <td>Male</td>\n",
       "      <td>Yes</td>\n",
       "      <td>0</td>\n",
       "      <td>Graduate</td>\n",
       "      <td>No</td>\n",
       "      <td>5720</td>\n",
       "      <td>0</td>\n",
       "      <td>110.0</td>\n",
       "      <td>360.0</td>\n",
       "      <td>1.0</td>\n",
       "      <td>Urban</td>\n",
       "    </tr>\n",
       "    <tr>\n",
       "      <th>1</th>\n",
       "      <td>LP001022</td>\n",
       "      <td>Male</td>\n",
       "      <td>Yes</td>\n",
       "      <td>1</td>\n",
       "      <td>Graduate</td>\n",
       "      <td>No</td>\n",
       "      <td>3076</td>\n",
       "      <td>1500</td>\n",
       "      <td>126.0</td>\n",
       "      <td>360.0</td>\n",
       "      <td>1.0</td>\n",
       "      <td>Urban</td>\n",
       "    </tr>\n",
       "    <tr>\n",
       "      <th>2</th>\n",
       "      <td>LP001031</td>\n",
       "      <td>Male</td>\n",
       "      <td>Yes</td>\n",
       "      <td>2</td>\n",
       "      <td>Graduate</td>\n",
       "      <td>No</td>\n",
       "      <td>5000</td>\n",
       "      <td>1800</td>\n",
       "      <td>208.0</td>\n",
       "      <td>360.0</td>\n",
       "      <td>1.0</td>\n",
       "      <td>Urban</td>\n",
       "    </tr>\n",
       "    <tr>\n",
       "      <th>3</th>\n",
       "      <td>LP001035</td>\n",
       "      <td>Male</td>\n",
       "      <td>Yes</td>\n",
       "      <td>2</td>\n",
       "      <td>Graduate</td>\n",
       "      <td>No</td>\n",
       "      <td>2340</td>\n",
       "      <td>2546</td>\n",
       "      <td>100.0</td>\n",
       "      <td>360.0</td>\n",
       "      <td>NaN</td>\n",
       "      <td>Urban</td>\n",
       "    </tr>\n",
       "    <tr>\n",
       "      <th>4</th>\n",
       "      <td>LP001051</td>\n",
       "      <td>Male</td>\n",
       "      <td>No</td>\n",
       "      <td>0</td>\n",
       "      <td>Not Graduate</td>\n",
       "      <td>No</td>\n",
       "      <td>3276</td>\n",
       "      <td>0</td>\n",
       "      <td>78.0</td>\n",
       "      <td>360.0</td>\n",
       "      <td>1.0</td>\n",
       "      <td>Urban</td>\n",
       "    </tr>\n",
       "  </tbody>\n",
       "</table>\n",
       "</div>"
      ],
      "text/plain": [
       "    Loan_ID Gender Married Dependents     Education Self_Employed  \\\n",
       "0  LP001015   Male     Yes          0      Graduate            No   \n",
       "1  LP001022   Male     Yes          1      Graduate            No   \n",
       "2  LP001031   Male     Yes          2      Graduate            No   \n",
       "3  LP001035   Male     Yes          2      Graduate            No   \n",
       "4  LP001051   Male      No          0  Not Graduate            No   \n",
       "\n",
       "   ApplicantIncome  CoapplicantIncome  LoanAmount  Loan_Amount_Term  \\\n",
       "0             5720                  0       110.0             360.0   \n",
       "1             3076               1500       126.0             360.0   \n",
       "2             5000               1800       208.0             360.0   \n",
       "3             2340               2546       100.0             360.0   \n",
       "4             3276                  0        78.0             360.0   \n",
       "\n",
       "   Credit_History property_Area  \n",
       "0             1.0         Urban  \n",
       "1             1.0         Urban  \n",
       "2             1.0         Urban  \n",
       "3             NaN         Urban  \n",
       "4             1.0         Urban  "
      ]
     },
     "execution_count": 4,
     "metadata": {},
     "output_type": "execute_result"
    }
   ],
   "source": [
    "df_test.head()"
   ]
  },
  {
   "cell_type": "markdown",
   "metadata": {},
   "source": [
    "<a id='5'></a>\n",
    "### EDA"
   ]
  },
  {
   "cell_type": "markdown",
   "metadata": {},
   "source": [
    "<a id='5.1'></a>\n",
    "#### Basic Data Exploration."
   ]
  },
  {
   "cell_type": "markdown",
   "metadata": {},
   "source": [
    "#### Training Data"
   ]
  },
  {
   "cell_type": "code",
   "execution_count": 5,
   "metadata": {
    "scrolled": true
   },
   "outputs": [
    {
     "name": "stdout",
     "output_type": "stream",
     "text": [
      "The shape of the data: (614, 13)\n",
      "\n",
      " Data types: \n",
      " Loan_ID               object\n",
      "Gender                object\n",
      "Married               object\n",
      "Dependents            object\n",
      "Education             object\n",
      "Self_Employed         object\n",
      "ApplicantIncome      float64\n",
      "CoapplicantIncome    float64\n",
      "LoanAmount           float64\n",
      "Loan_Amount_Term     float64\n",
      "Credit_History       float64\n",
      "property_Area         object\n",
      "Loan_Status           object\n",
      "dtype: object\n"
     ]
    }
   ],
   "source": [
    "# Checking Shape and Datatypes\n",
    "\n",
    "print(\"The shape of the data:\", df_train.shape)\n",
    "print(\"\\n Data types: \\n\", df_train.dtypes)"
   ]
  },
  {
   "cell_type": "code",
   "execution_count": 6,
   "metadata": {},
   "outputs": [
    {
     "name": "stdout",
     "output_type": "stream",
     "text": [
      "Data description:\n"
     ]
    },
    {
     "data": {
      "text/html": [
       "<div>\n",
       "<style scoped>\n",
       "    .dataframe tbody tr th:only-of-type {\n",
       "        vertical-align: middle;\n",
       "    }\n",
       "\n",
       "    .dataframe tbody tr th {\n",
       "        vertical-align: top;\n",
       "    }\n",
       "\n",
       "    .dataframe thead th {\n",
       "        text-align: right;\n",
       "    }\n",
       "</style>\n",
       "<table border=\"1\" class=\"dataframe\">\n",
       "  <thead>\n",
       "    <tr style=\"text-align: right;\">\n",
       "      <th></th>\n",
       "      <th>Loan_ID</th>\n",
       "      <th>Gender</th>\n",
       "      <th>Married</th>\n",
       "      <th>Dependents</th>\n",
       "      <th>Education</th>\n",
       "      <th>Self_Employed</th>\n",
       "      <th>ApplicantIncome</th>\n",
       "      <th>CoapplicantIncome</th>\n",
       "      <th>LoanAmount</th>\n",
       "      <th>Loan_Amount_Term</th>\n",
       "      <th>Credit_History</th>\n",
       "      <th>property_Area</th>\n",
       "      <th>Loan_Status</th>\n",
       "    </tr>\n",
       "  </thead>\n",
       "  <tbody>\n",
       "    <tr>\n",
       "      <th>count</th>\n",
       "      <td>614</td>\n",
       "      <td>599</td>\n",
       "      <td>611</td>\n",
       "      <td>599</td>\n",
       "      <td>613</td>\n",
       "      <td>582</td>\n",
       "      <td>612.000000</td>\n",
       "      <td>613.000000</td>\n",
       "      <td>592.000000</td>\n",
       "      <td>600.00000</td>\n",
       "      <td>564.000000</td>\n",
       "      <td>614</td>\n",
       "      <td>614</td>\n",
       "    </tr>\n",
       "    <tr>\n",
       "      <th>unique</th>\n",
       "      <td>614</td>\n",
       "      <td>2</td>\n",
       "      <td>2</td>\n",
       "      <td>4</td>\n",
       "      <td>2</td>\n",
       "      <td>2</td>\n",
       "      <td>NaN</td>\n",
       "      <td>NaN</td>\n",
       "      <td>NaN</td>\n",
       "      <td>NaN</td>\n",
       "      <td>NaN</td>\n",
       "      <td>3</td>\n",
       "      <td>2</td>\n",
       "    </tr>\n",
       "    <tr>\n",
       "      <th>top</th>\n",
       "      <td>LP001002</td>\n",
       "      <td>Male</td>\n",
       "      <td>Yes</td>\n",
       "      <td>0</td>\n",
       "      <td>Graduate</td>\n",
       "      <td>No</td>\n",
       "      <td>NaN</td>\n",
       "      <td>NaN</td>\n",
       "      <td>NaN</td>\n",
       "      <td>NaN</td>\n",
       "      <td>NaN</td>\n",
       "      <td>Semiurban</td>\n",
       "      <td>Y</td>\n",
       "    </tr>\n",
       "    <tr>\n",
       "      <th>freq</th>\n",
       "      <td>1</td>\n",
       "      <td>487</td>\n",
       "      <td>398</td>\n",
       "      <td>345</td>\n",
       "      <td>479</td>\n",
       "      <td>500</td>\n",
       "      <td>NaN</td>\n",
       "      <td>NaN</td>\n",
       "      <td>NaN</td>\n",
       "      <td>NaN</td>\n",
       "      <td>NaN</td>\n",
       "      <td>233</td>\n",
       "      <td>422</td>\n",
       "    </tr>\n",
       "    <tr>\n",
       "      <th>mean</th>\n",
       "      <td>NaN</td>\n",
       "      <td>NaN</td>\n",
       "      <td>NaN</td>\n",
       "      <td>NaN</td>\n",
       "      <td>NaN</td>\n",
       "      <td>NaN</td>\n",
       "      <td>5405.540850</td>\n",
       "      <td>1620.888940</td>\n",
       "      <td>146.412162</td>\n",
       "      <td>342.00000</td>\n",
       "      <td>0.842199</td>\n",
       "      <td>NaN</td>\n",
       "      <td>NaN</td>\n",
       "    </tr>\n",
       "    <tr>\n",
       "      <th>std</th>\n",
       "      <td>NaN</td>\n",
       "      <td>NaN</td>\n",
       "      <td>NaN</td>\n",
       "      <td>NaN</td>\n",
       "      <td>NaN</td>\n",
       "      <td>NaN</td>\n",
       "      <td>6118.914057</td>\n",
       "      <td>2928.624748</td>\n",
       "      <td>85.587325</td>\n",
       "      <td>65.12041</td>\n",
       "      <td>0.364878</td>\n",
       "      <td>NaN</td>\n",
       "      <td>NaN</td>\n",
       "    </tr>\n",
       "    <tr>\n",
       "      <th>min</th>\n",
       "      <td>NaN</td>\n",
       "      <td>NaN</td>\n",
       "      <td>NaN</td>\n",
       "      <td>NaN</td>\n",
       "      <td>NaN</td>\n",
       "      <td>NaN</td>\n",
       "      <td>150.000000</td>\n",
       "      <td>0.000000</td>\n",
       "      <td>9.000000</td>\n",
       "      <td>12.00000</td>\n",
       "      <td>0.000000</td>\n",
       "      <td>NaN</td>\n",
       "      <td>NaN</td>\n",
       "    </tr>\n",
       "    <tr>\n",
       "      <th>25%</th>\n",
       "      <td>NaN</td>\n",
       "      <td>NaN</td>\n",
       "      <td>NaN</td>\n",
       "      <td>NaN</td>\n",
       "      <td>NaN</td>\n",
       "      <td>NaN</td>\n",
       "      <td>2875.750000</td>\n",
       "      <td>0.000000</td>\n",
       "      <td>100.000000</td>\n",
       "      <td>360.00000</td>\n",
       "      <td>1.000000</td>\n",
       "      <td>NaN</td>\n",
       "      <td>NaN</td>\n",
       "    </tr>\n",
       "    <tr>\n",
       "      <th>50%</th>\n",
       "      <td>NaN</td>\n",
       "      <td>NaN</td>\n",
       "      <td>NaN</td>\n",
       "      <td>NaN</td>\n",
       "      <td>NaN</td>\n",
       "      <td>NaN</td>\n",
       "      <td>3806.000000</td>\n",
       "      <td>1167.000000</td>\n",
       "      <td>128.000000</td>\n",
       "      <td>360.00000</td>\n",
       "      <td>1.000000</td>\n",
       "      <td>NaN</td>\n",
       "      <td>NaN</td>\n",
       "    </tr>\n",
       "    <tr>\n",
       "      <th>75%</th>\n",
       "      <td>NaN</td>\n",
       "      <td>NaN</td>\n",
       "      <td>NaN</td>\n",
       "      <td>NaN</td>\n",
       "      <td>NaN</td>\n",
       "      <td>NaN</td>\n",
       "      <td>5803.750000</td>\n",
       "      <td>2302.000000</td>\n",
       "      <td>168.000000</td>\n",
       "      <td>360.00000</td>\n",
       "      <td>1.000000</td>\n",
       "      <td>NaN</td>\n",
       "      <td>NaN</td>\n",
       "    </tr>\n",
       "    <tr>\n",
       "      <th>max</th>\n",
       "      <td>NaN</td>\n",
       "      <td>NaN</td>\n",
       "      <td>NaN</td>\n",
       "      <td>NaN</td>\n",
       "      <td>NaN</td>\n",
       "      <td>NaN</td>\n",
       "      <td>81000.000000</td>\n",
       "      <td>41667.000000</td>\n",
       "      <td>700.000000</td>\n",
       "      <td>480.00000</td>\n",
       "      <td>1.000000</td>\n",
       "      <td>NaN</td>\n",
       "      <td>NaN</td>\n",
       "    </tr>\n",
       "  </tbody>\n",
       "</table>\n",
       "</div>"
      ],
      "text/plain": [
       "         Loan_ID Gender Married Dependents Education Self_Employed  \\\n",
       "count        614    599     611        599       613           582   \n",
       "unique       614      2       2          4         2             2   \n",
       "top     LP001002   Male     Yes          0  Graduate            No   \n",
       "freq           1    487     398        345       479           500   \n",
       "mean         NaN    NaN     NaN        NaN       NaN           NaN   \n",
       "std          NaN    NaN     NaN        NaN       NaN           NaN   \n",
       "min          NaN    NaN     NaN        NaN       NaN           NaN   \n",
       "25%          NaN    NaN     NaN        NaN       NaN           NaN   \n",
       "50%          NaN    NaN     NaN        NaN       NaN           NaN   \n",
       "75%          NaN    NaN     NaN        NaN       NaN           NaN   \n",
       "max          NaN    NaN     NaN        NaN       NaN           NaN   \n",
       "\n",
       "        ApplicantIncome  CoapplicantIncome  LoanAmount  Loan_Amount_Term  \\\n",
       "count        612.000000         613.000000  592.000000         600.00000   \n",
       "unique              NaN                NaN         NaN               NaN   \n",
       "top                 NaN                NaN         NaN               NaN   \n",
       "freq                NaN                NaN         NaN               NaN   \n",
       "mean        5405.540850        1620.888940  146.412162         342.00000   \n",
       "std         6118.914057        2928.624748   85.587325          65.12041   \n",
       "min          150.000000           0.000000    9.000000          12.00000   \n",
       "25%         2875.750000           0.000000  100.000000         360.00000   \n",
       "50%         3806.000000        1167.000000  128.000000         360.00000   \n",
       "75%         5803.750000        2302.000000  168.000000         360.00000   \n",
       "max        81000.000000       41667.000000  700.000000         480.00000   \n",
       "\n",
       "        Credit_History property_Area Loan_Status  \n",
       "count       564.000000           614         614  \n",
       "unique             NaN             3           2  \n",
       "top                NaN     Semiurban           Y  \n",
       "freq               NaN           233         422  \n",
       "mean          0.842199           NaN         NaN  \n",
       "std           0.364878           NaN         NaN  \n",
       "min           0.000000           NaN         NaN  \n",
       "25%           1.000000           NaN         NaN  \n",
       "50%           1.000000           NaN         NaN  \n",
       "75%           1.000000           NaN         NaN  \n",
       "max           1.000000           NaN         NaN  "
      ]
     },
     "execution_count": 6,
     "metadata": {},
     "output_type": "execute_result"
    }
   ],
   "source": [
    "# Checking Statistical Summary\n",
    "\n",
    "print(\"Data description:\")\n",
    "df_train.describe(include=\"all\")"
   ]
  },
  {
   "cell_type": "code",
   "execution_count": 7,
   "metadata": {},
   "outputs": [
    {
     "name": "stdout",
     "output_type": "stream",
     "text": [
      "Data Information: \n",
      "\n",
      "\n",
      "<class 'pandas.core.frame.DataFrame'>\n",
      "RangeIndex: 614 entries, 0 to 613\n",
      "Data columns (total 13 columns):\n",
      " #   Column             Non-Null Count  Dtype  \n",
      "---  ------             --------------  -----  \n",
      " 0   Loan_ID            614 non-null    object \n",
      " 1   Gender             599 non-null    object \n",
      " 2   Married            611 non-null    object \n",
      " 3   Dependents         599 non-null    object \n",
      " 4   Education          613 non-null    object \n",
      " 5   Self_Employed      582 non-null    object \n",
      " 6   ApplicantIncome    612 non-null    float64\n",
      " 7   CoapplicantIncome  613 non-null    float64\n",
      " 8   LoanAmount         592 non-null    float64\n",
      " 9   Loan_Amount_Term   600 non-null    float64\n",
      " 10  Credit_History     564 non-null    float64\n",
      " 11  property_Area      614 non-null    object \n",
      " 12  Loan_Status        614 non-null    object \n",
      "dtypes: float64(5), object(8)\n",
      "memory usage: 62.5+ KB\n"
     ]
    }
   ],
   "source": [
    "# Checking non-null values and datatype of each feature and the total memory used by the dataframe\n",
    "\n",
    "print(\"Data Information: \\n\\n\")\n",
    "df_train.info();"
   ]
  },
  {
   "cell_type": "code",
   "execution_count": 8,
   "metadata": {
    "scrolled": true
   },
   "outputs": [
    {
     "data": {
      "text/plain": [
       "Index(['Loan_ID', 'Gender', 'Married', 'Dependents', 'Education',\n",
       "       'Self_Employed', 'ApplicantIncome', 'CoapplicantIncome', 'LoanAmount',\n",
       "       'Loan_Amount_Term', 'Credit_History', 'property_Area', 'Loan_Status'],\n",
       "      dtype='object')"
      ]
     },
     "execution_count": 8,
     "metadata": {},
     "output_type": "execute_result"
    }
   ],
   "source": [
    "# Checking column names\n",
    "\n",
    "df_train.columns"
   ]
  },
  {
   "cell_type": "markdown",
   "metadata": {},
   "source": [
    "Checking for singularity and high-cardinality."
   ]
  },
  {
   "cell_type": "code",
   "execution_count": 9,
   "metadata": {
    "scrolled": false
   },
   "outputs": [
    {
     "name": "stdout",
     "output_type": "stream",
     "text": [
      "Gender :\n",
      " Male      487\n",
      "Female    112\n",
      "Name: Gender, dtype: int64 :\n",
      "\n",
      "Married :\n",
      " Yes    398\n",
      "No     213\n",
      "Name: Married, dtype: int64 :\n",
      "\n",
      "Dependents :\n",
      " 0     345\n",
      "1     102\n",
      "2     101\n",
      "3+     51\n",
      "Name: Dependents, dtype: int64 :\n",
      "\n",
      "Education :\n",
      " Graduate        479\n",
      "Not Graduate    134\n",
      "Name: Education, dtype: int64 :\n",
      "\n",
      "Self_Employed :\n",
      " No     500\n",
      "Yes     82\n",
      "Name: Self_Employed, dtype: int64 :\n",
      "\n",
      "Loan_Amount_Term :\n",
      " 360.0    512\n",
      "180.0     44\n",
      "480.0     15\n",
      "300.0     13\n",
      "240.0      4\n",
      "84.0       4\n",
      "120.0      3\n",
      "60.0       2\n",
      "36.0       2\n",
      "12.0       1\n",
      "Name: Loan_Amount_Term, dtype: int64 :\n",
      "\n",
      "Credit_History :\n",
      " 1.0    475\n",
      "0.0     89\n",
      "Name: Credit_History, dtype: int64 :\n",
      "\n",
      "property_Area :\n",
      " Semiurban    233\n",
      "Urban        202\n",
      "Rural        179\n",
      "Name: property_Area, dtype: int64 :\n",
      "\n",
      "Loan_Status :\n",
      " Y    422\n",
      "N    192\n",
      "Name: Loan_Status, dtype: int64 :\n",
      "\n"
     ]
    }
   ],
   "source": [
    "columns = ['Gender', 'Married', 'Dependents', 'Education', 'Self_Employed','Loan_Amount_Term', \n",
    "           'Credit_History', 'property_Area', 'Loan_Status']\n",
    "\n",
    "for col in columns:\n",
    "    print(col, \":\\n\", df_train[col].value_counts(), \":\\n\")"
   ]
  },
  {
   "cell_type": "markdown",
   "metadata": {},
   "source": [
    "#### Testing Data"
   ]
  },
  {
   "cell_type": "code",
   "execution_count": 10,
   "metadata": {
    "scrolled": true
   },
   "outputs": [
    {
     "name": "stdout",
     "output_type": "stream",
     "text": [
      "The shape of the data: (367, 12)\n",
      "\n",
      " Data types: \n",
      " Loan_ID               object\n",
      "Gender                object\n",
      "Married               object\n",
      "Dependents            object\n",
      "Education             object\n",
      "Self_Employed         object\n",
      "ApplicantIncome        int64\n",
      "CoapplicantIncome      int64\n",
      "LoanAmount           float64\n",
      "Loan_Amount_Term     float64\n",
      "Credit_History       float64\n",
      "property_Area         object\n",
      "dtype: object\n"
     ]
    }
   ],
   "source": [
    "# Checking Shape and Datatypes\n",
    "\n",
    "print(\"The shape of the data:\", df_test.shape)\n",
    "print(\"\\n Data types: \\n\", df_test.dtypes)"
   ]
  },
  {
   "cell_type": "code",
   "execution_count": 11,
   "metadata": {},
   "outputs": [
    {
     "name": "stdout",
     "output_type": "stream",
     "text": [
      "Data description:\n"
     ]
    },
    {
     "data": {
      "text/html": [
       "<div>\n",
       "<style scoped>\n",
       "    .dataframe tbody tr th:only-of-type {\n",
       "        vertical-align: middle;\n",
       "    }\n",
       "\n",
       "    .dataframe tbody tr th {\n",
       "        vertical-align: top;\n",
       "    }\n",
       "\n",
       "    .dataframe thead th {\n",
       "        text-align: right;\n",
       "    }\n",
       "</style>\n",
       "<table border=\"1\" class=\"dataframe\">\n",
       "  <thead>\n",
       "    <tr style=\"text-align: right;\">\n",
       "      <th></th>\n",
       "      <th>Loan_ID</th>\n",
       "      <th>Gender</th>\n",
       "      <th>Married</th>\n",
       "      <th>Dependents</th>\n",
       "      <th>Education</th>\n",
       "      <th>Self_Employed</th>\n",
       "      <th>ApplicantIncome</th>\n",
       "      <th>CoapplicantIncome</th>\n",
       "      <th>LoanAmount</th>\n",
       "      <th>Loan_Amount_Term</th>\n",
       "      <th>Credit_History</th>\n",
       "      <th>property_Area</th>\n",
       "    </tr>\n",
       "  </thead>\n",
       "  <tbody>\n",
       "    <tr>\n",
       "      <th>count</th>\n",
       "      <td>367</td>\n",
       "      <td>356</td>\n",
       "      <td>367</td>\n",
       "      <td>357</td>\n",
       "      <td>367</td>\n",
       "      <td>344</td>\n",
       "      <td>367.000000</td>\n",
       "      <td>367.000000</td>\n",
       "      <td>362.000000</td>\n",
       "      <td>361.000000</td>\n",
       "      <td>338.000000</td>\n",
       "      <td>367</td>\n",
       "    </tr>\n",
       "    <tr>\n",
       "      <th>unique</th>\n",
       "      <td>367</td>\n",
       "      <td>2</td>\n",
       "      <td>2</td>\n",
       "      <td>4</td>\n",
       "      <td>2</td>\n",
       "      <td>2</td>\n",
       "      <td>NaN</td>\n",
       "      <td>NaN</td>\n",
       "      <td>NaN</td>\n",
       "      <td>NaN</td>\n",
       "      <td>NaN</td>\n",
       "      <td>3</td>\n",
       "    </tr>\n",
       "    <tr>\n",
       "      <th>top</th>\n",
       "      <td>LP001015</td>\n",
       "      <td>Male</td>\n",
       "      <td>Yes</td>\n",
       "      <td>0</td>\n",
       "      <td>Graduate</td>\n",
       "      <td>No</td>\n",
       "      <td>NaN</td>\n",
       "      <td>NaN</td>\n",
       "      <td>NaN</td>\n",
       "      <td>NaN</td>\n",
       "      <td>NaN</td>\n",
       "      <td>Urban</td>\n",
       "    </tr>\n",
       "    <tr>\n",
       "      <th>freq</th>\n",
       "      <td>1</td>\n",
       "      <td>286</td>\n",
       "      <td>233</td>\n",
       "      <td>200</td>\n",
       "      <td>283</td>\n",
       "      <td>307</td>\n",
       "      <td>NaN</td>\n",
       "      <td>NaN</td>\n",
       "      <td>NaN</td>\n",
       "      <td>NaN</td>\n",
       "      <td>NaN</td>\n",
       "      <td>140</td>\n",
       "    </tr>\n",
       "    <tr>\n",
       "      <th>mean</th>\n",
       "      <td>NaN</td>\n",
       "      <td>NaN</td>\n",
       "      <td>NaN</td>\n",
       "      <td>NaN</td>\n",
       "      <td>NaN</td>\n",
       "      <td>NaN</td>\n",
       "      <td>4805.599455</td>\n",
       "      <td>1569.577657</td>\n",
       "      <td>136.132597</td>\n",
       "      <td>342.537396</td>\n",
       "      <td>0.825444</td>\n",
       "      <td>NaN</td>\n",
       "    </tr>\n",
       "    <tr>\n",
       "      <th>std</th>\n",
       "      <td>NaN</td>\n",
       "      <td>NaN</td>\n",
       "      <td>NaN</td>\n",
       "      <td>NaN</td>\n",
       "      <td>NaN</td>\n",
       "      <td>NaN</td>\n",
       "      <td>4910.685399</td>\n",
       "      <td>2334.232099</td>\n",
       "      <td>61.366652</td>\n",
       "      <td>65.156643</td>\n",
       "      <td>0.380150</td>\n",
       "      <td>NaN</td>\n",
       "    </tr>\n",
       "    <tr>\n",
       "      <th>min</th>\n",
       "      <td>NaN</td>\n",
       "      <td>NaN</td>\n",
       "      <td>NaN</td>\n",
       "      <td>NaN</td>\n",
       "      <td>NaN</td>\n",
       "      <td>NaN</td>\n",
       "      <td>0.000000</td>\n",
       "      <td>0.000000</td>\n",
       "      <td>28.000000</td>\n",
       "      <td>6.000000</td>\n",
       "      <td>0.000000</td>\n",
       "      <td>NaN</td>\n",
       "    </tr>\n",
       "    <tr>\n",
       "      <th>25%</th>\n",
       "      <td>NaN</td>\n",
       "      <td>NaN</td>\n",
       "      <td>NaN</td>\n",
       "      <td>NaN</td>\n",
       "      <td>NaN</td>\n",
       "      <td>NaN</td>\n",
       "      <td>2864.000000</td>\n",
       "      <td>0.000000</td>\n",
       "      <td>100.250000</td>\n",
       "      <td>360.000000</td>\n",
       "      <td>1.000000</td>\n",
       "      <td>NaN</td>\n",
       "    </tr>\n",
       "    <tr>\n",
       "      <th>50%</th>\n",
       "      <td>NaN</td>\n",
       "      <td>NaN</td>\n",
       "      <td>NaN</td>\n",
       "      <td>NaN</td>\n",
       "      <td>NaN</td>\n",
       "      <td>NaN</td>\n",
       "      <td>3786.000000</td>\n",
       "      <td>1025.000000</td>\n",
       "      <td>125.000000</td>\n",
       "      <td>360.000000</td>\n",
       "      <td>1.000000</td>\n",
       "      <td>NaN</td>\n",
       "    </tr>\n",
       "    <tr>\n",
       "      <th>75%</th>\n",
       "      <td>NaN</td>\n",
       "      <td>NaN</td>\n",
       "      <td>NaN</td>\n",
       "      <td>NaN</td>\n",
       "      <td>NaN</td>\n",
       "      <td>NaN</td>\n",
       "      <td>5060.000000</td>\n",
       "      <td>2430.500000</td>\n",
       "      <td>158.000000</td>\n",
       "      <td>360.000000</td>\n",
       "      <td>1.000000</td>\n",
       "      <td>NaN</td>\n",
       "    </tr>\n",
       "    <tr>\n",
       "      <th>max</th>\n",
       "      <td>NaN</td>\n",
       "      <td>NaN</td>\n",
       "      <td>NaN</td>\n",
       "      <td>NaN</td>\n",
       "      <td>NaN</td>\n",
       "      <td>NaN</td>\n",
       "      <td>72529.000000</td>\n",
       "      <td>24000.000000</td>\n",
       "      <td>550.000000</td>\n",
       "      <td>480.000000</td>\n",
       "      <td>1.000000</td>\n",
       "      <td>NaN</td>\n",
       "    </tr>\n",
       "  </tbody>\n",
       "</table>\n",
       "</div>"
      ],
      "text/plain": [
       "         Loan_ID Gender Married Dependents Education Self_Employed  \\\n",
       "count        367    356     367        357       367           344   \n",
       "unique       367      2       2          4         2             2   \n",
       "top     LP001015   Male     Yes          0  Graduate            No   \n",
       "freq           1    286     233        200       283           307   \n",
       "mean         NaN    NaN     NaN        NaN       NaN           NaN   \n",
       "std          NaN    NaN     NaN        NaN       NaN           NaN   \n",
       "min          NaN    NaN     NaN        NaN       NaN           NaN   \n",
       "25%          NaN    NaN     NaN        NaN       NaN           NaN   \n",
       "50%          NaN    NaN     NaN        NaN       NaN           NaN   \n",
       "75%          NaN    NaN     NaN        NaN       NaN           NaN   \n",
       "max          NaN    NaN     NaN        NaN       NaN           NaN   \n",
       "\n",
       "        ApplicantIncome  CoapplicantIncome  LoanAmount  Loan_Amount_Term  \\\n",
       "count        367.000000         367.000000  362.000000        361.000000   \n",
       "unique              NaN                NaN         NaN               NaN   \n",
       "top                 NaN                NaN         NaN               NaN   \n",
       "freq                NaN                NaN         NaN               NaN   \n",
       "mean        4805.599455        1569.577657  136.132597        342.537396   \n",
       "std         4910.685399        2334.232099   61.366652         65.156643   \n",
       "min            0.000000           0.000000   28.000000          6.000000   \n",
       "25%         2864.000000           0.000000  100.250000        360.000000   \n",
       "50%         3786.000000        1025.000000  125.000000        360.000000   \n",
       "75%         5060.000000        2430.500000  158.000000        360.000000   \n",
       "max        72529.000000       24000.000000  550.000000        480.000000   \n",
       "\n",
       "        Credit_History property_Area  \n",
       "count       338.000000           367  \n",
       "unique             NaN             3  \n",
       "top                NaN         Urban  \n",
       "freq               NaN           140  \n",
       "mean          0.825444           NaN  \n",
       "std           0.380150           NaN  \n",
       "min           0.000000           NaN  \n",
       "25%           1.000000           NaN  \n",
       "50%           1.000000           NaN  \n",
       "75%           1.000000           NaN  \n",
       "max           1.000000           NaN  "
      ]
     },
     "execution_count": 11,
     "metadata": {},
     "output_type": "execute_result"
    }
   ],
   "source": [
    "# Checking Statistical Summary\n",
    "\n",
    "print(\"Data description:\")\n",
    "df_test.describe(include=\"all\")"
   ]
  },
  {
   "cell_type": "code",
   "execution_count": 12,
   "metadata": {},
   "outputs": [
    {
     "name": "stdout",
     "output_type": "stream",
     "text": [
      "Data Information: \n",
      "\n",
      "\n",
      "<class 'pandas.core.frame.DataFrame'>\n",
      "RangeIndex: 367 entries, 0 to 366\n",
      "Data columns (total 12 columns):\n",
      " #   Column             Non-Null Count  Dtype  \n",
      "---  ------             --------------  -----  \n",
      " 0   Loan_ID            367 non-null    object \n",
      " 1   Gender             356 non-null    object \n",
      " 2   Married            367 non-null    object \n",
      " 3   Dependents         357 non-null    object \n",
      " 4   Education          367 non-null    object \n",
      " 5   Self_Employed      344 non-null    object \n",
      " 6   ApplicantIncome    367 non-null    int64  \n",
      " 7   CoapplicantIncome  367 non-null    int64  \n",
      " 8   LoanAmount         362 non-null    float64\n",
      " 9   Loan_Amount_Term   361 non-null    float64\n",
      " 10  Credit_History     338 non-null    float64\n",
      " 11  property_Area      367 non-null    object \n",
      "dtypes: float64(3), int64(2), object(7)\n",
      "memory usage: 34.5+ KB\n"
     ]
    }
   ],
   "source": [
    "# Checking non-null values and datatype of each feature and the total memory used by the dataframe\n",
    "\n",
    "print(\"Data Information: \\n\\n\")\n",
    "df_test.info();"
   ]
  },
  {
   "cell_type": "code",
   "execution_count": 13,
   "metadata": {
    "scrolled": true
   },
   "outputs": [
    {
     "data": {
      "text/plain": [
       "Index(['Loan_ID', 'Gender', 'Married', 'Dependents', 'Education',\n",
       "       'Self_Employed', 'ApplicantIncome', 'CoapplicantIncome', 'LoanAmount',\n",
       "       'Loan_Amount_Term', 'Credit_History', 'property_Area'],\n",
       "      dtype='object')"
      ]
     },
     "execution_count": 13,
     "metadata": {},
     "output_type": "execute_result"
    }
   ],
   "source": [
    "# Checking column names\n",
    "\n",
    "df_test.columns"
   ]
  },
  {
   "cell_type": "markdown",
   "metadata": {},
   "source": [
    "<a id='5.2'></a>\n",
    "### Visualizations"
   ]
  },
  {
   "cell_type": "code",
   "execution_count": 21,
   "metadata": {
    "scrolled": true
   },
   "outputs": [
    {
     "data": {
      "text/plain": [
       "Text(0.5, 1.0, 'Count-Plot for Loan_Status')"
      ]
     },
     "execution_count": 21,
     "metadata": {},
     "output_type": "execute_result"
    },
    {
     "data": {
      "image/png": "[encoded data removed]",
      "text/plain": [
       "<Figure size 432x288 with 1 Axes>"
      ]
     },
     "metadata": {
      "needs_background": "light"
     },
     "output_type": "display_data"
    }
   ],
   "source": [
    "# Count-Plot for Target Variable:\n",
    "\n",
    "plt.figure(figsize=(6, 4))\n",
    "sns.countplot(x='Loan_Status', data=df_train)\n",
    "plt.title('Count-Plot for Loan_Status')"
   ]
  },
  {
   "cell_type": "markdown",
   "metadata": {},
   "source": [
    "A higher number of loan applications (422) were approved (Y) compared to the instances where the applications were rejected (N), which amounted to 192."
   ]
  },
  {
   "cell_type": "code",
   "execution_count": 14,
   "metadata": {
    "scrolled": false
   },
   "outputs": [
    {
     "data": {
      "image/png": "[encoded data removed]",
      "text/plain": [
       "<Figure size 864x432 with 6 Axes>"
      ]
     },
     "metadata": {
      "needs_background": "light"
     },
     "output_type": "display_data"
    }
   ],
   "source": [
    "# Count-Plot for Categorical X vs Y Variable\n",
    "\n",
    "countplot_list = [\"Gender\",\"Married\",\"Dependents\",\"Education\",\"Self_Employed\",\"property_Area\"]\n",
    "plt.figure(figsize=(12,6))\n",
    "x=1\n",
    "for i in countplot_list:\n",
    "    plt.subplot(2,3,x)\n",
    "    sns.countplot(x=i,hue='Loan_Status',data=df_train)\n",
    "    plt.title(f'{i} vs Loan_Status')\n",
    "    x = x + 1\n",
    "plt.tight_layout()"
   ]
  },
  {
   "cell_type": "code",
   "execution_count": 15,
   "metadata": {},
   "outputs": [
    {
     "data": {
      "image/png": "[encoded data removed]",
      "text/plain": [
       "<Figure size 864x432 with 6 Axes>"
      ]
     },
     "metadata": {
      "needs_background": "light"
     },
     "output_type": "display_data"
    }
   ],
   "source": [
    "# Bar-charts for Categorical X vs Y Variable\n",
    "\n",
    "barplot_list = [\"Gender\",\"Married\",\"Dependents\",\"Education\",\"Self_Employed\",\"property_Area\"]\n",
    "plt.figure(figsize=(12,6))\n",
    "for i, category in enumerate(barplot_list, 1):\n",
    "    plt.subplot(2, 3, i)\n",
    "    sns.barplot(x=category, y='LoanAmount', data=df_train, estimator=np.sum)\n",
    "    plt.title(f'{category} vs LoanAmount')\n",
    "\n",
    "plt.tight_layout()\n",
    "plt.show()"
   ]
  },
  {
   "cell_type": "markdown",
   "metadata": {},
   "source": [
    "From above EDA, we got to learn that, high amount of loan was applied and high count of loan approval for customers:-\n",
    "\n",
    "* who are male\n",
    "* Who are married\n",
    "* who has no dependents.\n",
    "* who are graduated\n",
    "* who are not self employed"
   ]
  },
  {
   "cell_type": "code",
   "execution_count": 16,
   "metadata": {},
   "outputs": [
    {
     "data": {
      "text/plain": [
       "Text(0.5, 1.0, 'Boxplot for Dependents vs LoanAmount')"
      ]
     },
     "execution_count": 16,
     "metadata": {},
     "output_type": "execute_result"
    },
    {
     "data": {
      "image/png": "[encoded data removed]",
      "text/plain": [
       "<Figure size 1080x432 with 1 Axes>"
      ]
     },
     "metadata": {
      "needs_background": "light"
     },
     "output_type": "display_data"
    }
   ],
   "source": [
    "# Boxplot for Numerical Variable vs Categorical Variable:\n",
    "\n",
    "plt.figure(figsize=(15, 6))\n",
    "sns.boxplot(x='Dependents', y='LoanAmount', data=df_train)\n",
    "plt.title('Boxplot for Dependents vs LoanAmount')"
   ]
  },
  {
   "cell_type": "markdown",
   "metadata": {},
   "source": [
    "Applicants with 3 or more dependents have a wider range of loan amounts (represented by a larger IQR).  \n",
    "This implies that, on average, individuals with more dependents tend to request a broader range of loan amounts compared to those with fewer dependents."
   ]
  },
  {
   "cell_type": "code",
   "execution_count": 17,
   "metadata": {},
   "outputs": [
    {
     "data": {
      "text/plain": [
       "Text(0.5, 1.0, 'Distribution of LoanAmount')"
      ]
     },
     "execution_count": 17,
     "metadata": {},
     "output_type": "execute_result"
    },
    {
     "data": {
      "image/png": "[encoded data removed]",
      "text/plain": [
       "<Figure size 576x360 with 1 Axes>"
      ]
     },
     "metadata": {
      "needs_background": "light"
     },
     "output_type": "display_data"
    }
   ],
   "source": [
    "# Distribution Plot for Numerical Variable:\n",
    "\n",
    "plt.figure(figsize=(8, 5))\n",
    "sns.histplot(df_train['LoanAmount'], bins=30, kde=True)\n",
    "plt.title('Distribution of LoanAmount')"
   ]
  },
  {
   "cell_type": "markdown",
   "metadata": {},
   "source": [
    "Most applicants request loan amounts within a moderate range (0-300).  \n",
    "A smaller number of applicants have requested higher loan amounts, creating the right tail."
   ]
  },
  {
   "cell_type": "code",
   "execution_count": 18,
   "metadata": {},
   "outputs": [
    {
     "data": {
      "text/plain": [
       "Text(0.5, 1.0, 'Correlation Heatmap')"
      ]
     },
     "execution_count": 18,
     "metadata": {},
     "output_type": "execute_result"
    },
    {
     "data": {
      "image/png": "[encoded data removed]",
      "text/plain": [
       "<Figure size 720x576 with 2 Axes>"
      ]
     },
     "metadata": {
      "needs_background": "light"
     },
     "output_type": "display_data"
    }
   ],
   "source": [
    "# Correlation Heatmap:\n",
    "\n",
    "plt.figure(figsize=(10, 8))\n",
    "correlation_matrix = df_train.corr()\n",
    "sns.heatmap(correlation_matrix, annot=True, cmap='coolwarm', fmt=\".2f\")\n",
    "plt.title('Correlation Heatmap')"
   ]
  },
  {
   "cell_type": "markdown",
   "metadata": {},
   "source": [
    "**ApplicantIncome vs. LoanAmount (0.57):** There is a moderate positive connection. As ApplicantIncome goes up, the requested LoanAmount also tends to increase.\n",
    "\n",
    "**CoapplicantIncome vs. LoanAmount (0.19):** The positive relationship is weaker compared to ApplicantIncome. Higher CoapplicantIncome is somewhat associated with higher LoanAmount.\n",
    "\n",
    "**ApplicantIncome vs. CoapplicantIncome (-0.12):** There is a weak negative link. As ApplicantIncome increases, there's a slight tendency for CoapplicantIncome to decrease."
   ]
  },
  {
   "cell_type": "code",
   "execution_count": 19,
   "metadata": {},
   "outputs": [
    {
     "data": {
      "text/plain": [
       "Text(0.5, 1.02, 'Pairplot for Numerical Variables')"
      ]
     },
     "execution_count": 19,
     "metadata": {},
     "output_type": "execute_result"
    },
    {
     "data": {
      "image/png": "[encoded data removed]",
      "text/plain": [
       "<Figure size 540x540 with 12 Axes>"
      ]
     },
     "metadata": {
      "needs_background": "light"
     },
     "output_type": "display_data"
    }
   ],
   "source": [
    "# Pairplot for Numerical Variables:\n",
    "\n",
    "numerical_columns = ['ApplicantIncome', 'CoapplicantIncome', 'LoanAmount']\n",
    "sns.pairplot(df_train[numerical_columns])\n",
    "plt.suptitle('Pairplot for Numerical Variables', y=1.02)"
   ]
  },
  {
   "cell_type": "markdown",
   "metadata": {},
   "source": [
    "The high peaks on the left in the diagonal plots and the clustering in the lower values in the scatter plots suggest that a significant portion of applicants and coapplicants has lower incomes and tends to request lower loan amounts.  \n",
    "The presence of extreme values in the scatter plots indicates that there are cases where applicants with lower incomes request higher loan amounts, and vice versa."
   ]
  },
  {
   "cell_type": "code",
   "execution_count": 20,
   "metadata": {},
   "outputs": [
    {
     "data": {
      "text/plain": [
       "Text(0.5, 1.0, 'Violin Plot for Education vs LoanAmount')"
      ]
     },
     "execution_count": 20,
     "metadata": {},
     "output_type": "execute_result"
    },
    {
     "data": {
      "image/png": "[encoded data removed]",
      "text/plain": [
       "<Figure size 864x432 with 1 Axes>"
      ]
     },
     "metadata": {
      "needs_background": "light"
     },
     "output_type": "display_data"
    }
   ],
   "source": [
    "# Violin Plot for Categorical Variable vs Numerical Variable:\n",
    "\n",
    "plt.figure(figsize=(12, 6))\n",
    "sns.violinplot(x='Education', y='LoanAmount', data=df_train)\n",
    "plt.title('Violin Plot for Education vs LoanAmount')"
   ]
  },
  {
   "cell_type": "markdown",
   "metadata": {},
   "source": [
    "Graduates show less variability, but there are cases of higher loan amounts, whereas non-graduates exhibit more variability, but the highest loan amounts are generally lower."
   ]
  },
  {
   "cell_type": "markdown",
   "metadata": {},
   "source": [
    "<a id='6'></a>\n",
    "### Pre-processing the data"
   ]
  },
  {
   "cell_type": "markdown",
   "metadata": {},
   "source": [
    "<a id='6.1'></a>\n",
    "#### Checking for duplicated values"
   ]
  },
  {
   "cell_type": "code",
   "execution_count": 16,
   "metadata": {},
   "outputs": [
    {
     "name": "stdout",
     "output_type": "stream",
     "text": [
      "Duplicated records in train data: 0\n",
      "Duplicated records in test data: 0\n"
     ]
    }
   ],
   "source": [
    "print(\"Duplicated records in train data:\", df_train.duplicated().sum())\n",
    "print(\"Duplicated records in test data:\", df_test.duplicated().sum())"
   ]
  },
  {
   "cell_type": "markdown",
   "metadata": {},
   "source": [
    "<a id='6.2'></a>\n",
    "#### Checking if there are missing values. If yes, we will handle them."
   ]
  },
  {
   "cell_type": "code",
   "execution_count": 17,
   "metadata": {
    "scrolled": false
   },
   "outputs": [
    {
     "data": {
      "text/plain": [
       "Loan_ID               0\n",
       "Gender               15\n",
       "Married               3\n",
       "Dependents           15\n",
       "Education             1\n",
       "Self_Employed        32\n",
       "ApplicantIncome       2\n",
       "CoapplicantIncome     1\n",
       "LoanAmount           22\n",
       "Loan_Amount_Term     14\n",
       "Credit_History       50\n",
       "property_Area         0\n",
       "Loan_Status           0\n",
       "dtype: int64"
      ]
     },
     "execution_count": 17,
     "metadata": {},
     "output_type": "execute_result"
    }
   ],
   "source": [
    "df_train.isnull().sum()"
   ]
  },
  {
   "cell_type": "code",
   "execution_count": 18,
   "metadata": {
    "scrolled": true
   },
   "outputs": [
    {
     "data": {
      "text/plain": [
       "Loan_ID               0\n",
       "Gender               11\n",
       "Married               0\n",
       "Dependents           10\n",
       "Education             0\n",
       "Self_Employed        23\n",
       "ApplicantIncome       0\n",
       "CoapplicantIncome     0\n",
       "LoanAmount            5\n",
       "Loan_Amount_Term      6\n",
       "Credit_History       29\n",
       "property_Area         0\n",
       "dtype: int64"
      ]
     },
     "execution_count": 18,
     "metadata": {},
     "output_type": "execute_result"
    }
   ],
   "source": [
    "df_test.isnull().sum()"
   ]
  },
  {
   "cell_type": "code",
   "execution_count": 19,
   "metadata": {},
   "outputs": [
    {
     "name": "stdout",
     "output_type": "stream",
     "text": [
      "category category\n",
      "category category\n"
     ]
    }
   ],
   "source": [
    "# Fixing data types of Loan_Amount_Term & Credit_History before imputing.\n",
    "\n",
    "df_train['Loan_Amount_Term'] = df_train['Loan_Amount_Term'].astype('category')\n",
    "df_train['Credit_History'] = df_train['Credit_History'].astype('category')\n",
    "\n",
    "df_test['Loan_Amount_Term'] = df_test['Loan_Amount_Term'].astype('category')\n",
    "df_test['Credit_History'] = df_test['Credit_History'].astype('category')\n",
    "\n",
    "print(df_train.Loan_Amount_Term.dtype, df_train.Credit_History.dtype)\n",
    "print(df_test.Loan_Amount_Term.dtype, df_test.Credit_History.dtype)"
   ]
  },
  {
   "cell_type": "code",
   "execution_count": 20,
   "metadata": {},
   "outputs": [
    {
     "name": "stdout",
     "output_type": "stream",
     "text": [
      "Null values in training dataset 0\n",
      "Null values in testing dataset 0\n"
     ]
    }
   ],
   "source": [
    "# Using Function to Handle Null Values\n",
    "\n",
    "impute_missing_values(df_train)\n",
    "impute_missing_values(df_test)    \n",
    "\n",
    "# Confirming \n",
    "print(\"Null values in training dataset\", df_train.isnull().sum().sum())\n",
    "print(\"Null values in testing dataset\", df_test.isnull().sum().sum())"
   ]
  },
  {
   "cell_type": "markdown",
   "metadata": {},
   "source": [
    "<a id='6.3'></a>\n",
    "#### Feature Engineering"
   ]
  },
  {
   "cell_type": "code",
   "execution_count": 21,
   "metadata": {},
   "outputs": [],
   "source": [
    "# Adding Applicant income and coapplicant income to make total income.\n",
    "\n",
    "df_train[\"TotalIncome\"] = df_train[\"ApplicantIncome\"] + df_train[\"CoapplicantIncome\"]\n",
    "df_test[\"TotalIncome\"] = df_test[\"ApplicantIncome\"] + df_test[\"CoapplicantIncome\"]\n",
    "\n",
    "# Dropping Applicant income and coapplicant income\n",
    "\n",
    "df_train = df_train.drop([\"ApplicantIncome\",\"CoapplicantIncome\"],axis=1)\n",
    "df_test = df_test.drop([\"ApplicantIncome\",\"CoapplicantIncome\"],axis=1)"
   ]
  },
  {
   "cell_type": "code",
   "execution_count": 22,
   "metadata": {},
   "outputs": [
    {
     "data": {
      "text/html": [
       "<div>\n",
       "<style scoped>\n",
       "    .dataframe tbody tr th:only-of-type {\n",
       "        vertical-align: middle;\n",
       "    }\n",
       "\n",
       "    .dataframe tbody tr th {\n",
       "        vertical-align: top;\n",
       "    }\n",
       "\n",
       "    .dataframe thead th {\n",
       "        text-align: right;\n",
       "    }\n",
       "</style>\n",
       "<table border=\"1\" class=\"dataframe\">\n",
       "  <thead>\n",
       "    <tr style=\"text-align: right;\">\n",
       "      <th></th>\n",
       "      <th>Loan_ID</th>\n",
       "      <th>Gender</th>\n",
       "      <th>Married</th>\n",
       "      <th>Dependents</th>\n",
       "      <th>Education</th>\n",
       "      <th>Self_Employed</th>\n",
       "      <th>LoanAmount</th>\n",
       "      <th>Loan_Amount_Term</th>\n",
       "      <th>Credit_History</th>\n",
       "      <th>property_Area</th>\n",
       "      <th>Loan_Status</th>\n",
       "      <th>TotalIncome</th>\n",
       "    </tr>\n",
       "  </thead>\n",
       "  <tbody>\n",
       "    <tr>\n",
       "      <th>0</th>\n",
       "      <td>LP001002</td>\n",
       "      <td>Male</td>\n",
       "      <td>No</td>\n",
       "      <td>0</td>\n",
       "      <td>Graduate</td>\n",
       "      <td>No</td>\n",
       "      <td>146.412162</td>\n",
       "      <td>360.0</td>\n",
       "      <td>1.0</td>\n",
       "      <td>Urban</td>\n",
       "      <td>Y</td>\n",
       "      <td>5849.00000</td>\n",
       "    </tr>\n",
       "    <tr>\n",
       "      <th>1</th>\n",
       "      <td>LP001003</td>\n",
       "      <td>Male</td>\n",
       "      <td>Yes</td>\n",
       "      <td>1</td>\n",
       "      <td>Graduate</td>\n",
       "      <td>No</td>\n",
       "      <td>128.000000</td>\n",
       "      <td>360.0</td>\n",
       "      <td>1.0</td>\n",
       "      <td>Rural</td>\n",
       "      <td>N</td>\n",
       "      <td>6913.54085</td>\n",
       "    </tr>\n",
       "    <tr>\n",
       "      <th>2</th>\n",
       "      <td>LP001005</td>\n",
       "      <td>Male</td>\n",
       "      <td>Yes</td>\n",
       "      <td>0</td>\n",
       "      <td>Graduate</td>\n",
       "      <td>Yes</td>\n",
       "      <td>66.000000</td>\n",
       "      <td>360.0</td>\n",
       "      <td>1.0</td>\n",
       "      <td>Urban</td>\n",
       "      <td>Y</td>\n",
       "      <td>3000.00000</td>\n",
       "    </tr>\n",
       "    <tr>\n",
       "      <th>3</th>\n",
       "      <td>LP001006</td>\n",
       "      <td>Male</td>\n",
       "      <td>Yes</td>\n",
       "      <td>0</td>\n",
       "      <td>Not Graduate</td>\n",
       "      <td>No</td>\n",
       "      <td>120.000000</td>\n",
       "      <td>360.0</td>\n",
       "      <td>1.0</td>\n",
       "      <td>Urban</td>\n",
       "      <td>Y</td>\n",
       "      <td>4941.00000</td>\n",
       "    </tr>\n",
       "    <tr>\n",
       "      <th>4</th>\n",
       "      <td>LP001008</td>\n",
       "      <td>Male</td>\n",
       "      <td>No</td>\n",
       "      <td>0</td>\n",
       "      <td>Graduate</td>\n",
       "      <td>No</td>\n",
       "      <td>141.000000</td>\n",
       "      <td>360.0</td>\n",
       "      <td>1.0</td>\n",
       "      <td>Urban</td>\n",
       "      <td>Y</td>\n",
       "      <td>6000.00000</td>\n",
       "    </tr>\n",
       "  </tbody>\n",
       "</table>\n",
       "</div>"
      ],
      "text/plain": [
       "    Loan_ID Gender Married Dependents     Education Self_Employed  LoanAmount  \\\n",
       "0  LP001002   Male      No          0      Graduate            No  146.412162   \n",
       "1  LP001003   Male     Yes          1      Graduate            No  128.000000   \n",
       "2  LP001005   Male     Yes          0      Graduate           Yes   66.000000   \n",
       "3  LP001006   Male     Yes          0  Not Graduate            No  120.000000   \n",
       "4  LP001008   Male      No          0      Graduate            No  141.000000   \n",
       "\n",
       "  Loan_Amount_Term Credit_History property_Area Loan_Status  TotalIncome  \n",
       "0            360.0            1.0         Urban           Y   5849.00000  \n",
       "1            360.0            1.0         Rural           N   6913.54085  \n",
       "2            360.0            1.0         Urban           Y   3000.00000  \n",
       "3            360.0            1.0         Urban           Y   4941.00000  \n",
       "4            360.0            1.0         Urban           Y   6000.00000  "
      ]
     },
     "execution_count": 22,
     "metadata": {},
     "output_type": "execute_result"
    }
   ],
   "source": [
    "df_train.head()"
   ]
  },
  {
   "cell_type": "code",
   "execution_count": 23,
   "metadata": {},
   "outputs": [
    {
     "data": {
      "text/html": [
       "<div>\n",
       "<style scoped>\n",
       "    .dataframe tbody tr th:only-of-type {\n",
       "        vertical-align: middle;\n",
       "    }\n",
       "\n",
       "    .dataframe tbody tr th {\n",
       "        vertical-align: top;\n",
       "    }\n",
       "\n",
       "    .dataframe thead th {\n",
       "        text-align: right;\n",
       "    }\n",
       "</style>\n",
       "<table border=\"1\" class=\"dataframe\">\n",
       "  <thead>\n",
       "    <tr style=\"text-align: right;\">\n",
       "      <th></th>\n",
       "      <th>Loan_ID</th>\n",
       "      <th>Gender</th>\n",
       "      <th>Married</th>\n",
       "      <th>Dependents</th>\n",
       "      <th>Education</th>\n",
       "      <th>Self_Employed</th>\n",
       "      <th>LoanAmount</th>\n",
       "      <th>Loan_Amount_Term</th>\n",
       "      <th>Credit_History</th>\n",
       "      <th>property_Area</th>\n",
       "      <th>TotalIncome</th>\n",
       "    </tr>\n",
       "  </thead>\n",
       "  <tbody>\n",
       "    <tr>\n",
       "      <th>0</th>\n",
       "      <td>LP001015</td>\n",
       "      <td>Male</td>\n",
       "      <td>Yes</td>\n",
       "      <td>0</td>\n",
       "      <td>Graduate</td>\n",
       "      <td>No</td>\n",
       "      <td>110.0</td>\n",
       "      <td>360.0</td>\n",
       "      <td>1.0</td>\n",
       "      <td>Urban</td>\n",
       "      <td>5720</td>\n",
       "    </tr>\n",
       "    <tr>\n",
       "      <th>1</th>\n",
       "      <td>LP001022</td>\n",
       "      <td>Male</td>\n",
       "      <td>Yes</td>\n",
       "      <td>1</td>\n",
       "      <td>Graduate</td>\n",
       "      <td>No</td>\n",
       "      <td>126.0</td>\n",
       "      <td>360.0</td>\n",
       "      <td>1.0</td>\n",
       "      <td>Urban</td>\n",
       "      <td>4576</td>\n",
       "    </tr>\n",
       "    <tr>\n",
       "      <th>2</th>\n",
       "      <td>LP001031</td>\n",
       "      <td>Male</td>\n",
       "      <td>Yes</td>\n",
       "      <td>2</td>\n",
       "      <td>Graduate</td>\n",
       "      <td>No</td>\n",
       "      <td>208.0</td>\n",
       "      <td>360.0</td>\n",
       "      <td>1.0</td>\n",
       "      <td>Urban</td>\n",
       "      <td>6800</td>\n",
       "    </tr>\n",
       "    <tr>\n",
       "      <th>3</th>\n",
       "      <td>LP001035</td>\n",
       "      <td>Male</td>\n",
       "      <td>Yes</td>\n",
       "      <td>2</td>\n",
       "      <td>Graduate</td>\n",
       "      <td>No</td>\n",
       "      <td>100.0</td>\n",
       "      <td>360.0</td>\n",
       "      <td>1.0</td>\n",
       "      <td>Urban</td>\n",
       "      <td>4886</td>\n",
       "    </tr>\n",
       "    <tr>\n",
       "      <th>4</th>\n",
       "      <td>LP001051</td>\n",
       "      <td>Male</td>\n",
       "      <td>No</td>\n",
       "      <td>0</td>\n",
       "      <td>Not Graduate</td>\n",
       "      <td>No</td>\n",
       "      <td>78.0</td>\n",
       "      <td>360.0</td>\n",
       "      <td>1.0</td>\n",
       "      <td>Urban</td>\n",
       "      <td>3276</td>\n",
       "    </tr>\n",
       "  </tbody>\n",
       "</table>\n",
       "</div>"
      ],
      "text/plain": [
       "    Loan_ID Gender Married Dependents     Education Self_Employed  LoanAmount  \\\n",
       "0  LP001015   Male     Yes          0      Graduate            No       110.0   \n",
       "1  LP001022   Male     Yes          1      Graduate            No       126.0   \n",
       "2  LP001031   Male     Yes          2      Graduate            No       208.0   \n",
       "3  LP001035   Male     Yes          2      Graduate            No       100.0   \n",
       "4  LP001051   Male      No          0  Not Graduate            No        78.0   \n",
       "\n",
       "  Loan_Amount_Term Credit_History property_Area  TotalIncome  \n",
       "0            360.0            1.0         Urban         5720  \n",
       "1            360.0            1.0         Urban         4576  \n",
       "2            360.0            1.0         Urban         6800  \n",
       "3            360.0            1.0         Urban         4886  \n",
       "4            360.0            1.0         Urban         3276  "
      ]
     },
     "execution_count": 23,
     "metadata": {},
     "output_type": "execute_result"
    }
   ],
   "source": [
    "df_test.head()"
   ]
  },
  {
   "cell_type": "markdown",
   "metadata": {},
   "source": [
    "<a id='6.4'></a>\n",
    "#### Converting categorical variables to discrete numeric variables"
   ]
  },
  {
   "cell_type": "code",
   "execution_count": 24,
   "metadata": {
    "scrolled": true
   },
   "outputs": [
    {
     "data": {
      "text/plain": [
       "Index(['Loan_ID', 'Gender', 'Married', 'Dependents', 'Education',\n",
       "       'Self_Employed', 'LoanAmount', 'Loan_Amount_Term', 'Credit_History',\n",
       "       'property_Area', 'Loan_Status', 'TotalIncome'],\n",
       "      dtype='object')"
      ]
     },
     "execution_count": 24,
     "metadata": {},
     "output_type": "execute_result"
    }
   ],
   "source": [
    "df_train.columns"
   ]
  },
  {
   "cell_type": "code",
   "execution_count": 25,
   "metadata": {},
   "outputs": [
    {
     "data": {
      "text/plain": [
       "Index(['Loan_ID', 'Gender', 'Married', 'Dependents', 'Education',\n",
       "       'Self_Employed', 'LoanAmount', 'Loan_Amount_Term', 'Credit_History',\n",
       "       'property_Area', 'TotalIncome'],\n",
       "      dtype='object')"
      ]
     },
     "execution_count": 25,
     "metadata": {},
     "output_type": "execute_result"
    }
   ],
   "source": [
    "df_test.columns"
   ]
  },
  {
   "cell_type": "code",
   "execution_count": 26,
   "metadata": {
    "scrolled": false
   },
   "outputs": [
    {
     "name": "stdout",
     "output_type": "stream",
     "text": [
      "Feature: Gender\n",
      "Mapping: {'Female': 0, 'Male': 1}\n",
      "Feature: Married\n",
      "Mapping: {'No': 0, 'Yes': 1}\n",
      "Feature: Dependents\n",
      "Mapping: {'0': 0, '1': 1, '2': 2, '3+': 3}\n",
      "Feature: Education\n",
      "Mapping: {'Graduate': 0, 'Not Graduate': 1}\n",
      "Feature: Self_Employed\n",
      "Mapping: {'No': 0, 'Yes': 1}\n",
      "Feature: property_Area\n",
      "Mapping: {'Rural': 0, 'Semiurban': 1, 'Urban': 2}\n"
     ]
    }
   ],
   "source": [
    "columns_to_encode = ['Gender', 'Married', 'Dependents', 'Education', 'Self_Employed', 'property_Area']\n",
    "\n",
    "# Using function to label encode categorical columns\n",
    "df_train = label_encode_columns(df_train, columns_to_encode)"
   ]
  },
  {
   "cell_type": "code",
   "execution_count": 27,
   "metadata": {
    "scrolled": true
   },
   "outputs": [
    {
     "name": "stdout",
     "output_type": "stream",
     "text": [
      "Feature: Gender\n",
      "Mapping: {'Female': 0, 'Male': 1}\n",
      "Feature: Married\n",
      "Mapping: {'No': 0, 'Yes': 1}\n",
      "Feature: Dependents\n",
      "Mapping: {'0': 0, '1': 1, '2': 2, '3+': 3}\n",
      "Feature: Education\n",
      "Mapping: {'Graduate': 0, 'Not Graduate': 1}\n",
      "Feature: Self_Employed\n",
      "Mapping: {'No': 0, 'Yes': 1}\n",
      "Feature: property_Area\n",
      "Mapping: {'Rural': 0, 'Semiurban': 1, 'Urban': 2}\n"
     ]
    }
   ],
   "source": [
    "# Using function to label encode categorical columns\n",
    "df_test = label_encode_columns(df_test, columns_to_encode)"
   ]
  },
  {
   "cell_type": "code",
   "execution_count": 28,
   "metadata": {
    "scrolled": true
   },
   "outputs": [
    {
     "data": {
      "text/html": [
       "<div>\n",
       "<style scoped>\n",
       "    .dataframe tbody tr th:only-of-type {\n",
       "        vertical-align: middle;\n",
       "    }\n",
       "\n",
       "    .dataframe tbody tr th {\n",
       "        vertical-align: top;\n",
       "    }\n",
       "\n",
       "    .dataframe thead th {\n",
       "        text-align: right;\n",
       "    }\n",
       "</style>\n",
       "<table border=\"1\" class=\"dataframe\">\n",
       "  <thead>\n",
       "    <tr style=\"text-align: right;\">\n",
       "      <th></th>\n",
       "      <th>Loan_ID</th>\n",
       "      <th>Gender</th>\n",
       "      <th>Married</th>\n",
       "      <th>Dependents</th>\n",
       "      <th>Education</th>\n",
       "      <th>Self_Employed</th>\n",
       "      <th>LoanAmount</th>\n",
       "      <th>Loan_Amount_Term</th>\n",
       "      <th>Credit_History</th>\n",
       "      <th>property_Area</th>\n",
       "      <th>Loan_Status</th>\n",
       "      <th>TotalIncome</th>\n",
       "    </tr>\n",
       "  </thead>\n",
       "  <tbody>\n",
       "    <tr>\n",
       "      <th>0</th>\n",
       "      <td>LP001002</td>\n",
       "      <td>1</td>\n",
       "      <td>0</td>\n",
       "      <td>0</td>\n",
       "      <td>0</td>\n",
       "      <td>0</td>\n",
       "      <td>146.412162</td>\n",
       "      <td>360.0</td>\n",
       "      <td>1.0</td>\n",
       "      <td>2</td>\n",
       "      <td>Y</td>\n",
       "      <td>5849.00000</td>\n",
       "    </tr>\n",
       "    <tr>\n",
       "      <th>1</th>\n",
       "      <td>LP001003</td>\n",
       "      <td>1</td>\n",
       "      <td>1</td>\n",
       "      <td>1</td>\n",
       "      <td>0</td>\n",
       "      <td>0</td>\n",
       "      <td>128.000000</td>\n",
       "      <td>360.0</td>\n",
       "      <td>1.0</td>\n",
       "      <td>0</td>\n",
       "      <td>N</td>\n",
       "      <td>6913.54085</td>\n",
       "    </tr>\n",
       "    <tr>\n",
       "      <th>2</th>\n",
       "      <td>LP001005</td>\n",
       "      <td>1</td>\n",
       "      <td>1</td>\n",
       "      <td>0</td>\n",
       "      <td>0</td>\n",
       "      <td>1</td>\n",
       "      <td>66.000000</td>\n",
       "      <td>360.0</td>\n",
       "      <td>1.0</td>\n",
       "      <td>2</td>\n",
       "      <td>Y</td>\n",
       "      <td>3000.00000</td>\n",
       "    </tr>\n",
       "    <tr>\n",
       "      <th>3</th>\n",
       "      <td>LP001006</td>\n",
       "      <td>1</td>\n",
       "      <td>1</td>\n",
       "      <td>0</td>\n",
       "      <td>1</td>\n",
       "      <td>0</td>\n",
       "      <td>120.000000</td>\n",
       "      <td>360.0</td>\n",
       "      <td>1.0</td>\n",
       "      <td>2</td>\n",
       "      <td>Y</td>\n",
       "      <td>4941.00000</td>\n",
       "    </tr>\n",
       "    <tr>\n",
       "      <th>4</th>\n",
       "      <td>LP001008</td>\n",
       "      <td>1</td>\n",
       "      <td>0</td>\n",
       "      <td>0</td>\n",
       "      <td>0</td>\n",
       "      <td>0</td>\n",
       "      <td>141.000000</td>\n",
       "      <td>360.0</td>\n",
       "      <td>1.0</td>\n",
       "      <td>2</td>\n",
       "      <td>Y</td>\n",
       "      <td>6000.00000</td>\n",
       "    </tr>\n",
       "  </tbody>\n",
       "</table>\n",
       "</div>"
      ],
      "text/plain": [
       "    Loan_ID  Gender  Married  Dependents  Education  Self_Employed  \\\n",
       "0  LP001002       1        0           0          0              0   \n",
       "1  LP001003       1        1           1          0              0   \n",
       "2  LP001005       1        1           0          0              1   \n",
       "3  LP001006       1        1           0          1              0   \n",
       "4  LP001008       1        0           0          0              0   \n",
       "\n",
       "   LoanAmount Loan_Amount_Term Credit_History  property_Area Loan_Status  \\\n",
       "0  146.412162            360.0            1.0              2           Y   \n",
       "1  128.000000            360.0            1.0              0           N   \n",
       "2   66.000000            360.0            1.0              2           Y   \n",
       "3  120.000000            360.0            1.0              2           Y   \n",
       "4  141.000000            360.0            1.0              2           Y   \n",
       "\n",
       "   TotalIncome  \n",
       "0   5849.00000  \n",
       "1   6913.54085  \n",
       "2   3000.00000  \n",
       "3   4941.00000  \n",
       "4   6000.00000  "
      ]
     },
     "execution_count": 28,
     "metadata": {},
     "output_type": "execute_result"
    }
   ],
   "source": [
    "df_train.head()"
   ]
  },
  {
   "cell_type": "code",
   "execution_count": 29,
   "metadata": {},
   "outputs": [
    {
     "data": {
      "text/html": [
       "<div>\n",
       "<style scoped>\n",
       "    .dataframe tbody tr th:only-of-type {\n",
       "        vertical-align: middle;\n",
       "    }\n",
       "\n",
       "    .dataframe tbody tr th {\n",
       "        vertical-align: top;\n",
       "    }\n",
       "\n",
       "    .dataframe thead th {\n",
       "        text-align: right;\n",
       "    }\n",
       "</style>\n",
       "<table border=\"1\" class=\"dataframe\">\n",
       "  <thead>\n",
       "    <tr style=\"text-align: right;\">\n",
       "      <th></th>\n",
       "      <th>Loan_ID</th>\n",
       "      <th>Gender</th>\n",
       "      <th>Married</th>\n",
       "      <th>Dependents</th>\n",
       "      <th>Education</th>\n",
       "      <th>Self_Employed</th>\n",
       "      <th>LoanAmount</th>\n",
       "      <th>Loan_Amount_Term</th>\n",
       "      <th>Credit_History</th>\n",
       "      <th>property_Area</th>\n",
       "      <th>TotalIncome</th>\n",
       "    </tr>\n",
       "  </thead>\n",
       "  <tbody>\n",
       "    <tr>\n",
       "      <th>0</th>\n",
       "      <td>LP001015</td>\n",
       "      <td>1</td>\n",
       "      <td>1</td>\n",
       "      <td>0</td>\n",
       "      <td>0</td>\n",
       "      <td>0</td>\n",
       "      <td>110.0</td>\n",
       "      <td>360.0</td>\n",
       "      <td>1.0</td>\n",
       "      <td>2</td>\n",
       "      <td>5720</td>\n",
       "    </tr>\n",
       "    <tr>\n",
       "      <th>1</th>\n",
       "      <td>LP001022</td>\n",
       "      <td>1</td>\n",
       "      <td>1</td>\n",
       "      <td>1</td>\n",
       "      <td>0</td>\n",
       "      <td>0</td>\n",
       "      <td>126.0</td>\n",
       "      <td>360.0</td>\n",
       "      <td>1.0</td>\n",
       "      <td>2</td>\n",
       "      <td>4576</td>\n",
       "    </tr>\n",
       "    <tr>\n",
       "      <th>2</th>\n",
       "      <td>LP001031</td>\n",
       "      <td>1</td>\n",
       "      <td>1</td>\n",
       "      <td>2</td>\n",
       "      <td>0</td>\n",
       "      <td>0</td>\n",
       "      <td>208.0</td>\n",
       "      <td>360.0</td>\n",
       "      <td>1.0</td>\n",
       "      <td>2</td>\n",
       "      <td>6800</td>\n",
       "    </tr>\n",
       "    <tr>\n",
       "      <th>3</th>\n",
       "      <td>LP001035</td>\n",
       "      <td>1</td>\n",
       "      <td>1</td>\n",
       "      <td>2</td>\n",
       "      <td>0</td>\n",
       "      <td>0</td>\n",
       "      <td>100.0</td>\n",
       "      <td>360.0</td>\n",
       "      <td>1.0</td>\n",
       "      <td>2</td>\n",
       "      <td>4886</td>\n",
       "    </tr>\n",
       "    <tr>\n",
       "      <th>4</th>\n",
       "      <td>LP001051</td>\n",
       "      <td>1</td>\n",
       "      <td>0</td>\n",
       "      <td>0</td>\n",
       "      <td>1</td>\n",
       "      <td>0</td>\n",
       "      <td>78.0</td>\n",
       "      <td>360.0</td>\n",
       "      <td>1.0</td>\n",
       "      <td>2</td>\n",
       "      <td>3276</td>\n",
       "    </tr>\n",
       "  </tbody>\n",
       "</table>\n",
       "</div>"
      ],
      "text/plain": [
       "    Loan_ID  Gender  Married  Dependents  Education  Self_Employed  \\\n",
       "0  LP001015       1        1           0          0              0   \n",
       "1  LP001022       1        1           1          0              0   \n",
       "2  LP001031       1        1           2          0              0   \n",
       "3  LP001035       1        1           2          0              0   \n",
       "4  LP001051       1        0           0          1              0   \n",
       "\n",
       "   LoanAmount Loan_Amount_Term Credit_History  property_Area  TotalIncome  \n",
       "0       110.0            360.0            1.0              2         5720  \n",
       "1       126.0            360.0            1.0              2         4576  \n",
       "2       208.0            360.0            1.0              2         6800  \n",
       "3       100.0            360.0            1.0              2         4886  \n",
       "4        78.0            360.0            1.0              2         3276  "
      ]
     },
     "execution_count": 29,
     "metadata": {},
     "output_type": "execute_result"
    }
   ],
   "source": [
    "df_test.head()"
   ]
  },
  {
   "cell_type": "markdown",
   "metadata": {},
   "source": [
    "We have our final training and testing data sets with no duplicates, no missing values and correct data types.  \n",
    "We will begin working on the problem statments."
   ]
  },
  {
   "cell_type": "markdown",
   "metadata": {},
   "source": [
    "<a id='7'></a>\n",
    "## 1. Check eligibility of the Customer given the inputs described above.(Classification)"
   ]
  },
  {
   "cell_type": "markdown",
   "metadata": {},
   "source": [
    "<a id='7.1'></a>\n",
    "#### Creating new dataframes"
   ]
  },
  {
   "cell_type": "code",
   "execution_count": 30,
   "metadata": {},
   "outputs": [],
   "source": [
    "train_df_1 = df_train\n",
    "test_df_1 = df_test"
   ]
  },
  {
   "cell_type": "markdown",
   "metadata": {},
   "source": [
    "<a id='7.2'></a>\n",
    "#### Defining X & Y"
   ]
  },
  {
   "cell_type": "code",
   "execution_count": 31,
   "metadata": {},
   "outputs": [
    {
     "name": "stdout",
     "output_type": "stream",
     "text": [
      "Shape of X: (614, 10)\n",
      "Shape of Y: (614,)\n"
     ]
    }
   ],
   "source": [
    "Y = train_df_1[\"Loan_Status\"]\n",
    "X = train_df_1.drop([\"Loan_Status\",\"Loan_ID\"],axis=1)\n",
    "\n",
    "print(\"Shape of X:\", X.shape)\n",
    "print(\"Shape of Y:\", Y.shape)"
   ]
  },
  {
   "cell_type": "code",
   "execution_count": 32,
   "metadata": {
    "scrolled": true
   },
   "outputs": [
    {
     "name": "stdout",
     "output_type": "stream",
     "text": [
      "Shape of testing dataset: (367, 10)\n"
     ]
    }
   ],
   "source": [
    "#P has been defined using testing data\n",
    "\n",
    "P = test_df_1.drop([\"Loan_ID\"],axis=1)\n",
    "print(\"Shape of testing dataset:\", P.shape)"
   ]
  },
  {
   "cell_type": "markdown",
   "metadata": {},
   "source": [
    "<a id='7.3'></a>\n",
    "#### Generating correlation matrix"
   ]
  },
  {
   "cell_type": "code",
   "execution_count": 33,
   "metadata": {},
   "outputs": [
    {
     "data": {
      "text/html": [
       "<div>\n",
       "<style scoped>\n",
       "    .dataframe tbody tr th:only-of-type {\n",
       "        vertical-align: middle;\n",
       "    }\n",
       "\n",
       "    .dataframe tbody tr th {\n",
       "        vertical-align: top;\n",
       "    }\n",
       "\n",
       "    .dataframe thead th {\n",
       "        text-align: right;\n",
       "    }\n",
       "</style>\n",
       "<table border=\"1\" class=\"dataframe\">\n",
       "  <thead>\n",
       "    <tr style=\"text-align: right;\">\n",
       "      <th></th>\n",
       "      <th>Gender</th>\n",
       "      <th>Married</th>\n",
       "      <th>Dependents</th>\n",
       "      <th>Education</th>\n",
       "      <th>Self_Employed</th>\n",
       "      <th>LoanAmount</th>\n",
       "      <th>property_Area</th>\n",
       "      <th>TotalIncome</th>\n",
       "    </tr>\n",
       "  </thead>\n",
       "  <tbody>\n",
       "    <tr>\n",
       "      <th>Gender</th>\n",
       "      <td>1.000000</td>\n",
       "      <td>0.364569</td>\n",
       "      <td>0.172914</td>\n",
       "      <td>0.045364</td>\n",
       "      <td>-0.000525</td>\n",
       "      <td>0.107930</td>\n",
       "      <td>-0.025752</td>\n",
       "      <td>0.093319</td>\n",
       "    </tr>\n",
       "    <tr>\n",
       "      <th>Married</th>\n",
       "      <td>0.364569</td>\n",
       "      <td>1.000000</td>\n",
       "      <td>0.334216</td>\n",
       "      <td>0.012304</td>\n",
       "      <td>0.004489</td>\n",
       "      <td>0.147141</td>\n",
       "      <td>0.004257</td>\n",
       "      <td>0.083275</td>\n",
       "    </tr>\n",
       "    <tr>\n",
       "      <th>Dependents</th>\n",
       "      <td>0.172914</td>\n",
       "      <td>0.334216</td>\n",
       "      <td>1.000000</td>\n",
       "      <td>0.055752</td>\n",
       "      <td>0.056798</td>\n",
       "      <td>0.163106</td>\n",
       "      <td>-0.000244</td>\n",
       "      <td>0.125493</td>\n",
       "    </tr>\n",
       "    <tr>\n",
       "      <th>Education</th>\n",
       "      <td>0.045364</td>\n",
       "      <td>0.012304</td>\n",
       "      <td>0.055752</td>\n",
       "      <td>1.000000</td>\n",
       "      <td>-0.010383</td>\n",
       "      <td>-0.166998</td>\n",
       "      <td>-0.065243</td>\n",
       "      <td>-0.161508</td>\n",
       "    </tr>\n",
       "    <tr>\n",
       "      <th>Self_Employed</th>\n",
       "      <td>-0.000525</td>\n",
       "      <td>0.004489</td>\n",
       "      <td>0.056798</td>\n",
       "      <td>-0.010383</td>\n",
       "      <td>1.000000</td>\n",
       "      <td>0.115260</td>\n",
       "      <td>-0.030860</td>\n",
       "      <td>0.112898</td>\n",
       "    </tr>\n",
       "    <tr>\n",
       "      <th>LoanAmount</th>\n",
       "      <td>0.107930</td>\n",
       "      <td>0.147141</td>\n",
       "      <td>0.163106</td>\n",
       "      <td>-0.166998</td>\n",
       "      <td>0.115260</td>\n",
       "      <td>1.000000</td>\n",
       "      <td>-0.044776</td>\n",
       "      <td>0.620068</td>\n",
       "    </tr>\n",
       "    <tr>\n",
       "      <th>property_Area</th>\n",
       "      <td>-0.025752</td>\n",
       "      <td>0.004257</td>\n",
       "      <td>-0.000244</td>\n",
       "      <td>-0.065243</td>\n",
       "      <td>-0.030860</td>\n",
       "      <td>-0.044776</td>\n",
       "      <td>1.000000</td>\n",
       "      <td>-0.004419</td>\n",
       "    </tr>\n",
       "    <tr>\n",
       "      <th>TotalIncome</th>\n",
       "      <td>0.093319</td>\n",
       "      <td>0.083275</td>\n",
       "      <td>0.125493</td>\n",
       "      <td>-0.161508</td>\n",
       "      <td>0.112898</td>\n",
       "      <td>0.620068</td>\n",
       "      <td>-0.004419</td>\n",
       "      <td>1.000000</td>\n",
       "    </tr>\n",
       "  </tbody>\n",
       "</table>\n",
       "</div>"
      ],
      "text/plain": [
       "                 Gender   Married  Dependents  Education  Self_Employed  \\\n",
       "Gender         1.000000  0.364569    0.172914   0.045364      -0.000525   \n",
       "Married        0.364569  1.000000    0.334216   0.012304       0.004489   \n",
       "Dependents     0.172914  0.334216    1.000000   0.055752       0.056798   \n",
       "Education      0.045364  0.012304    0.055752   1.000000      -0.010383   \n",
       "Self_Employed -0.000525  0.004489    0.056798  -0.010383       1.000000   \n",
       "LoanAmount     0.107930  0.147141    0.163106  -0.166998       0.115260   \n",
       "property_Area -0.025752  0.004257   -0.000244  -0.065243      -0.030860   \n",
       "TotalIncome    0.093319  0.083275    0.125493  -0.161508       0.112898   \n",
       "\n",
       "               LoanAmount  property_Area  TotalIncome  \n",
       "Gender           0.107930      -0.025752     0.093319  \n",
       "Married          0.147141       0.004257     0.083275  \n",
       "Dependents       0.163106      -0.000244     0.125493  \n",
       "Education       -0.166998      -0.065243    -0.161508  \n",
       "Self_Employed    0.115260      -0.030860     0.112898  \n",
       "LoanAmount       1.000000      -0.044776     0.620068  \n",
       "property_Area   -0.044776       1.000000    -0.004419  \n",
       "TotalIncome      0.620068      -0.004419     1.000000  "
      ]
     },
     "execution_count": 33,
     "metadata": {},
     "output_type": "execute_result"
    }
   ],
   "source": [
    "corr_df=X.corr(method=\"pearson\")\n",
    "corr_df"
   ]
  },
  {
   "cell_type": "code",
   "execution_count": 34,
   "metadata": {},
   "outputs": [
    {
     "data": {
      "image/png": "[encoded data removed]",
      "text/plain": [
       "<Figure size 864x576 with 2 Axes>"
      ]
     },
     "metadata": {
      "needs_background": "light"
     },
     "output_type": "display_data"
    }
   ],
   "source": [
    "# Plotting correlation matrix.\n",
    "\n",
    "plt.figure(figsize=(12,8))\n",
    "sns.heatmap(corr_df,vmax=1.0,vmin=-1.0,annot=True)\n",
    "plt.show()"
   ]
  },
  {
   "cell_type": "markdown",
   "metadata": {},
   "source": [
    "<a id='7.4'></a>\n",
    "#### Converting DataFrame to Array for faster processing"
   ]
  },
  {
   "cell_type": "code",
   "execution_count": 35,
   "metadata": {},
   "outputs": [
    {
     "name": "stdout",
     "output_type": "stream",
     "text": [
      "Shape of X: (614, 10)\n",
      "Shape of Y: (614,)\n"
     ]
    }
   ],
   "source": [
    "X = X.values\n",
    "Y = Y.values\n",
    "\n",
    "# We confirm the shape of X and Y\n",
    "print(\"Shape of X:\", X.shape)\n",
    "print(\"Shape of Y:\", Y.shape)"
   ]
  },
  {
   "cell_type": "markdown",
   "metadata": {},
   "source": [
    "<a id='7.5'></a>\n",
    "#### Building a Random Forest Classifier model to check feature importance"
   ]
  },
  {
   "cell_type": "code",
   "execution_count": 1,
   "metadata": {},
   "outputs": [
    {
     "ename": "NameError",
     "evalue": "name 'train_test_split' is not defined",
     "output_type": "error",
     "traceback": [
      "\u001b[1;31m---------------------------------------------------------------------------\u001b[0m",
      "\u001b[1;31mNameError\u001b[0m                                 Traceback (most recent call last)",
      "\u001b[1;32m<ipython-input-1-0f2feabc1e3a>\u001b[0m in \u001b[0;36m<module>\u001b[1;34m\u001b[0m\n\u001b[0;32m      1\u001b[0m \u001b[1;31m# Splitting the data into test and train data sets.\u001b[0m\u001b[1;33m\u001b[0m\u001b[1;33m\u001b[0m\u001b[1;33m\u001b[0m\u001b[0m\n\u001b[0;32m      2\u001b[0m \u001b[1;33m\u001b[0m\u001b[0m\n\u001b[1;32m----> 3\u001b[1;33m \u001b[0mX_train\u001b[0m\u001b[1;33m,\u001b[0m \u001b[0mX_test\u001b[0m\u001b[1;33m,\u001b[0m \u001b[0mY_train\u001b[0m\u001b[1;33m,\u001b[0m \u001b[0mY_test\u001b[0m\u001b[1;33m=\u001b[0m \u001b[0mtrain_test_split\u001b[0m\u001b[1;33m(\u001b[0m\u001b[0mX\u001b[0m\u001b[1;33m,\u001b[0m \u001b[0mY\u001b[0m\u001b[1;33m,\u001b[0m \u001b[0mtest_size\u001b[0m\u001b[1;33m=\u001b[0m\u001b[1;36m0.2\u001b[0m\u001b[1;33m,\u001b[0m\u001b[0mrandom_state\u001b[0m\u001b[1;33m=\u001b[0m\u001b[1;36m10\u001b[0m\u001b[1;33m)\u001b[0m\u001b[1;33m\u001b[0m\u001b[1;33m\u001b[0m\u001b[0m\n\u001b[0m\u001b[0;32m      4\u001b[0m \u001b[1;33m\u001b[0m\u001b[0m\n\u001b[0;32m      5\u001b[0m \u001b[1;31m# Creating a model object.\u001b[0m\u001b[1;33m\u001b[0m\u001b[1;33m\u001b[0m\u001b[1;33m\u001b[0m\u001b[0m\n",
      "\u001b[1;31mNameError\u001b[0m: name 'train_test_split' is not defined"
     ]
    }
   ],
   "source": [
    "# Splitting the data into test and train data sets.\n",
    "\n",
    "X_train, X_test, Y_train, Y_test= train_test_split(X, Y, test_size=0.2,random_state=10)\n",
    "\n",
    "# Creating a model object.\n",
    "\n",
    "model_DecisionTree = RandomForestClassifier(n_estimators=100, random_state=10)\n",
    "\n",
    "# Fitting the data into our model and predicting the values.\n",
    "\n",
    "model_DecisionTree.fit(X_train,Y_train)\n",
    "Y_pred = model_DecisionTree.predict(X_test)\n",
    "\n",
    "# Building a DataFrame to view the feature importance and sort for a better visual.\n",
    "\n",
    "feature_imp = pd.DataFrame()\n",
    "feature_imp[\"Feature\"] = df_train.drop([\"Loan_Status\",\"Loan_ID\"],axis=1).columns\n",
    "feature_imp[\"Importance\"] = model_DecisionTree.feature_importances_ \n",
    "feature_imp.sort_values(\"Importance\", ascending = False).style.hide_index()"
   ]
  },
  {
   "cell_type": "markdown",
   "metadata": {},
   "source": [
    "<a id='7.6'></a>\n",
    "**Handling unbalanced data using SMOTE**"
   ]
  },
  {
   "cell_type": "code",
   "execution_count": 37,
   "metadata": {},
   "outputs": [
    {
     "name": "stdout",
     "output_type": "stream",
     "text": [
      "Before OverSampling, counts of label '1':  335\n",
      "Before OverSampling, counts of label '0':  156\n",
      "After OverSampling, the shape of train_X:  (670, 10)\n",
      "After OverSampling, the shape of train_y:  (670,)\n",
      "After OverSampling, counts of label '1':  335\n",
      "After OverSampling, counts of label '0':  335\n"
     ]
    }
   ],
   "source": [
    "# Splitting the data into test and train data sets.\n",
    "\n",
    "X_train, X_test, Y_train, Y_test= train_test_split(X, Y, test_size=0.2,random_state=10)\n",
    "\n",
    "print(\"Before OverSampling, counts of label '1': \", (sum(Y_train == 'Y')))\n",
    "print(\"Before OverSampling, counts of label '0': \", (sum(Y_train == 'N')))\n",
    "  \n",
    "# import SMOTE from imblearn library\n",
    "\n",
    "sm = SMOTE(random_state = 10,k_neighbors=5)\n",
    "X_train, Y_train = sm.fit_resample(X_train, Y_train)\n",
    "  \n",
    "print('After OverSampling, the shape of train_X: ', (X_train.shape))\n",
    "print('After OverSampling, the shape of train_y: ', (Y_train.shape))\n",
    "  \n",
    "print(\"After OverSampling, counts of label '1': \", (sum(Y_train == 'Y')))\n",
    "print(\"After OverSampling, counts of label '0': \", (sum(Y_train == 'N')))"
   ]
  },
  {
   "cell_type": "markdown",
   "metadata": {},
   "source": [
    "<a id='7.7'></a>\n",
    "### Creating a model pipeline"
   ]
  },
  {
   "cell_type": "code",
   "execution_count": 38,
   "metadata": {},
   "outputs": [],
   "source": [
    "# Defining multiple classification models\n",
    "\n",
    "models = [\n",
    "    LogisticRegression(),\n",
    "    DecisionTreeClassifier(criterion=\"gini\", random_state=10),\n",
    "    RandomForestClassifier(n_estimators=100, random_state=10),\n",
    "    SVC(kernel='linear'),\n",
    "    KNeighborsClassifier(n_neighbors=3)   \n",
    "]"
   ]
  },
  {
   "cell_type": "code",
   "execution_count": 39,
   "metadata": {
    "scrolled": false
   },
   "outputs": [
    {
     "name": "stdout",
     "output_type": "stream",
     "text": [
      "Model: LogisticRegression\n",
      "Accuracy: 0.8048780487804879\n",
      "Classification Report:\n",
      "              precision    recall  f1-score   support\n",
      "\n",
      "           N       0.83      0.42      0.56        36\n",
      "           Y       0.80      0.97      0.88        87\n",
      "\n",
      "    accuracy                           0.80       123\n",
      "   macro avg       0.82      0.69      0.72       123\n",
      "weighted avg       0.81      0.80      0.78       123\n",
      "\n",
      "Confusion Matrix:\n",
      "[[15 21]\n",
      " [ 3 84]]\n",
      "\n",
      "\n",
      "Model: DecisionTreeClassifier\n",
      "Accuracy: 0.6747967479674797\n",
      "Classification Report:\n",
      "              precision    recall  f1-score   support\n",
      "\n",
      "           N       0.45      0.50      0.47        36\n",
      "           Y       0.78      0.75      0.76        87\n",
      "\n",
      "    accuracy                           0.67       123\n",
      "   macro avg       0.62      0.62      0.62       123\n",
      "weighted avg       0.69      0.67      0.68       123\n",
      "\n",
      "Confusion Matrix:\n",
      "[[18 18]\n",
      " [22 65]]\n",
      "\n",
      "\n",
      "Model: RandomForestClassifier\n",
      "Accuracy: 0.7642276422764228\n",
      "Classification Report:\n",
      "              precision    recall  f1-score   support\n",
      "\n",
      "           N       0.68      0.36      0.47        36\n",
      "           Y       0.78      0.93      0.85        87\n",
      "\n",
      "    accuracy                           0.76       123\n",
      "   macro avg       0.73      0.65      0.66       123\n",
      "weighted avg       0.75      0.76      0.74       123\n",
      "\n",
      "Confusion Matrix:\n",
      "[[13 23]\n",
      " [ 6 81]]\n",
      "\n",
      "\n",
      "Model: SVC\n",
      "Accuracy: 0.7967479674796748\n",
      "Classification Report:\n",
      "              precision    recall  f1-score   support\n",
      "\n",
      "           N       0.92      0.33      0.49        36\n",
      "           Y       0.78      0.99      0.87        87\n",
      "\n",
      "    accuracy                           0.80       123\n",
      "   macro avg       0.85      0.66      0.68       123\n",
      "weighted avg       0.82      0.80      0.76       123\n",
      "\n",
      "Confusion Matrix:\n",
      "[[12 24]\n",
      " [ 1 86]]\n",
      "\n",
      "\n",
      "Model: KNeighborsClassifier\n",
      "Accuracy: 0.6829268292682927\n",
      "Classification Report:\n",
      "              precision    recall  f1-score   support\n",
      "\n",
      "           N       0.46      0.44      0.45        36\n",
      "           Y       0.77      0.78      0.78        87\n",
      "\n",
      "    accuracy                           0.68       123\n",
      "   macro avg       0.61      0.61      0.61       123\n",
      "weighted avg       0.68      0.68      0.68       123\n",
      "\n",
      "Confusion Matrix:\n",
      "[[16 20]\n",
      " [19 68]]\n",
      "\n",
      "\n"
     ]
    }
   ],
   "source": [
    "### Running the model pipeline\n",
    "\n",
    "### Looping through each model in our pipeline:\n",
    "for model in models:\n",
    "    accuracy, report, cm = build_and_evaluate_classification_pipeline(X_train, Y_train, X_test, Y_test, model)\n",
    "\n",
    "    print(f\"Model: {type(model).__name__}\")\n",
    "    print(f\"Accuracy: {accuracy}\")\n",
    "    print(\"Classification Report:\")\n",
    "    print(report)\n",
    "    print(\"Confusion Matrix:\")\n",
    "    print(cm)\n",
    "    print(\"\\n\")### Running the model pipeline"
   ]
  },
  {
   "cell_type": "markdown",
   "metadata": {},
   "source": [
    "<a id='7.7a'></a>\n",
    "<body>\n",
    "    <h1>Metrics Summary</h1>\n",
    "\t<table>\n",
    "\t\t<thead>\n",
    "\t\t\t<tr>\n",
    "                <th><u>Metrics</u></th>\n",
    "                <th><u>Classes</u></th>\n",
    "\t\t\t\t<th>LogisticRegression</th>\n",
    "\t\t\t\t<th>DecisionTreeClassifier</th>\n",
    "\t\t\t\t<th>RandomForestClassifier</th>\n",
    "\t\t\t\t<th>SVC</th>\n",
    "\t\t\t\t<th>KNeighborsClassifier</th>\n",
    "\t\t\t</tr>\n",
    "\t\t</thead>\n",
    "\t\t<tbody>\n",
    "\t\t\t<tr>\n",
    "\t\t\t\t<td>Accuracy</td>\n",
    "\t\t\t\t<td>-</td>\n",
    "\t\t\t\t<td>80.48%</td>\n",
    "\t\t\t\t<td>67.47%</td>\n",
    "\t\t\t\t<td>76.42%</td>\n",
    "\t\t\t\t<td>79.67%</td>\n",
    "\t\t\t\t<td>68.29%</td>\n",
    "\t\t\t</tr>\n",
    "\t\t\t<tr>\n",
    "\t\t\t\t<td>Precision</td>\n",
    "\t\t\t\t<td>class 0</td>\n",
    "\t\t\t\t<td>0.83</td>\n",
    "\t\t\t\t<td>0.45</td>\n",
    "\t\t\t\t<td>0.68</td>\n",
    "\t\t\t\t<td>0.92</td>\n",
    "\t\t\t\t<td>0.46</td>\n",
    "\t\t\t</tr>\n",
    "\t\t\t<tr>\n",
    "\t\t\t\t<td>-</td>\n",
    "\t\t\t\t<td>class 1</td>\n",
    "\t\t\t\t<td>0.80</td>\n",
    "\t\t\t\t<td>0.78</td>\n",
    "\t\t\t\t<td>0.78</td>\n",
    "\t\t\t\t<td>0.78</td>\n",
    "\t\t\t\t<td>0.77</td>\n",
    "\t\t\t</tr>\n",
    "\t\t\t<tr>\n",
    "\t\t\t\t<td>Recall</td>\n",
    "\t\t\t\t<td>class 0</td>\n",
    "\t\t\t\t<td>0.42</td>\n",
    "\t\t\t\t<td>0.50</td>\n",
    "\t\t\t\t<td>0.36</td>\n",
    "\t\t\t\t<td>0.33</td>\n",
    "\t\t\t\t<td>0.44</td>\n",
    "\t\t\t</tr>\n",
    "\t\t\t<tr>\n",
    "\t\t\t\t<td>-</td>\n",
    "\t\t\t\t<td>class 1</td>\n",
    "\t\t\t\t<td>0.97</td>\n",
    "\t\t\t\t<td>0.75</td>\n",
    "\t\t\t\t<td>0.93</td>\n",
    "\t\t\t\t<td>0.99</td>\n",
    "\t\t\t\t<td>0.78</td>\n",
    "\t\t\t</tr>\n",
    "\t\t\t<tr>\n",
    "\t\t\t\t<td>F1-Score</td>\n",
    "\t\t\t\t<td>class 0</td>\n",
    "\t\t\t\t<td>0.56</td>\n",
    "\t\t\t\t<td>0.47</td>\n",
    "\t\t\t\t<td>0.47</td>\n",
    "\t\t\t\t<td>0.49</td>\n",
    "\t\t\t\t<td>0.45</td>\n",
    "\t\t\t</tr>\n",
    "\t\t\t<tr>\n",
    "\t\t\t\t<td>-</td>\n",
    "\t\t\t\t<td>class 1</td>\n",
    "\t\t\t\t<td>0.88</td>\n",
    "\t\t\t\t<td>0.76</td>\n",
    "\t\t\t\t<td>0.85</td>\n",
    "\t\t\t\t<td>0.87</td>\n",
    "\t\t\t\t<td>0.78</td>\n",
    "\t\t\t</tr>\n",
    "\t\t</tbody>\n",
    "\t</table>\n",
    "</body>"
   ]
  },
  {
   "cell_type": "markdown",
   "metadata": {},
   "source": [
    "* From the above report, we see that our Logistic Regression, Random Forest Classifier and SVC models, perform the best.\n",
    "* We will try and tune the models to get their best scores and compare."
   ]
  },
  {
   "cell_type": "markdown",
   "metadata": {},
   "source": [
    "<a id='7.8'></a>\n",
    "### Pruning/Tuning of well performing models."
   ]
  },
  {
   "cell_type": "markdown",
   "metadata": {},
   "source": [
    "<a id='7.8a'></a>\n",
    "### Logistic Regression"
   ]
  },
  {
   "cell_type": "code",
   "execution_count": 40,
   "metadata": {
    "scrolled": false
   },
   "outputs": [],
   "source": [
    "# Create a model\n",
    "classifier = LogisticRegression()\n",
    "\n",
    "# fitting training data to the model\n",
    "classifier.fit(X_train, Y_train)\n",
    "\n",
    "# Predicting using .predict\n",
    "y_pred_prob = classifier.predict_proba(X_test)\n",
    "# print(Y_pred)"
   ]
  },
  {
   "cell_type": "markdown",
   "metadata": {},
   "source": [
    "#### Adjusting the threshold"
   ]
  },
  {
   "cell_type": "code",
   "execution_count": 41,
   "metadata": {},
   "outputs": [
    {
     "name": "stdout",
     "output_type": "stream",
     "text": [
      "Errors at threshold  0.4 : 25  , type 2 error: 1  , type 1 error : 24\n",
      "Errors at threshold  0.41000000000000003 : 25  , type 2 error: 1  , type 1 error : 24\n",
      "Errors at threshold  0.42000000000000004 : 26  , type 2 error: 2  , type 1 error : 24\n",
      "Errors at threshold  0.43000000000000005 : 24  , type 2 error: 2  , type 1 error : 22\n",
      "Errors at threshold  0.44000000000000006 : 24  , type 2 error: 2  , type 1 error : 22\n",
      "Errors at threshold  0.45000000000000007 : 24  , type 2 error: 2  , type 1 error : 22\n",
      "Errors at threshold  0.4600000000000001 : 24  , type 2 error: 2  , type 1 error : 22\n",
      "Errors at threshold  0.4700000000000001 : 24  , type 2 error: 3  , type 1 error : 21\n",
      "Errors at threshold  0.4800000000000001 : 25  , type 2 error: 4  , type 1 error : 21\n",
      "Errors at threshold  0.4900000000000001 : 26  , type 2 error: 5  , type 1 error : 21\n",
      "Errors at threshold  0.5000000000000001 : 28  , type 2 error: 9  , type 1 error : 19\n",
      "Errors at threshold  0.5100000000000001 : 28  , type 2 error: 9  , type 1 error : 19\n",
      "Errors at threshold  0.5200000000000001 : 28  , type 2 error: 9  , type 1 error : 19\n",
      "Errors at threshold  0.5300000000000001 : 29  , type 2 error: 10  , type 1 error : 19\n",
      "Errors at threshold  0.5400000000000001 : 30  , type 2 error: 11  , type 1 error : 19\n",
      "Errors at threshold  0.5500000000000002 : 29  , type 2 error: 11  , type 1 error : 18\n",
      "Errors at threshold  0.5600000000000002 : 29  , type 2 error: 12  , type 1 error : 17\n",
      "Errors at threshold  0.5700000000000002 : 30  , type 2 error: 13  , type 1 error : 17\n",
      "Errors at threshold  0.5800000000000002 : 32  , type 2 error: 17  , type 1 error : 15\n",
      "Errors at threshold  0.5900000000000002 : 33  , type 2 error: 20  , type 1 error : 13\n",
      "Errors at threshold  0.6000000000000002 : 35  , type 2 error: 22  , type 1 error : 13\n"
     ]
    }
   ],
   "source": [
    "# printing type I and type II errors for every threshold in range (0.4-0.6)\n",
    "\n",
    "least_error = []\n",
    "type_1 = []\n",
    "type_2 = []\n",
    "\n",
    "for a in np.arange(0.4,0.61,0.01):\n",
    "    predict_mine = np.where(y_pred_prob[:,1] > a, 'Y', 'N')\n",
    "    cfm = confusion_matrix(Y_test, predict_mine)\n",
    "    total_err = cfm[0,1]+cfm[1,0]\n",
    "    type_1.append(cfm[0,1])\n",
    "    type_2.append(cfm[1,0])\n",
    "    least_error.append(total_err)\n",
    "    print(\"Errors at threshold \", a, \":\", total_err, \" , type 2 error:\", cfm[1,0],\" , type 1 error :\", cfm[0,1])"
   ]
  },
  {
   "cell_type": "code",
   "execution_count": 42,
   "metadata": {
    "scrolled": false
   },
   "outputs": [
    {
     "name": "stdout",
     "output_type": "stream",
     "text": [
      "Total errors: [24, 24, 24, 24, 24, 25, 25, 25, 26, 26, 28, 28, 28, 29, 29, 29, 30, 30, 32, 33, 35] \n",
      "\n",
      "Type 2 errors: [1, 1, 2, 2, 2, 2, 2, 3, 4, 5, 9, 9, 9, 10, 11, 11, 12, 13, 17, 20, 22] \n",
      "\n",
      "Type 1 errors: [13, 13, 15, 17, 17, 18, 19, 19, 19, 19, 19, 21, 21, 21, 22, 22, 22, 22, 24, 24, 24] \n",
      "\n",
      "Least total error: 24\n",
      "Least type 2 error: 1\n",
      "Least type 1 error: 13\n"
     ]
    }
   ],
   "source": [
    "# Sorting our errors in ascending order\n",
    "least_error.sort()\n",
    "type_2.sort()\n",
    "type_1.sort()\n",
    "\n",
    "# Displaying errors in ascending order\n",
    "\n",
    "print(\"Total errors:\", least_error, \"\\n\")\n",
    "print(\"Type 2 errors:\", type_2, \"\\n\")\n",
    "print(\"Type 1 errors:\", type_1, \"\\n\")\n",
    "\n",
    "# Finding least errors\n",
    "\n",
    "print(\"Least total error:\", min(least_error))\n",
    "print(\"Least type 2 error:\", min(type_2))\n",
    "print(\"Least type 1 error:\", min(type_1))"
   ]
  },
  {
   "cell_type": "code",
   "execution_count": 43,
   "metadata": {
    "scrolled": true
   },
   "outputs": [
    {
     "name": "stdout",
     "output_type": "stream",
     "text": [
      "Confusion Matrix: \n",
      "\n",
      " [[15 21]\n",
      " [ 3 84]]\n",
      "\n",
      " Accuracy of the model:  0.8048780487804879\n",
      "\n",
      "\n",
      " Classification Report: \n",
      "\n",
      "               precision    recall  f1-score   support\n",
      "\n",
      "           N       0.83      0.42      0.56        36\n",
      "           Y       0.80      0.97      0.88        87\n",
      "\n",
      "    accuracy                           0.80       123\n",
      "   macro avg       0.82      0.69      0.72       123\n",
      "weighted avg       0.81      0.80      0.78       123\n",
      "\n"
     ]
    }
   ],
   "source": [
    "# Here we confirm that the threshold 0.47 gives us the least errors and best f1 scores\n",
    "\n",
    "y_pred_class = []\n",
    "for value in y_pred_prob[:,1]:\n",
    "    if value > 0.47:\n",
    "        y_pred_class.append('Y')\n",
    "    else:\n",
    "        y_pred_class.append('N')\n",
    "# print(y_pred_class)\n",
    "\n",
    "print(\"Confusion Matrix: \\n\\n\", confusion_matrix(Y_test, y_pred_class)) \n",
    "print(\"\\n Accuracy of the model: \", accuracy_score(Y_test, y_pred_class))\n",
    "print(\"\\n\\n Classification Report: \\n\\n\", classification_report(Y_test, y_pred_class))"
   ]
  },
  {
   "cell_type": "markdown",
   "metadata": {},
   "source": [
    "<a id='7.8b'></a>\n",
    "### Random Forest\n",
    "#### Using GridSearchCV with random forest model and tuning different cv count to find best score"
   ]
  },
  {
   "cell_type": "code",
   "execution_count": 44,
   "metadata": {},
   "outputs": [],
   "source": [
    "best_score = []\n",
    "\n",
    "for i in range(4,11,1):\n",
    "    rfc = RandomForestClassifier(random_state=10)\n",
    "\n",
    "    tg = {'max_depth':range(2,10),\n",
    "          'min_samples_split':range(2,5),\n",
    "          'min_samples_leaf':range(2,6)}\n",
    "\n",
    "    cv = GridSearchCV(rfc,tg,scoring=\"accuracy\",cv=i)\n",
    "    cvmodel = cv.fit(X_train, Y_train)\n",
    "    best_score.append(round(cvmodel.best_score_,4))"
   ]
  },
  {
   "cell_type": "code",
   "execution_count": 45,
   "metadata": {},
   "outputs": [
    {
     "data": {
      "image/png": "[encoded data removed]",
      "text/plain": [
       "<Figure size 432x288 with 1 Axes>"
      ]
     },
     "metadata": {
      "needs_background": "light"
     },
     "output_type": "display_data"
    }
   ],
   "source": [
    "plt.plot(range(4,11,1),best_score,\"--o\")\n",
    "plt.xticks(range(4,11,1))\n",
    "plt.xlabel(\"CV count ranging from 4-10\")\n",
    "plt.ylabel(\"Best Score\")\n",
    "plt.title(\"Best Score Vs CV count (4-10)\");"
   ]
  },
  {
   "cell_type": "markdown",
   "metadata": {},
   "source": [
    "#### Final Grid Search CV model using cv count 9 as it is having best score comparing to other validation count size also tuning different parameter"
   ]
  },
  {
   "cell_type": "code",
   "execution_count": 46,
   "metadata": {},
   "outputs": [
    {
     "data": {
      "text/plain": [
       "0.8648"
      ]
     },
     "execution_count": 46,
     "metadata": {},
     "output_type": "execute_result"
    }
   ],
   "source": [
    "rfc = RandomForestClassifier(random_state=10)\n",
    "\n",
    "tg = {'max_depth':range(2,10),\n",
    "     'min_samples_split':range(2,5),\n",
    "     'min_samples_leaf':range(2,6)}\n",
    "\n",
    "cv = GridSearchCV(rfc,tg,scoring=\"accuracy\",cv=9)\n",
    "cvmodel = cv.fit(X_train, Y_train)\n",
    "round(cvmodel.best_score_,4)"
   ]
  },
  {
   "cell_type": "code",
   "execution_count": 47,
   "metadata": {},
   "outputs": [
    {
     "data": {
      "text/plain": [
       "{'max_depth': 9, 'min_samples_leaf': 2, 'min_samples_split': 2}"
      ]
     },
     "execution_count": 47,
     "metadata": {},
     "output_type": "execute_result"
    }
   ],
   "source": [
    "# Best parameters obtained from GridSearchCV model\n",
    "\n",
    "cvmodel.best_params_"
   ]
  },
  {
   "cell_type": "markdown",
   "metadata": {},
   "source": [
    "#### Final Random Forest Classification model using above best parameter grid."
   ]
  },
  {
   "cell_type": "code",
   "execution_count": 48,
   "metadata": {},
   "outputs": [
    {
     "name": "stdout",
     "output_type": "stream",
     "text": [
      "Accuracy: 0.7886178861788617\n",
      "Classification Report:\n",
      "              precision    recall  f1-score   support\n",
      "\n",
      "           N       0.81      0.36      0.50        36\n",
      "           Y       0.79      0.97      0.87        87\n",
      "\n",
      "    accuracy                           0.79       123\n",
      "   macro avg       0.80      0.66      0.68       123\n",
      "weighted avg       0.79      0.79      0.76       123\n",
      "\n",
      "Confusion Matrix:\n",
      "[[13 23]\n",
      " [ 3 84]]\n"
     ]
    }
   ],
   "source": [
    "rfc = RandomForestClassifier(random_state=10,n_estimators=200, max_depth=9,min_samples_leaf=2,min_samples_split=2)\n",
    "rfc_model_final = rfc.fit(X_train, Y_train)\n",
    "\n",
    "y_pred = rfc_model_final.predict(X_test)\n",
    "\n",
    "# Calculate accuracy\n",
    "accuracy = accuracy_score(Y_test, y_pred)\n",
    "\n",
    "# Generate classification report\n",
    "report = classification_report(Y_test, y_pred)\n",
    "\n",
    "# Generate confusion matrix\n",
    "cm = confusion_matrix(Y_test, y_pred)\n",
    "\n",
    "# Print the metrics\n",
    "print(f\"Accuracy: {accuracy}\")\n",
    "\n",
    "print(\"Classification Report:\")\n",
    "print(report)\n",
    "\n",
    "print(\"Confusion Matrix:\")\n",
    "print(cm)"
   ]
  },
  {
   "cell_type": "markdown",
   "metadata": {},
   "source": [
    "* We see that our base logistic regression model and our tuned logistic regression model perform the same.\n",
    "* Random forest performs well but not better than Logistic Regression."
   ]
  },
  {
   "cell_type": "markdown",
   "metadata": {},
   "source": [
    "<a id='7.8c'></a>\n",
    "### SVC"
   ]
  },
  {
   "cell_type": "code",
   "execution_count": 49,
   "metadata": {},
   "outputs": [],
   "source": [
    "#  ## GridSearchCV\n",
    "\n",
    "# best_score = []\n",
    "\n",
    "# for i in range(4,11,1):\n",
    "#     svc_1 = SVC()\n",
    "\n",
    "#     tg = {\n",
    "#     'kernel': ['linear', 'poly', 'rbf', 'sigmoid'],\n",
    "#     'C': [0.1, 1, 10],\n",
    "#     'gamma': ['scale', 'auto', 0.1, 1]\n",
    "#     }\n",
    "\n",
    "#     cv = GridSearchCV(svc_1,tg,scoring=\"accuracy\",cv=i)\n",
    "#     cvmodel = cv.fit(X_train, Y_train)\n",
    "#     best_score.append(round(cvmodel.best_score_,4))\n",
    "\n",
    "\n",
    "# plt.plot(range(4,11,1),best_score,\"--o\")\n",
    "# plt.xticks(range(4,11,1))\n",
    "# plt.xlabel(\"CV count ranging from 4-10\")\n",
    "# plt.ylabel(\"Best Score\")\n",
    "# plt.title(\"Best Score Vs CV count (4-10)\");\n",
    "\n",
    "# svc_1 = SVC()\n",
    "\n",
    "# tg = {\n",
    "# 'kernel': ['linear', 'poly', 'rbf', 'sigmoid'],\n",
    "# 'C': [0.1, 1, 10],\n",
    "# 'gamma': ['scale', 'auto', 0.1, 1]\n",
    "# }\n",
    "\n",
    "# cv = GridSearchCV(svc_1,tg,scoring=\"accuracy\",cv=5)\n",
    "# cvmodel = cv.fit(X_train, Y_train)\n",
    "# best_score.append(round(cvmodel.best_score_,4))\n",
    "\n",
    "# # Best parameters obtained from GridSearchCV model\n",
    "\n",
    "# cvmodel.best_params_\n",
    "\n",
    "\n",
    "\n",
    "#  ## RandomizedSearchCV\n",
    "\n",
    "# # Define the parameter grid with a smaller set of values\n",
    "# param_dist = {\n",
    "#     'kernel': ['linear', 'poly', 'rbf', 'sigmoid'],\n",
    "#     'C': [0.1, 1, 10],\n",
    "#     'gamma': ['scale', 'auto', 0.1, 1]\n",
    "# }\n",
    "\n",
    "# # Create an SVC classifier\n",
    "# svc = SVC()\n",
    "\n",
    "# # Create RandomizedSearchCV object with 100 iterations\n",
    "# random_search = RandomizedSearchCV(estimator=svc, param_distributions=param_dist, n_iter=100, cv=5)\n",
    "\n",
    "# # Fit the RandomizedSearchCV object to your training data\n",
    "# random_search.fit(X_train, Y_train)\n",
    "\n",
    "# # Get the best hyperparameters and corresponding model\n",
    "# best_params = random_search.best_params_\n",
    "# best_svc = random_search.best_estimator_\n",
    "\n",
    "# # Best parameters obtained from RandomizedSearchCV model\n",
    "\n",
    "# best_params\n",
    "\n",
    "# # Evaluate the model on the test set\n",
    "# accuracy = best_svc.score(X_test, Y_test)"
   ]
  },
  {
   "cell_type": "markdown",
   "metadata": {},
   "source": [
    "* I tried to run GridSearchCV and RandomizedSearchCV in order to find the best parameters for our SVC model. \n",
    "* I allowed 30 mins but none of them finished running and the kernel lagged.\n",
    "* I decide to skip this step in order to preserve cost effectiveness and go with our new logistic regression model.\n",
    "* I have commented the code in a single cell for optimization in future."
   ]
  },
  {
   "cell_type": "markdown",
   "metadata": {},
   "source": [
    "<a id='7.9'></a>\n",
    "### SMOTE for final training."
   ]
  },
  {
   "cell_type": "code",
   "execution_count": 50,
   "metadata": {},
   "outputs": [
    {
     "name": "stdout",
     "output_type": "stream",
     "text": [
      "Before OverSampling, counts of label '1':  422\n",
      "Before OverSampling, counts of label '0':  192\n",
      "After OverSampling, the shape of train_X:  (844, 10)\n",
      "After OverSampling, the shape of train_y:  (844,)\n",
      "After OverSampling, counts of label '1':  422\n",
      "After OverSampling, counts of label '0':  422\n"
     ]
    }
   ],
   "source": [
    "# Handling unbalanced data using SMOTE (For X & Y for final training)\n",
    "\n",
    "print(\"Before OverSampling, counts of label '1': \", (sum(Y == 'Y')))\n",
    "print(\"Before OverSampling, counts of label '0': \", (sum(Y == 'N')))\n",
    "  \n",
    "# import SMOTE from imblearn library\n",
    "\n",
    "sm = SMOTE(random_state = 10,k_neighbors=5)\n",
    "X, Y = sm.fit_resample(X, Y)\n",
    "  \n",
    "print('After OverSampling, the shape of train_X: ', (X.shape))\n",
    "print('After OverSampling, the shape of train_y: ', (Y.shape))\n",
    "  \n",
    "print(\"After OverSampling, counts of label '1': \", (sum(Y == 'Y')))\n",
    "print(\"After OverSampling, counts of label '0': \", (sum(Y == 'N')))"
   ]
  },
  {
   "cell_type": "markdown",
   "metadata": {},
   "source": [
    "<a id='7.10'></a>\n",
    "### Final Predictions using Logistic Regression."
   ]
  },
  {
   "cell_type": "code",
   "execution_count": 51,
   "metadata": {
    "scrolled": true
   },
   "outputs": [
    {
     "data": {
      "text/html": [
       "<div>\n",
       "<style scoped>\n",
       "    .dataframe tbody tr th:only-of-type {\n",
       "        vertical-align: middle;\n",
       "    }\n",
       "\n",
       "    .dataframe tbody tr th {\n",
       "        vertical-align: top;\n",
       "    }\n",
       "\n",
       "    .dataframe thead th {\n",
       "        text-align: right;\n",
       "    }\n",
       "</style>\n",
       "<table border=\"1\" class=\"dataframe\">\n",
       "  <thead>\n",
       "    <tr style=\"text-align: right;\">\n",
       "      <th></th>\n",
       "      <th>Loan_ID</th>\n",
       "      <th>Gender</th>\n",
       "      <th>Married</th>\n",
       "      <th>Dependents</th>\n",
       "      <th>Education</th>\n",
       "      <th>Self_Employed</th>\n",
       "      <th>LoanAmount</th>\n",
       "      <th>Loan_Amount_Term</th>\n",
       "      <th>Credit_History</th>\n",
       "      <th>property_Area</th>\n",
       "      <th>TotalIncome</th>\n",
       "      <th>Loan_Status</th>\n",
       "    </tr>\n",
       "  </thead>\n",
       "  <tbody>\n",
       "    <tr>\n",
       "      <th>0</th>\n",
       "      <td>LP001015</td>\n",
       "      <td>1</td>\n",
       "      <td>1</td>\n",
       "      <td>0</td>\n",
       "      <td>0</td>\n",
       "      <td>0</td>\n",
       "      <td>110.0</td>\n",
       "      <td>360.0</td>\n",
       "      <td>1.0</td>\n",
       "      <td>2</td>\n",
       "      <td>5720</td>\n",
       "      <td>Y</td>\n",
       "    </tr>\n",
       "    <tr>\n",
       "      <th>1</th>\n",
       "      <td>LP001022</td>\n",
       "      <td>1</td>\n",
       "      <td>1</td>\n",
       "      <td>1</td>\n",
       "      <td>0</td>\n",
       "      <td>0</td>\n",
       "      <td>126.0</td>\n",
       "      <td>360.0</td>\n",
       "      <td>1.0</td>\n",
       "      <td>2</td>\n",
       "      <td>4576</td>\n",
       "      <td>Y</td>\n",
       "    </tr>\n",
       "    <tr>\n",
       "      <th>2</th>\n",
       "      <td>LP001031</td>\n",
       "      <td>1</td>\n",
       "      <td>1</td>\n",
       "      <td>2</td>\n",
       "      <td>0</td>\n",
       "      <td>0</td>\n",
       "      <td>208.0</td>\n",
       "      <td>360.0</td>\n",
       "      <td>1.0</td>\n",
       "      <td>2</td>\n",
       "      <td>6800</td>\n",
       "      <td>Y</td>\n",
       "    </tr>\n",
       "    <tr>\n",
       "      <th>3</th>\n",
       "      <td>LP001035</td>\n",
       "      <td>1</td>\n",
       "      <td>1</td>\n",
       "      <td>2</td>\n",
       "      <td>0</td>\n",
       "      <td>0</td>\n",
       "      <td>100.0</td>\n",
       "      <td>360.0</td>\n",
       "      <td>1.0</td>\n",
       "      <td>2</td>\n",
       "      <td>4886</td>\n",
       "      <td>Y</td>\n",
       "    </tr>\n",
       "    <tr>\n",
       "      <th>4</th>\n",
       "      <td>LP001051</td>\n",
       "      <td>1</td>\n",
       "      <td>0</td>\n",
       "      <td>0</td>\n",
       "      <td>1</td>\n",
       "      <td>0</td>\n",
       "      <td>78.0</td>\n",
       "      <td>360.0</td>\n",
       "      <td>1.0</td>\n",
       "      <td>2</td>\n",
       "      <td>3276</td>\n",
       "      <td>Y</td>\n",
       "    </tr>\n",
       "  </tbody>\n",
       "</table>\n",
       "</div>"
      ],
      "text/plain": [
       "    Loan_ID  Gender  Married  Dependents  Education  Self_Employed  \\\n",
       "0  LP001015       1        1           0          0              0   \n",
       "1  LP001022       1        1           1          0              0   \n",
       "2  LP001031       1        1           2          0              0   \n",
       "3  LP001035       1        1           2          0              0   \n",
       "4  LP001051       1        0           0          1              0   \n",
       "\n",
       "   LoanAmount Loan_Amount_Term Credit_History  property_Area  TotalIncome  \\\n",
       "0       110.0            360.0            1.0              2         5720   \n",
       "1       126.0            360.0            1.0              2         4576   \n",
       "2       208.0            360.0            1.0              2         6800   \n",
       "3       100.0            360.0            1.0              2         4886   \n",
       "4        78.0            360.0            1.0              2         3276   \n",
       "\n",
       "  Loan_Status  \n",
       "0           Y  \n",
       "1           Y  \n",
       "2           Y  \n",
       "3           Y  \n",
       "4           Y  "
      ]
     },
     "execution_count": 51,
     "metadata": {},
     "output_type": "execute_result"
    }
   ],
   "source": [
    "# Finalising predictions on whole training and testing datasets\n",
    "\n",
    "# Create a model\n",
    "classifier = LogisticRegression()\n",
    "\n",
    "# fitting training data to the model\n",
    "classifier.fit(X, Y)\n",
    "\n",
    "# Predicting using .predict\n",
    "y_pred_prob = classifier.predict_proba(P)\n",
    "\n",
    "y_pred_class = []\n",
    "for value in y_pred_prob[:,1]:\n",
    "    if value > 0.47:\n",
    "        y_pred_class.append('Y')\n",
    "    else:\n",
    "        y_pred_class.append('N')\n",
    "pb_1 = df_test.copy()\n",
    "pb_1['Loan_Status'] = y_pred_class\n",
    "\n",
    "pb_1.head()"
   ]
  },
  {
   "cell_type": "code",
   "execution_count": 52,
   "metadata": {},
   "outputs": [],
   "source": [
    "# Dumping solution DataFrame to a csv file.\n",
    "\n",
    "output_1 = pb_1[['Loan_ID', 'LoanAmount', 'Loan_Amount_Term', 'Loan_Status']]\n",
    "output_1.to_csv(\"Predicted_Loan_Status.csv\")"
   ]
  },
  {
   "cell_type": "markdown",
   "metadata": {},
   "source": [
    "<a id='8'></a>\n",
    "## 2. If customer is not eligible for the input required amount and duration:\n",
    "* What can be amount for the given duration.(Regression)"
   ]
  },
  {
   "cell_type": "markdown",
   "metadata": {},
   "source": [
    "<a id='8.1'></a>\n",
    "#### Creating new dataframes"
   ]
  },
  {
   "cell_type": "code",
   "execution_count": 53,
   "metadata": {},
   "outputs": [],
   "source": [
    "train_frames = [df_train[df_train.Loan_Status==\"Y\"], pb_1[pb_1.Loan_Status==\"Y\"]]\n",
    "train_df_2 = pd.concat(train_frames)\n",
    "train_df_2.index = range(0,train_df_2.shape[0])\n",
    "\n",
    "test_frames = [pb_1[pb_1.Loan_Status == 'N'], df_train[df_train.Loan_Status==\"N\"]]\n",
    "test_df_2 = pd.concat(test_frames)\n",
    "test_df_2.index = range(0,test_df_2.shape[0])"
   ]
  },
  {
   "cell_type": "code",
   "execution_count": 54,
   "metadata": {},
   "outputs": [
    {
     "data": {
      "text/plain": [
       "Index(['Loan_ID', 'Gender', 'Married', 'Dependents', 'Education',\n",
       "       'Self_Employed', 'LoanAmount', 'Loan_Amount_Term', 'Credit_History',\n",
       "       'property_Area', 'TotalIncome', 'Loan_Status'],\n",
       "      dtype='object')"
      ]
     },
     "execution_count": 54,
     "metadata": {},
     "output_type": "execute_result"
    }
   ],
   "source": [
    "test_df_2.columns"
   ]
  },
  {
   "cell_type": "code",
   "execution_count": 55,
   "metadata": {},
   "outputs": [],
   "source": [
    "# Re-arranging columns in DataFrame.\n",
    "\n",
    "train_df_2 = train_df_2[['Loan_ID', 'Gender', 'Married', 'Dependents', 'Education',\n",
    "       'Self_Employed', 'LoanAmount', 'Loan_Amount_Term', 'Credit_History',\n",
    "       'property_Area', 'TotalIncome', 'Loan_Status']]"
   ]
  },
  {
   "cell_type": "code",
   "execution_count": 56,
   "metadata": {},
   "outputs": [
    {
     "data": {
      "text/html": [
       "<div>\n",
       "<style scoped>\n",
       "    .dataframe tbody tr th:only-of-type {\n",
       "        vertical-align: middle;\n",
       "    }\n",
       "\n",
       "    .dataframe tbody tr th {\n",
       "        vertical-align: top;\n",
       "    }\n",
       "\n",
       "    .dataframe thead th {\n",
       "        text-align: right;\n",
       "    }\n",
       "</style>\n",
       "<table border=\"1\" class=\"dataframe\">\n",
       "  <thead>\n",
       "    <tr style=\"text-align: right;\">\n",
       "      <th></th>\n",
       "      <th>Loan_ID</th>\n",
       "      <th>Gender</th>\n",
       "      <th>Married</th>\n",
       "      <th>Dependents</th>\n",
       "      <th>Education</th>\n",
       "      <th>Self_Employed</th>\n",
       "      <th>LoanAmount</th>\n",
       "      <th>Loan_Amount_Term</th>\n",
       "      <th>Credit_History</th>\n",
       "      <th>property_Area</th>\n",
       "      <th>TotalIncome</th>\n",
       "      <th>Loan_Status</th>\n",
       "    </tr>\n",
       "  </thead>\n",
       "  <tbody>\n",
       "    <tr>\n",
       "      <th>0</th>\n",
       "      <td>LP001002</td>\n",
       "      <td>1</td>\n",
       "      <td>0</td>\n",
       "      <td>0</td>\n",
       "      <td>0</td>\n",
       "      <td>0</td>\n",
       "      <td>146.412162</td>\n",
       "      <td>360.0</td>\n",
       "      <td>1.0</td>\n",
       "      <td>2</td>\n",
       "      <td>5849.0</td>\n",
       "      <td>Y</td>\n",
       "    </tr>\n",
       "    <tr>\n",
       "      <th>1</th>\n",
       "      <td>LP001005</td>\n",
       "      <td>1</td>\n",
       "      <td>1</td>\n",
       "      <td>0</td>\n",
       "      <td>0</td>\n",
       "      <td>1</td>\n",
       "      <td>66.000000</td>\n",
       "      <td>360.0</td>\n",
       "      <td>1.0</td>\n",
       "      <td>2</td>\n",
       "      <td>3000.0</td>\n",
       "      <td>Y</td>\n",
       "    </tr>\n",
       "    <tr>\n",
       "      <th>2</th>\n",
       "      <td>LP001006</td>\n",
       "      <td>1</td>\n",
       "      <td>1</td>\n",
       "      <td>0</td>\n",
       "      <td>1</td>\n",
       "      <td>0</td>\n",
       "      <td>120.000000</td>\n",
       "      <td>360.0</td>\n",
       "      <td>1.0</td>\n",
       "      <td>2</td>\n",
       "      <td>4941.0</td>\n",
       "      <td>Y</td>\n",
       "    </tr>\n",
       "    <tr>\n",
       "      <th>3</th>\n",
       "      <td>LP001008</td>\n",
       "      <td>1</td>\n",
       "      <td>0</td>\n",
       "      <td>0</td>\n",
       "      <td>0</td>\n",
       "      <td>0</td>\n",
       "      <td>141.000000</td>\n",
       "      <td>360.0</td>\n",
       "      <td>1.0</td>\n",
       "      <td>2</td>\n",
       "      <td>6000.0</td>\n",
       "      <td>Y</td>\n",
       "    </tr>\n",
       "    <tr>\n",
       "      <th>4</th>\n",
       "      <td>LP001011</td>\n",
       "      <td>1</td>\n",
       "      <td>1</td>\n",
       "      <td>2</td>\n",
       "      <td>0</td>\n",
       "      <td>1</td>\n",
       "      <td>267.000000</td>\n",
       "      <td>360.0</td>\n",
       "      <td>1.0</td>\n",
       "      <td>2</td>\n",
       "      <td>9613.0</td>\n",
       "      <td>Y</td>\n",
       "    </tr>\n",
       "    <tr>\n",
       "      <th>...</th>\n",
       "      <td>...</td>\n",
       "      <td>...</td>\n",
       "      <td>...</td>\n",
       "      <td>...</td>\n",
       "      <td>...</td>\n",
       "      <td>...</td>\n",
       "      <td>...</td>\n",
       "      <td>...</td>\n",
       "      <td>...</td>\n",
       "      <td>...</td>\n",
       "      <td>...</td>\n",
       "      <td>...</td>\n",
       "    </tr>\n",
       "    <tr>\n",
       "      <th>771</th>\n",
       "      <td>LP002971</td>\n",
       "      <td>1</td>\n",
       "      <td>1</td>\n",
       "      <td>3</td>\n",
       "      <td>1</td>\n",
       "      <td>1</td>\n",
       "      <td>113.000000</td>\n",
       "      <td>360.0</td>\n",
       "      <td>1.0</td>\n",
       "      <td>2</td>\n",
       "      <td>5786.0</td>\n",
       "      <td>Y</td>\n",
       "    </tr>\n",
       "    <tr>\n",
       "      <th>772</th>\n",
       "      <td>LP002975</td>\n",
       "      <td>1</td>\n",
       "      <td>1</td>\n",
       "      <td>0</td>\n",
       "      <td>0</td>\n",
       "      <td>0</td>\n",
       "      <td>115.000000</td>\n",
       "      <td>360.0</td>\n",
       "      <td>1.0</td>\n",
       "      <td>2</td>\n",
       "      <td>4867.0</td>\n",
       "      <td>Y</td>\n",
       "    </tr>\n",
       "    <tr>\n",
       "      <th>773</th>\n",
       "      <td>LP002980</td>\n",
       "      <td>1</td>\n",
       "      <td>0</td>\n",
       "      <td>0</td>\n",
       "      <td>0</td>\n",
       "      <td>0</td>\n",
       "      <td>126.000000</td>\n",
       "      <td>360.0</td>\n",
       "      <td>1.0</td>\n",
       "      <td>1</td>\n",
       "      <td>5243.0</td>\n",
       "      <td>Y</td>\n",
       "    </tr>\n",
       "    <tr>\n",
       "      <th>774</th>\n",
       "      <td>LP002986</td>\n",
       "      <td>1</td>\n",
       "      <td>1</td>\n",
       "      <td>0</td>\n",
       "      <td>0</td>\n",
       "      <td>0</td>\n",
       "      <td>158.000000</td>\n",
       "      <td>360.0</td>\n",
       "      <td>1.0</td>\n",
       "      <td>0</td>\n",
       "      <td>7393.0</td>\n",
       "      <td>Y</td>\n",
       "    </tr>\n",
       "    <tr>\n",
       "      <th>775</th>\n",
       "      <td>LP002989</td>\n",
       "      <td>1</td>\n",
       "      <td>0</td>\n",
       "      <td>0</td>\n",
       "      <td>0</td>\n",
       "      <td>1</td>\n",
       "      <td>98.000000</td>\n",
       "      <td>180.0</td>\n",
       "      <td>1.0</td>\n",
       "      <td>0</td>\n",
       "      <td>9200.0</td>\n",
       "      <td>Y</td>\n",
       "    </tr>\n",
       "  </tbody>\n",
       "</table>\n",
       "<p>776 rows × 12 columns</p>\n",
       "</div>"
      ],
      "text/plain": [
       "      Loan_ID  Gender  Married  Dependents  Education  Self_Employed  \\\n",
       "0    LP001002       1        0           0          0              0   \n",
       "1    LP001005       1        1           0          0              1   \n",
       "2    LP001006       1        1           0          1              0   \n",
       "3    LP001008       1        0           0          0              0   \n",
       "4    LP001011       1        1           2          0              1   \n",
       "..        ...     ...      ...         ...        ...            ...   \n",
       "771  LP002971       1        1           3          1              1   \n",
       "772  LP002975       1        1           0          0              0   \n",
       "773  LP002980       1        0           0          0              0   \n",
       "774  LP002986       1        1           0          0              0   \n",
       "775  LP002989       1        0           0          0              1   \n",
       "\n",
       "     LoanAmount  Loan_Amount_Term Credit_History  property_Area  TotalIncome  \\\n",
       "0    146.412162             360.0            1.0              2       5849.0   \n",
       "1     66.000000             360.0            1.0              2       3000.0   \n",
       "2    120.000000             360.0            1.0              2       4941.0   \n",
       "3    141.000000             360.0            1.0              2       6000.0   \n",
       "4    267.000000             360.0            1.0              2       9613.0   \n",
       "..          ...               ...            ...            ...          ...   \n",
       "771  113.000000             360.0            1.0              2       5786.0   \n",
       "772  115.000000             360.0            1.0              2       4867.0   \n",
       "773  126.000000             360.0            1.0              1       5243.0   \n",
       "774  158.000000             360.0            1.0              0       7393.0   \n",
       "775   98.000000             180.0            1.0              0       9200.0   \n",
       "\n",
       "    Loan_Status  \n",
       "0             Y  \n",
       "1             Y  \n",
       "2             Y  \n",
       "3             Y  \n",
       "4             Y  \n",
       "..          ...  \n",
       "771           Y  \n",
       "772           Y  \n",
       "773           Y  \n",
       "774           Y  \n",
       "775           Y  \n",
       "\n",
       "[776 rows x 12 columns]"
      ]
     },
     "execution_count": 56,
     "metadata": {},
     "output_type": "execute_result"
    }
   ],
   "source": [
    "train_df_2"
   ]
  },
  {
   "cell_type": "code",
   "execution_count": 57,
   "metadata": {
    "scrolled": false
   },
   "outputs": [
    {
     "data": {
      "text/html": [
       "<div>\n",
       "<style scoped>\n",
       "    .dataframe tbody tr th:only-of-type {\n",
       "        vertical-align: middle;\n",
       "    }\n",
       "\n",
       "    .dataframe tbody tr th {\n",
       "        vertical-align: top;\n",
       "    }\n",
       "\n",
       "    .dataframe thead th {\n",
       "        text-align: right;\n",
       "    }\n",
       "</style>\n",
       "<table border=\"1\" class=\"dataframe\">\n",
       "  <thead>\n",
       "    <tr style=\"text-align: right;\">\n",
       "      <th></th>\n",
       "      <th>Loan_ID</th>\n",
       "      <th>Gender</th>\n",
       "      <th>Married</th>\n",
       "      <th>Dependents</th>\n",
       "      <th>Education</th>\n",
       "      <th>Self_Employed</th>\n",
       "      <th>LoanAmount</th>\n",
       "      <th>Loan_Amount_Term</th>\n",
       "      <th>Credit_History</th>\n",
       "      <th>property_Area</th>\n",
       "      <th>TotalIncome</th>\n",
       "      <th>Loan_Status</th>\n",
       "    </tr>\n",
       "  </thead>\n",
       "  <tbody>\n",
       "    <tr>\n",
       "      <th>0</th>\n",
       "      <td>LP001059</td>\n",
       "      <td>1</td>\n",
       "      <td>1</td>\n",
       "      <td>2</td>\n",
       "      <td>0</td>\n",
       "      <td>0</td>\n",
       "      <td>280.000000</td>\n",
       "      <td>240.0</td>\n",
       "      <td>1.0</td>\n",
       "      <td>2</td>\n",
       "      <td>13633.0</td>\n",
       "      <td>N</td>\n",
       "    </tr>\n",
       "    <tr>\n",
       "      <th>1</th>\n",
       "      <td>LP001149</td>\n",
       "      <td>1</td>\n",
       "      <td>1</td>\n",
       "      <td>0</td>\n",
       "      <td>0</td>\n",
       "      <td>0</td>\n",
       "      <td>290.000000</td>\n",
       "      <td>360.0</td>\n",
       "      <td>1.0</td>\n",
       "      <td>2</td>\n",
       "      <td>9780.0</td>\n",
       "      <td>N</td>\n",
       "    </tr>\n",
       "    <tr>\n",
       "      <th>2</th>\n",
       "      <td>LP001483</td>\n",
       "      <td>1</td>\n",
       "      <td>1</td>\n",
       "      <td>3</td>\n",
       "      <td>0</td>\n",
       "      <td>0</td>\n",
       "      <td>390.000000</td>\n",
       "      <td>360.0</td>\n",
       "      <td>1.0</td>\n",
       "      <td>0</td>\n",
       "      <td>13518.0</td>\n",
       "      <td>N</td>\n",
       "    </tr>\n",
       "    <tr>\n",
       "      <th>3</th>\n",
       "      <td>LP001500</td>\n",
       "      <td>1</td>\n",
       "      <td>1</td>\n",
       "      <td>1</td>\n",
       "      <td>0</td>\n",
       "      <td>0</td>\n",
       "      <td>256.000000</td>\n",
       "      <td>360.0</td>\n",
       "      <td>1.0</td>\n",
       "      <td>2</td>\n",
       "      <td>7533.0</td>\n",
       "      <td>N</td>\n",
       "    </tr>\n",
       "    <tr>\n",
       "      <th>4</th>\n",
       "      <td>LP001655</td>\n",
       "      <td>0</td>\n",
       "      <td>0</td>\n",
       "      <td>0</td>\n",
       "      <td>0</td>\n",
       "      <td>0</td>\n",
       "      <td>300.000000</td>\n",
       "      <td>360.0</td>\n",
       "      <td>0.0</td>\n",
       "      <td>2</td>\n",
       "      <td>12500.0</td>\n",
       "      <td>N</td>\n",
       "    </tr>\n",
       "    <tr>\n",
       "      <th>...</th>\n",
       "      <td>...</td>\n",
       "      <td>...</td>\n",
       "      <td>...</td>\n",
       "      <td>...</td>\n",
       "      <td>...</td>\n",
       "      <td>...</td>\n",
       "      <td>...</td>\n",
       "      <td>...</td>\n",
       "      <td>...</td>\n",
       "      <td>...</td>\n",
       "      <td>...</td>\n",
       "      <td>...</td>\n",
       "    </tr>\n",
       "    <tr>\n",
       "      <th>200</th>\n",
       "      <td>LP002941</td>\n",
       "      <td>1</td>\n",
       "      <td>1</td>\n",
       "      <td>2</td>\n",
       "      <td>1</td>\n",
       "      <td>1</td>\n",
       "      <td>187.000000</td>\n",
       "      <td>360.0</td>\n",
       "      <td>1.0</td>\n",
       "      <td>0</td>\n",
       "      <td>7383.0</td>\n",
       "      <td>N</td>\n",
       "    </tr>\n",
       "    <tr>\n",
       "      <th>201</th>\n",
       "      <td>LP002943</td>\n",
       "      <td>1</td>\n",
       "      <td>0</td>\n",
       "      <td>0</td>\n",
       "      <td>0</td>\n",
       "      <td>0</td>\n",
       "      <td>88.000000</td>\n",
       "      <td>360.0</td>\n",
       "      <td>0.0</td>\n",
       "      <td>1</td>\n",
       "      <td>2987.0</td>\n",
       "      <td>N</td>\n",
       "    </tr>\n",
       "    <tr>\n",
       "      <th>202</th>\n",
       "      <td>LP002949</td>\n",
       "      <td>0</td>\n",
       "      <td>0</td>\n",
       "      <td>3</td>\n",
       "      <td>0</td>\n",
       "      <td>0</td>\n",
       "      <td>350.000000</td>\n",
       "      <td>180.0</td>\n",
       "      <td>1.0</td>\n",
       "      <td>2</td>\n",
       "      <td>42083.0</td>\n",
       "      <td>N</td>\n",
       "    </tr>\n",
       "    <tr>\n",
       "      <th>203</th>\n",
       "      <td>LP002960</td>\n",
       "      <td>1</td>\n",
       "      <td>1</td>\n",
       "      <td>0</td>\n",
       "      <td>1</td>\n",
       "      <td>0</td>\n",
       "      <td>146.412162</td>\n",
       "      <td>180.0</td>\n",
       "      <td>1.0</td>\n",
       "      <td>2</td>\n",
       "      <td>6200.0</td>\n",
       "      <td>N</td>\n",
       "    </tr>\n",
       "    <tr>\n",
       "      <th>204</th>\n",
       "      <td>LP002990</td>\n",
       "      <td>0</td>\n",
       "      <td>0</td>\n",
       "      <td>0</td>\n",
       "      <td>0</td>\n",
       "      <td>1</td>\n",
       "      <td>133.000000</td>\n",
       "      <td>360.0</td>\n",
       "      <td>0.0</td>\n",
       "      <td>1</td>\n",
       "      <td>4583.0</td>\n",
       "      <td>N</td>\n",
       "    </tr>\n",
       "  </tbody>\n",
       "</table>\n",
       "<p>205 rows × 12 columns</p>\n",
       "</div>"
      ],
      "text/plain": [
       "      Loan_ID  Gender  Married  Dependents  Education  Self_Employed  \\\n",
       "0    LP001059       1        1           2          0              0   \n",
       "1    LP001149       1        1           0          0              0   \n",
       "2    LP001483       1        1           3          0              0   \n",
       "3    LP001500       1        1           1          0              0   \n",
       "4    LP001655       0        0           0          0              0   \n",
       "..        ...     ...      ...         ...        ...            ...   \n",
       "200  LP002941       1        1           2          1              1   \n",
       "201  LP002943       1        0           0          0              0   \n",
       "202  LP002949       0        0           3          0              0   \n",
       "203  LP002960       1        1           0          1              0   \n",
       "204  LP002990       0        0           0          0              1   \n",
       "\n",
       "     LoanAmount  Loan_Amount_Term Credit_History  property_Area  TotalIncome  \\\n",
       "0    280.000000             240.0            1.0              2      13633.0   \n",
       "1    290.000000             360.0            1.0              2       9780.0   \n",
       "2    390.000000             360.0            1.0              0      13518.0   \n",
       "3    256.000000             360.0            1.0              2       7533.0   \n",
       "4    300.000000             360.0            0.0              2      12500.0   \n",
       "..          ...               ...            ...            ...          ...   \n",
       "200  187.000000             360.0            1.0              0       7383.0   \n",
       "201   88.000000             360.0            0.0              1       2987.0   \n",
       "202  350.000000             180.0            1.0              2      42083.0   \n",
       "203  146.412162             180.0            1.0              2       6200.0   \n",
       "204  133.000000             360.0            0.0              1       4583.0   \n",
       "\n",
       "    Loan_Status  \n",
       "0             N  \n",
       "1             N  \n",
       "2             N  \n",
       "3             N  \n",
       "4             N  \n",
       "..          ...  \n",
       "200           N  \n",
       "201           N  \n",
       "202           N  \n",
       "203           N  \n",
       "204           N  \n",
       "\n",
       "[205 rows x 12 columns]"
      ]
     },
     "execution_count": 57,
     "metadata": {},
     "output_type": "execute_result"
    }
   ],
   "source": [
    "test_df_2"
   ]
  },
  {
   "cell_type": "markdown",
   "metadata": {},
   "source": [
    "<a id='8.2'></a>\n",
    "#### Defining X & Y"
   ]
  },
  {
   "cell_type": "code",
   "execution_count": 58,
   "metadata": {},
   "outputs": [
    {
     "name": "stdout",
     "output_type": "stream",
     "text": [
      "Shape of X: (776, 9)\n",
      "Shape of Y: (776, 1)\n",
      "Shape of testing dataset: (205, 9)\n"
     ]
    }
   ],
   "source": [
    "#X and Y has been defined using training data\n",
    "#P has been defined using testing data\n",
    "\n",
    "Y = train_df_2[[\"LoanAmount\"]]\n",
    "X = train_df_2.drop([\"LoanAmount\", \"Loan_ID\", \"Loan_Status\"],axis=1)\n",
    "P = test_df_2.drop([\"LoanAmount\", \"Loan_ID\", \"Loan_Status\"],axis=1)\n",
    "\n",
    "print(\"Shape of X:\", X.shape)\n",
    "print(\"Shape of Y:\", Y.shape)\n",
    "print(\"Shape of testing dataset:\", P.shape)"
   ]
  },
  {
   "cell_type": "markdown",
   "metadata": {},
   "source": [
    "<a id='8.3'></a>\n",
    "#### Converting DataFrame to Array for faster processing"
   ]
  },
  {
   "cell_type": "code",
   "execution_count": 59,
   "metadata": {},
   "outputs": [
    {
     "name": "stdout",
     "output_type": "stream",
     "text": [
      "Shape of X: (776, 9)\n",
      "Shape of Y: (776, 1)\n"
     ]
    }
   ],
   "source": [
    "X = X.values\n",
    "Y = Y.values\n",
    "\n",
    "# We confirm the shape of X and Y\n",
    "print(\"Shape of X:\", X.shape)\n",
    "print(\"Shape of Y:\", Y.shape)"
   ]
  },
  {
   "cell_type": "markdown",
   "metadata": {},
   "source": [
    "<a id='8.4'></a>\n",
    "#### Building a Random Forest Regressor model to check feature importance"
   ]
  },
  {
   "cell_type": "code",
   "execution_count": 60,
   "metadata": {},
   "outputs": [
    {
     "data": {
      "text/html": [
       "<style type=\"text/css\">\n",
       "</style>\n",
       "<table id=\"T_69aa3_\">\n",
       "  <thead>\n",
       "    <tr>\n",
       "      <th class=\"col_heading level0 col0\" >Feature</th>\n",
       "      <th class=\"col_heading level0 col1\" >Importance</th>\n",
       "    </tr>\n",
       "  </thead>\n",
       "  <tbody>\n",
       "    <tr>\n",
       "      <td id=\"T_69aa3_row0_col0\" class=\"data row0 col0\" >TotalIncome</td>\n",
       "      <td id=\"T_69aa3_row0_col1\" class=\"data row0 col1\" >0.678315</td>\n",
       "    </tr>\n",
       "    <tr>\n",
       "      <td id=\"T_69aa3_row1_col0\" class=\"data row1 col0\" >Loan_Amount_Term</td>\n",
       "      <td id=\"T_69aa3_row1_col1\" class=\"data row1 col1\" >0.091759</td>\n",
       "    </tr>\n",
       "    <tr>\n",
       "      <td id=\"T_69aa3_row2_col0\" class=\"data row2 col0\" >Dependents</td>\n",
       "      <td id=\"T_69aa3_row2_col1\" class=\"data row2 col1\" >0.064291</td>\n",
       "    </tr>\n",
       "    <tr>\n",
       "      <td id=\"T_69aa3_row3_col0\" class=\"data row3 col0\" >property_Area</td>\n",
       "      <td id=\"T_69aa3_row3_col1\" class=\"data row3 col1\" >0.051020</td>\n",
       "    </tr>\n",
       "    <tr>\n",
       "      <td id=\"T_69aa3_row4_col0\" class=\"data row4 col0\" >Gender</td>\n",
       "      <td id=\"T_69aa3_row4_col1\" class=\"data row4 col1\" >0.033520</td>\n",
       "    </tr>\n",
       "    <tr>\n",
       "      <td id=\"T_69aa3_row5_col0\" class=\"data row5 col0\" >Married</td>\n",
       "      <td id=\"T_69aa3_row5_col1\" class=\"data row5 col1\" >0.030757</td>\n",
       "    </tr>\n",
       "    <tr>\n",
       "      <td id=\"T_69aa3_row6_col0\" class=\"data row6 col0\" >Self_Employed</td>\n",
       "      <td id=\"T_69aa3_row6_col1\" class=\"data row6 col1\" >0.026478</td>\n",
       "    </tr>\n",
       "    <tr>\n",
       "      <td id=\"T_69aa3_row7_col0\" class=\"data row7 col0\" >Education</td>\n",
       "      <td id=\"T_69aa3_row7_col1\" class=\"data row7 col1\" >0.013461</td>\n",
       "    </tr>\n",
       "    <tr>\n",
       "      <td id=\"T_69aa3_row8_col0\" class=\"data row8 col0\" >Credit_History</td>\n",
       "      <td id=\"T_69aa3_row8_col1\" class=\"data row8 col1\" >0.010399</td>\n",
       "    </tr>\n",
       "  </tbody>\n",
       "</table>\n"
      ],
      "text/plain": [
       "<pandas.io.formats.style.Styler at 0x245268fd908>"
      ]
     },
     "execution_count": 60,
     "metadata": {},
     "output_type": "execute_result"
    }
   ],
   "source": [
    "# Splitting the data into test and train data sets.\n",
    "\n",
    "X_train, X_test, Y_train, Y_test= train_test_split(X, Y, test_size=0.2,random_state=10)\n",
    "\n",
    "# Creating a model object.\n",
    "\n",
    "model_DecisionTree = RandomForestRegressor(n_estimators=100, random_state=10)\n",
    "\n",
    "# Fitting the data into our model and predicting the values.\n",
    "\n",
    "model_DecisionTree.fit(X_train,Y_train)\n",
    "Y_pred = model_DecisionTree.predict(X_test)\n",
    "\n",
    "# Building a DataFrame to view the feature importance and sort for a better visual.\n",
    "\n",
    "feature_imp = pd.DataFrame()\n",
    "feature_imp[\"Feature\"] = df_train.drop([\"LoanAmount\", \"Loan_Status\",\"Loan_ID\"],axis=1).columns\n",
    "feature_imp[\"Importance\"] = model_DecisionTree.feature_importances_ \n",
    "feature_imp.sort_values(\"Importance\", ascending = False).style.hide_index()"
   ]
  },
  {
   "cell_type": "markdown",
   "metadata": {},
   "source": [
    "<a id='8.5'></a>\n",
    "### Creating a model pipeline"
   ]
  },
  {
   "cell_type": "code",
   "execution_count": 61,
   "metadata": {},
   "outputs": [],
   "source": [
    "# Defining multiple Regression models\n",
    "\n",
    "models = [\n",
    "    LinearRegression(),\n",
    "    KNeighborsRegressor(),\n",
    "    DecisionTreeRegressor(random_state=10),\n",
    "    RandomForestRegressor(n_estimators=100, random_state=10),\n",
    "    ExtraTreesRegressor(n_estimators=100, random_state=10),\n",
    "    GradientBoostingRegressor(n_estimators=100, random_state=10)  \n",
    "]"
   ]
  },
  {
   "cell_type": "code",
   "execution_count": 62,
   "metadata": {
    "scrolled": false
   },
   "outputs": [
    {
     "name": "stdout",
     "output_type": "stream",
     "text": [
      "Model: LinearRegression\n",
      "Model Score: 0.29640113873351337\n",
      "R-Squared: 0.497375785637332\n",
      "Adj R-Squared: 0.46639210119031826\n",
      "RMSE: 63.5032198022248\n",
      "\n",
      "\n",
      "Model: KNeighborsRegressor\n",
      "Model Score: 0.4678909171110007\n",
      "R-Squared: 0.29215792228562665\n",
      "Adj R-Squared: 0.24852382160460362\n",
      "RMSE: 75.36023257540589\n",
      "\n",
      "\n",
      "Model: DecisionTreeRegressor\n",
      "Model Score: 0.9999487489827567\n",
      "R-Squared: -0.0766715924091319\n",
      "Adj R-Squared: -0.14304175906448924\n",
      "RMSE: 92.94278235807217\n",
      "\n",
      "\n",
      "Model: RandomForestRegressor\n",
      "Model Score: 0.8830964637700978\n",
      "R-Squared: 0.363162178844189\n",
      "Adj R-Squared: 0.32390505288252947\n",
      "RMSE: 71.48064557006623\n",
      "\n",
      "\n",
      "Model: ExtraTreesRegressor\n",
      "Model Score: 0.9999474635632003\n",
      "R-Squared: 0.38306931670277067\n",
      "Adj R-Squared: 0.3450393430748593\n",
      "RMSE: 70.35455615102096\n",
      "\n",
      "\n",
      "Model: GradientBoostingRegressor\n",
      "Model Score: 0.780848801734315\n",
      "R-Squared: 0.2775028818259815\n",
      "Adj R-Squared: 0.23296538823991186\n",
      "RMSE: 76.13635859852756\n",
      "\n",
      "\n"
     ]
    }
   ],
   "source": [
    "### Running the model pipeline\n",
    "\n",
    "### Creating a model pipelinefor model in models:\n",
    "for model in models:\n",
    "    model_score, r_squared, adjusted_r_squared, rmse = build_and_evaluate_regression_pipeline(X_train, Y_train, X_test, Y_test, model)\n",
    "\n",
    "    print(f\"Model: {type(model).__name__}\")\n",
    "    print(f\"Model Score: {model_score}\")\n",
    "    print(f\"R-Squared: {r_squared}\")\n",
    "    print(f\"Adj R-Squared: {adjusted_r_squared}\")\n",
    "    print(f\"RMSE: {rmse}\")\n",
    "    print(\"\\n\")    "
   ]
  },
  {
   "cell_type": "markdown",
   "metadata": {},
   "source": [
    "* As per above metrics, none of the models perform very good.\n",
    "* The difference in R-Squared and Adjusted R-Squared suggest that all models are underfitted/overfitted.\n",
    "* We get the lowest RMSE in case of Linear Regression, RandomForestRegressor & ExtraTreesRegressor.\n",
    "* We will try to optimize them and choose the best performing model."
   ]
  },
  {
   "cell_type": "markdown",
   "metadata": {},
   "source": [
    "<a id='8.6'></a>\n",
    "### Pruning/Tuning of well performing models."
   ]
  },
  {
   "cell_type": "markdown",
   "metadata": {},
   "source": [
    "<a id='8.6a'></a>\n",
    "#### Trying linear regression, Ridge regression and Lasso regression."
   ]
  },
  {
   "cell_type": "code",
   "execution_count": 63,
   "metadata": {
    "scrolled": false
   },
   "outputs": [
    {
     "name": "stdout",
     "output_type": "stream",
     "text": [
      "Model: LinearRegression\n",
      "Model Score: 0.29640113873351337\n",
      "R-Squared: 0.497375785637332\n",
      "Adj R-Squared: 0.46639210119031826\n",
      "RMSE: 63.5032198022248\n",
      "\n",
      "\n",
      "Model: Ridge\n",
      "Model Score: 0.2964005403704586\n",
      "R-Squared: 0.496974385507171\n",
      "Adj R-Squared: 0.4659659572165171\n",
      "RMSE: 63.52857185732119\n",
      "\n",
      "\n",
      "Model: Lasso\n",
      "Model Score: 0.2945004308345853\n",
      "R-Squared: 0.4943737495875733\n",
      "Adj R-Squared: 0.4632050081237936\n",
      "RMSE: 63.69258109652557\n",
      "\n",
      "\n"
     ]
    }
   ],
   "source": [
    "models = [\n",
    "    LinearRegression(),\n",
    "    Ridge(),\n",
    "    Lasso() \n",
    "]\n",
    "\n",
    "### Running the model pipeline\n",
    "\n",
    "### Creating a model pipelinefor model in models:\n",
    "for model in models:\n",
    "    model_score, r_squared, adjusted_r_squared, rmse = build_and_evaluate_regression_pipeline(X_train, Y_train, X_test, Y_test, model)\n",
    "\n",
    "    print(f\"Model: {type(model).__name__}\")\n",
    "    print(f\"Model Score: {model_score}\")\n",
    "    print(f\"R-Squared: {r_squared}\")\n",
    "    print(f\"Adj R-Squared: {adjusted_r_squared}\")\n",
    "    print(f\"RMSE: {rmse}\")\n",
    "    print(\"\\n\")    "
   ]
  },
  {
   "cell_type": "markdown",
   "metadata": {},
   "source": [
    "We get the lowest RMSE using Lasso Regression."
   ]
  },
  {
   "cell_type": "markdown",
   "metadata": {},
   "source": [
    "<a id='8.6b'></a>\n",
    "#### Random forest model with different parameters along with graphs"
   ]
  },
  {
   "cell_type": "code",
   "execution_count": 64,
   "metadata": {},
   "outputs": [
    {
     "data": {
      "image/png": "[encoded data removed]",
      "text/plain": [
       "<Figure size 1008x504 with 1 Axes>"
      ]
     },
     "metadata": {
      "needs_background": "light"
     },
     "output_type": "display_data"
    }
   ],
   "source": [
    "tr = []\n",
    "ts = []\n",
    "\n",
    "for i in range(2,20,1):\n",
    "\n",
    "    rfr = RandomForestRegressor(random_state=10,max_depth=i)\n",
    "    rfr_model = rfr.fit(X_train,Y_train)\n",
    "    tr_pred_rfr = rfr_model.predict(X_train)\n",
    "    ts_pred_rfr = rfr_model.predict(X_test)\n",
    "    \n",
    "    tr.append(round(mean_squared_error(Y_train,tr_pred_rfr),2))\n",
    "    ts.append(round(mean_squared_error(Y_test,ts_pred_rfr),2))\n",
    "    \n",
    "plt.figure(figsize=(14,7))\n",
    "plt.plot(range(2,20,1),tr,\"--o\",c='blue',label=\"Training Error\")\n",
    "plt.plot(range(2,20,1),ts,\"--o\",c='red',label=\"Testing Error\")\n",
    "plt.legend()\n",
    "plt.xlabel(\"Max depth size from 2 to 20\")\n",
    "plt.ylabel(\"Error\")\n",
    "plt.title(\"Error vs Max depth(2-20)\")\n",
    "plt.xticks(range(2,20,1));"
   ]
  },
  {
   "cell_type": "code",
   "execution_count": 65,
   "metadata": {},
   "outputs": [
    {
     "data": {
      "image/png": "[encoded data removed]",
      "text/plain": [
       "<Figure size 1008x504 with 1 Axes>"
      ]
     },
     "metadata": {
      "needs_background": "light"
     },
     "output_type": "display_data"
    }
   ],
   "source": [
    "tr = []\n",
    "ts = []\n",
    "\n",
    "for i in range(2,20,1):\n",
    "\n",
    "    rfr = RandomForestRegressor(random_state=10,min_samples_split=i)\n",
    "    rfr_model = rfr.fit(X_train,Y_train)\n",
    "    tr_pred_rfr = rfr_model.predict(X_train)\n",
    "    ts_pred_rfr = rfr_model.predict(X_test)\n",
    "    \n",
    "    tr.append(round(mean_squared_error(Y_train,tr_pred_rfr),2))\n",
    "    ts.append(round(mean_squared_error(Y_test,ts_pred_rfr),2))\n",
    "    \n",
    "plt.figure(figsize=(14,7))\n",
    "plt.plot(range(2,20,1),tr,\"--o\",c='blue',label=\"Training Error\")\n",
    "plt.plot(range(2,20,1),ts,\"--o\",c='red',label=\"Testing Error\")\n",
    "plt.legend()\n",
    "plt.xlabel(\"Minimum Samples Split size from 2 to 20\")\n",
    "plt.ylabel(\"Error\")\n",
    "plt.title(\"Error vs Minimum Samples Split(2-20)\")\n",
    "plt.xticks(range(2,20,1));"
   ]
  },
  {
   "cell_type": "code",
   "execution_count": 66,
   "metadata": {},
   "outputs": [
    {
     "data": {
      "image/png": "[encoded data removed]",
      "text/plain": [
       "<Figure size 1008x504 with 1 Axes>"
      ]
     },
     "metadata": {
      "needs_background": "light"
     },
     "output_type": "display_data"
    }
   ],
   "source": [
    "tr = []\n",
    "ts = []\n",
    "\n",
    "for i in range(2,20,1):\n",
    "\n",
    "    rfr = RandomForestRegressor(random_state=10,min_samples_leaf=i)\n",
    "    rfr_model = rfr.fit(X_train,Y_train)\n",
    "    tr_pred_rfr = rfr_model.predict(X_train)\n",
    "    ts_pred_rfr = rfr_model.predict(X_test)\n",
    "    \n",
    "    tr.append(round(mean_squared_error(Y_train,tr_pred_rfr),2))\n",
    "    ts.append(round(mean_squared_error(Y_test,ts_pred_rfr),2))\n",
    "    \n",
    "plt.figure(figsize=(14,7))\n",
    "plt.plot(range(2,20,1),tr,\"--o\",c='blue',label=\"Training Error\")\n",
    "plt.plot(range(2,20,1),ts,\"--o\",c='red',label=\"Testing Error\")\n",
    "plt.legend()\n",
    "plt.xlabel(\"Minimum Samples Leaf size from 2 to 20\")\n",
    "plt.ylabel(\"Error\")\n",
    "plt.title(\"Error vs Minimum Samples Leaf(2-20)\")\n",
    "plt.xticks(range(2,20,1));"
   ]
  },
  {
   "cell_type": "code",
   "execution_count": 67,
   "metadata": {},
   "outputs": [
    {
     "name": "stdout",
     "output_type": "stream",
     "text": [
      "Training error is: 1973.23\n",
      "Testing error is: 4968.94\n"
     ]
    }
   ],
   "source": [
    "rfr = RandomForestRegressor(random_state=10,min_samples_leaf=8)\n",
    "rfr_model = rfr.fit(X_train,Y_train)\n",
    "tr_pred_rfr = rfr_model.predict(X_train)\n",
    "ts_pred_rfr = rfr_model.predict(X_test)\n",
    "\n",
    "print(\"Training error is:\",round(mean_squared_error(Y_train,tr_pred_rfr),2))\n",
    "print(\"Testing error is:\",round(mean_squared_error(Y_test,ts_pred_rfr),2))"
   ]
  },
  {
   "cell_type": "markdown",
   "metadata": {},
   "source": [
    "##### Random forest model using GridSearchCV and tuning different parameter"
   ]
  },
  {
   "cell_type": "code",
   "execution_count": 68,
   "metadata": {},
   "outputs": [
    {
     "data": {
      "text/plain": [
       "{'min_samples_leaf': 8, 'n_estimators': 200}"
      ]
     },
     "execution_count": 68,
     "metadata": {},
     "output_type": "execute_result"
    }
   ],
   "source": [
    "rfr = RandomForestRegressor(random_state=10)\n",
    "tg = {'min_samples_leaf':range(2,9),'n_estimators':[200,300,400]}\n",
    "\n",
    "cv2 = GridSearchCV(rfr,tg,scoring=\"neg_mean_squared_error\",cv=4)\n",
    "cv2_model = cv2.fit(X_train,Y_train)\n",
    "cv2_model.best_params_"
   ]
  },
  {
   "cell_type": "code",
   "execution_count": 69,
   "metadata": {},
   "outputs": [
    {
     "name": "stdout",
     "output_type": "stream",
     "text": [
      "Model Score: 0.5108443901117202\n",
      "R-squared: 0.3758019327355355\n",
      "RMSE: 70.767727876762\n",
      "Adj R-square: 0.36846801288516984\n"
     ]
    }
   ],
   "source": [
    "RF = RandomForestRegressor(random_state=10, min_samples_leaf = 8, n_estimators = 200)\n",
    "RF.fit(X_train, Y_train)\n",
    "Y_pred = RF.predict(X_test)\n",
    "\n",
    "print(\"Model Score:\", RF.score(X_train, Y_train))\n",
    "\n",
    "# Evaluating metrics:\n",
    "\n",
    "r2=r2_score(Y_test,Y_pred)  # R-Square value\n",
    "print(\"R-squared:\",r2)\n",
    "\n",
    "rmse = np.sqrt(mean_squared_error(Y_test, Y_pred))\n",
    "print(\"RMSE:\", rmse)\n",
    "\n",
    "adjusted_r_squared = 1 - (1-r2)*(len(Y)-1)/(len(Y)-X.shape[1]-1)\n",
    "print(\"Adj R-square:\",adjusted_r_squared)"
   ]
  },
  {
   "cell_type": "markdown",
   "metadata": {},
   "source": [
    "<a id='8.6c'></a>\n",
    "#### Extra Tree model using GridSearchCV and tuning different parameter"
   ]
  },
  {
   "cell_type": "code",
   "execution_count": 70,
   "metadata": {},
   "outputs": [
    {
     "data": {
      "text/plain": [
       "{'min_samples_leaf': 5, 'n_estimators': 400}"
      ]
     },
     "execution_count": 70,
     "metadata": {},
     "output_type": "execute_result"
    }
   ],
   "source": [
    "etr = ExtraTreesRegressor(random_state=10)\n",
    "tg = {'min_samples_leaf':range(2,9),'n_estimators':[200,300,400]}\n",
    "\n",
    "cv3 = GridSearchCV(etr,tg,scoring=\"neg_mean_squared_error\",cv=4)\n",
    "cv3_model = cv3.fit(X,Y)\n",
    "cv3_model.best_params_"
   ]
  },
  {
   "cell_type": "code",
   "execution_count": 71,
   "metadata": {},
   "outputs": [
    {
     "name": "stdout",
     "output_type": "stream",
     "text": [
      "Model Score: 0.5455002633524833\n",
      "R-squared: 0.3155943309532133\n",
      "RMSE: 74.10215555545116\n",
      "Adj R-square: 0.30755301108190636\n"
     ]
    }
   ],
   "source": [
    "ET = ExtraTreesRegressor(random_state=10, min_samples_leaf = 5, n_estimators = 400)\n",
    "ET.fit(X_train, Y_train)\n",
    "Y_pred = ET.predict(X_test)\n",
    "\n",
    "print(\"Model Score:\", ET.score(X_train, Y_train))\n",
    "\n",
    "# Evaluating metrics:\n",
    "\n",
    "r2=r2_score(Y_test,Y_pred)  # R-Square value\n",
    "print(\"R-squared:\",r2)\n",
    "\n",
    "rmse = np.sqrt(mean_squared_error(Y_test, Y_pred))\n",
    "print(\"RMSE:\", rmse)\n",
    "\n",
    "adjusted_r_squared = 1 - (1-r2)*(len(Y)-1)/(len(Y)-X.shape[1]-1)\n",
    "print(\"Adj R-square:\",adjusted_r_squared)"
   ]
  },
  {
   "cell_type": "markdown",
   "metadata": {},
   "source": [
    "<a id='8.7'></a>\n",
    "<body>\n",
    "    <h1>Metrics Summary</h1>\n",
    "\t<table>\n",
    "\t\t<thead>\n",
    "\t\t\t<tr>\n",
    "                <th><u>Metrics</u></th>\n",
    "\t\t\t\t<th>Lasso Regression</th>\n",
    "\t\t\t\t<th>Pruned RandomForestRegressor</th>\n",
    "\t\t\t\t<th>Pruned ExtraTreeRegressor</th>\n",
    "\t\t\t</tr>\n",
    "\t\t</thead>\n",
    "\t\t<tbody>\n",
    "\t\t\t<tr>\n",
    "\t\t\t\t<td>Model Score</td>\n",
    "\t\t\t\t<td>0.29</td>\n",
    "\t\t\t\t<td>0.51</td>\n",
    "\t\t\t\t<td>0.54</td>\n",
    "\t\t\t</tr>\n",
    "\t\t\t<tr>\n",
    "\t\t\t\t<td>R-Squared</td>\n",
    "\t\t\t\t<td>0.49</td>\n",
    "\t\t\t\t<td>0.37</td>\n",
    "\t\t\t\t<td>0.31</td>\n",
    "\t\t\t</tr>\n",
    "\t\t\t<tr>\n",
    "\t\t\t\t<td>Adj R-Squared</td>\n",
    "\t\t\t\t<td>0.46</td>\n",
    "\t\t\t\t<td>0.36</td>\n",
    "\t\t\t\t<td>0.30</td>\n",
    "\t\t\t</tr>\n",
    "\t\t\t<tr>\n",
    "\t\t\t\t<td>RMSE</td>\n",
    "\t\t\t\t<td>63.69</td>\n",
    "\t\t\t\t<td>70.76</td>\n",
    "\t\t\t\t<td>74.10</td>\n",
    "\t\t\t</tr>\n",
    "\t\t</tbody>\n",
    "\t</table>\n",
    "</body>"
   ]
  },
  {
   "cell_type": "markdown",
   "metadata": {},
   "source": [
    "We see that in case of:\n",
    "* Lasso Regression: RMSE and Model Score is lowest and there is slight difference in R-Squared and adjusted R-Squared.\n",
    "* Extra Tree: RMSE and Model Score is average and there is a difference between R-Squared and Adjusted R-Squared.\n",
    "* Random Forest: RMSE and Model Score is Highest and there is minimal difference between R-Squared and Adjusted R-Squared.\n",
    "* We will go forward and use our Random Forest model, as it gives a decent accuracy and is not overfitted/underfitted."
   ]
  },
  {
   "cell_type": "markdown",
   "metadata": {},
   "source": [
    "<a id='8.8'></a>\n",
    "### Predicting using our pruned Extra Tree model"
   ]
  },
  {
   "cell_type": "code",
   "execution_count": 72,
   "metadata": {},
   "outputs": [],
   "source": [
    "RF = RandomForestRegressor(random_state=10, min_samples_leaf = 8, n_estimators = 200)\n",
    "RF.fit(X, Y)\n",
    "Y_pred = RF.predict(P)"
   ]
  },
  {
   "cell_type": "code",
   "execution_count": 73,
   "metadata": {},
   "outputs": [
    {
     "data": {
      "text/html": [
       "<div>\n",
       "<style scoped>\n",
       "    .dataframe tbody tr th:only-of-type {\n",
       "        vertical-align: middle;\n",
       "    }\n",
       "\n",
       "    .dataframe tbody tr th {\n",
       "        vertical-align: top;\n",
       "    }\n",
       "\n",
       "    .dataframe thead th {\n",
       "        text-align: right;\n",
       "    }\n",
       "</style>\n",
       "<table border=\"1\" class=\"dataframe\">\n",
       "  <thead>\n",
       "    <tr style=\"text-align: right;\">\n",
       "      <th></th>\n",
       "      <th>Loan_ID</th>\n",
       "      <th>Gender</th>\n",
       "      <th>Married</th>\n",
       "      <th>Dependents</th>\n",
       "      <th>Education</th>\n",
       "      <th>Self_Employed</th>\n",
       "      <th>Loan_Amount_Term</th>\n",
       "      <th>Credit_History</th>\n",
       "      <th>property_Area</th>\n",
       "      <th>Loan_Status</th>\n",
       "      <th>LoanAmount</th>\n",
       "      <th>Predicted_LoanAmount</th>\n",
       "    </tr>\n",
       "  </thead>\n",
       "  <tbody>\n",
       "    <tr>\n",
       "      <th>0</th>\n",
       "      <td>LP001059</td>\n",
       "      <td>1</td>\n",
       "      <td>1</td>\n",
       "      <td>2</td>\n",
       "      <td>0</td>\n",
       "      <td>0</td>\n",
       "      <td>240.0</td>\n",
       "      <td>1.0</td>\n",
       "      <td>2</td>\n",
       "      <td>N</td>\n",
       "      <td>280.0</td>\n",
       "      <td>183.731123</td>\n",
       "    </tr>\n",
       "    <tr>\n",
       "      <th>1</th>\n",
       "      <td>LP001149</td>\n",
       "      <td>1</td>\n",
       "      <td>1</td>\n",
       "      <td>0</td>\n",
       "      <td>0</td>\n",
       "      <td>0</td>\n",
       "      <td>360.0</td>\n",
       "      <td>1.0</td>\n",
       "      <td>2</td>\n",
       "      <td>N</td>\n",
       "      <td>290.0</td>\n",
       "      <td>169.473492</td>\n",
       "    </tr>\n",
       "    <tr>\n",
       "      <th>2</th>\n",
       "      <td>LP001483</td>\n",
       "      <td>1</td>\n",
       "      <td>1</td>\n",
       "      <td>3</td>\n",
       "      <td>0</td>\n",
       "      <td>0</td>\n",
       "      <td>360.0</td>\n",
       "      <td>1.0</td>\n",
       "      <td>0</td>\n",
       "      <td>N</td>\n",
       "      <td>390.0</td>\n",
       "      <td>196.567646</td>\n",
       "    </tr>\n",
       "    <tr>\n",
       "      <th>3</th>\n",
       "      <td>LP001500</td>\n",
       "      <td>1</td>\n",
       "      <td>1</td>\n",
       "      <td>1</td>\n",
       "      <td>0</td>\n",
       "      <td>0</td>\n",
       "      <td>360.0</td>\n",
       "      <td>1.0</td>\n",
       "      <td>2</td>\n",
       "      <td>N</td>\n",
       "      <td>256.0</td>\n",
       "      <td>159.958522</td>\n",
       "    </tr>\n",
       "    <tr>\n",
       "      <th>4</th>\n",
       "      <td>LP001655</td>\n",
       "      <td>0</td>\n",
       "      <td>0</td>\n",
       "      <td>0</td>\n",
       "      <td>0</td>\n",
       "      <td>0</td>\n",
       "      <td>360.0</td>\n",
       "      <td>0.0</td>\n",
       "      <td>2</td>\n",
       "      <td>N</td>\n",
       "      <td>300.0</td>\n",
       "      <td>178.306319</td>\n",
       "    </tr>\n",
       "  </tbody>\n",
       "</table>\n",
       "</div>"
      ],
      "text/plain": [
       "    Loan_ID  Gender  Married  Dependents  Education  Self_Employed  \\\n",
       "0  LP001059       1        1           2          0              0   \n",
       "1  LP001149       1        1           0          0              0   \n",
       "2  LP001483       1        1           3          0              0   \n",
       "3  LP001500       1        1           1          0              0   \n",
       "4  LP001655       0        0           0          0              0   \n",
       "\n",
       "   Loan_Amount_Term Credit_History  property_Area Loan_Status  LoanAmount  \\\n",
       "0             240.0            1.0              2           N       280.0   \n",
       "1             360.0            1.0              2           N       290.0   \n",
       "2             360.0            1.0              0           N       390.0   \n",
       "3             360.0            1.0              2           N       256.0   \n",
       "4             360.0            0.0              2           N       300.0   \n",
       "\n",
       "   Predicted_LoanAmount  \n",
       "0            183.731123  \n",
       "1            169.473492  \n",
       "2            196.567646  \n",
       "3            159.958522  \n",
       "4            178.306319  "
      ]
     },
     "execution_count": 73,
     "metadata": {},
     "output_type": "execute_result"
    }
   ],
   "source": [
    "pb_2 = test_df_2[['Loan_ID', 'Gender', 'Married', 'Dependents', 'Education',\n",
    "       'Self_Employed', 'Loan_Amount_Term', 'Credit_History', 'property_Area', \n",
    "        'Loan_Status', 'LoanAmount']]\n",
    "\n",
    "pb_2['Predicted_LoanAmount'] = Y_pred\n",
    "pb_2.index = range(0,pb_2.shape[0])\n",
    "pb_2.head()"
   ]
  },
  {
   "cell_type": "code",
   "execution_count": 74,
   "metadata": {},
   "outputs": [],
   "source": [
    "# Dumping solution DataFrame to a csv file.\n",
    "\n",
    "output_2 = pb_2[['Loan_ID', 'Loan_Amount_Term', 'LoanAmount', 'Predicted_LoanAmount']]\n",
    "output_2.to_csv(\"Predicted_Loan_Amount.csv\")"
   ]
  },
  {
   "cell_type": "markdown",
   "metadata": {},
   "source": [
    "<a id='9'></a>\n",
    "## 2. If customer is not eligible for the input required amount and duration:\n",
    "* If duration is less than equal to 20 years, is customer eligible for required amount for some longer duration? What is that duration?(Regression)"
   ]
  },
  {
   "cell_type": "markdown",
   "metadata": {},
   "source": [
    "<a id='9.1'></a>\n",
    "#### Creating new Dataframes"
   ]
  },
  {
   "cell_type": "code",
   "execution_count": 75,
   "metadata": {},
   "outputs": [
    {
     "data": {
      "text/html": [
       "<div>\n",
       "<style scoped>\n",
       "    .dataframe tbody tr th:only-of-type {\n",
       "        vertical-align: middle;\n",
       "    }\n",
       "\n",
       "    .dataframe tbody tr th {\n",
       "        vertical-align: top;\n",
       "    }\n",
       "\n",
       "    .dataframe thead th {\n",
       "        text-align: right;\n",
       "    }\n",
       "</style>\n",
       "<table border=\"1\" class=\"dataframe\">\n",
       "  <thead>\n",
       "    <tr style=\"text-align: right;\">\n",
       "      <th></th>\n",
       "      <th>Loan_ID</th>\n",
       "      <th>Gender</th>\n",
       "      <th>Married</th>\n",
       "      <th>Dependents</th>\n",
       "      <th>Education</th>\n",
       "      <th>Self_Employed</th>\n",
       "      <th>LoanAmount</th>\n",
       "      <th>Loan_Amount_Term</th>\n",
       "      <th>Credit_History</th>\n",
       "      <th>property_Area</th>\n",
       "      <th>TotalIncome</th>\n",
       "      <th>Loan_Status</th>\n",
       "    </tr>\n",
       "  </thead>\n",
       "  <tbody>\n",
       "    <tr>\n",
       "      <th>0</th>\n",
       "      <td>LP001002</td>\n",
       "      <td>1</td>\n",
       "      <td>0</td>\n",
       "      <td>0</td>\n",
       "      <td>0</td>\n",
       "      <td>0</td>\n",
       "      <td>146.412162</td>\n",
       "      <td>360.0</td>\n",
       "      <td>1.0</td>\n",
       "      <td>2</td>\n",
       "      <td>5849.0</td>\n",
       "      <td>Y</td>\n",
       "    </tr>\n",
       "    <tr>\n",
       "      <th>1</th>\n",
       "      <td>LP001005</td>\n",
       "      <td>1</td>\n",
       "      <td>1</td>\n",
       "      <td>0</td>\n",
       "      <td>0</td>\n",
       "      <td>1</td>\n",
       "      <td>66.000000</td>\n",
       "      <td>360.0</td>\n",
       "      <td>1.0</td>\n",
       "      <td>2</td>\n",
       "      <td>3000.0</td>\n",
       "      <td>Y</td>\n",
       "    </tr>\n",
       "    <tr>\n",
       "      <th>2</th>\n",
       "      <td>LP001006</td>\n",
       "      <td>1</td>\n",
       "      <td>1</td>\n",
       "      <td>0</td>\n",
       "      <td>1</td>\n",
       "      <td>0</td>\n",
       "      <td>120.000000</td>\n",
       "      <td>360.0</td>\n",
       "      <td>1.0</td>\n",
       "      <td>2</td>\n",
       "      <td>4941.0</td>\n",
       "      <td>Y</td>\n",
       "    </tr>\n",
       "    <tr>\n",
       "      <th>3</th>\n",
       "      <td>LP001008</td>\n",
       "      <td>1</td>\n",
       "      <td>0</td>\n",
       "      <td>0</td>\n",
       "      <td>0</td>\n",
       "      <td>0</td>\n",
       "      <td>141.000000</td>\n",
       "      <td>360.0</td>\n",
       "      <td>1.0</td>\n",
       "      <td>2</td>\n",
       "      <td>6000.0</td>\n",
       "      <td>Y</td>\n",
       "    </tr>\n",
       "    <tr>\n",
       "      <th>4</th>\n",
       "      <td>LP001011</td>\n",
       "      <td>1</td>\n",
       "      <td>1</td>\n",
       "      <td>2</td>\n",
       "      <td>0</td>\n",
       "      <td>1</td>\n",
       "      <td>267.000000</td>\n",
       "      <td>360.0</td>\n",
       "      <td>1.0</td>\n",
       "      <td>2</td>\n",
       "      <td>9613.0</td>\n",
       "      <td>Y</td>\n",
       "    </tr>\n",
       "  </tbody>\n",
       "</table>\n",
       "</div>"
      ],
      "text/plain": [
       "    Loan_ID  Gender  Married  Dependents  Education  Self_Employed  \\\n",
       "0  LP001002       1        0           0          0              0   \n",
       "1  LP001005       1        1           0          0              1   \n",
       "2  LP001006       1        1           0          1              0   \n",
       "3  LP001008       1        0           0          0              0   \n",
       "4  LP001011       1        1           2          0              1   \n",
       "\n",
       "   LoanAmount  Loan_Amount_Term Credit_History  property_Area  TotalIncome  \\\n",
       "0  146.412162             360.0            1.0              2       5849.0   \n",
       "1   66.000000             360.0            1.0              2       3000.0   \n",
       "2  120.000000             360.0            1.0              2       4941.0   \n",
       "3  141.000000             360.0            1.0              2       6000.0   \n",
       "4  267.000000             360.0            1.0              2       9613.0   \n",
       "\n",
       "  Loan_Status  \n",
       "0           Y  \n",
       "1           Y  \n",
       "2           Y  \n",
       "3           Y  \n",
       "4           Y  "
      ]
     },
     "execution_count": 75,
     "metadata": {},
     "output_type": "execute_result"
    }
   ],
   "source": [
    "# Contains data of all customers whose loans were approved\n",
    "\n",
    "train_df_3 = train_df_2.copy()\n",
    "train_df_3.index = range(0,train_df_3.shape[0])\n",
    "train_df_3.head()"
   ]
  },
  {
   "cell_type": "code",
   "execution_count": 76,
   "metadata": {},
   "outputs": [],
   "source": [
    "# Contains data of all customers whose loans were rejected\n",
    "# Loan_Amount_Term <=240 months (20 years).\n",
    "\n",
    "test_df_3 = test_df_2.copy()\n",
    "test_df_3 = test_df_3[test_df_3.Loan_Amount_Term <= 240]\n",
    "test_df_3.index = range(0,test_df_3.shape[0])\n",
    "test_df_3.shape\n",
    "\n",
    "# Reserving for final predictions.\n",
    "final_test_3 = test_df_3.copy()"
   ]
  },
  {
   "cell_type": "code",
   "execution_count": 77,
   "metadata": {},
   "outputs": [
    {
     "data": {
      "text/html": [
       "<div>\n",
       "<style scoped>\n",
       "    .dataframe tbody tr th:only-of-type {\n",
       "        vertical-align: middle;\n",
       "    }\n",
       "\n",
       "    .dataframe tbody tr th {\n",
       "        vertical-align: top;\n",
       "    }\n",
       "\n",
       "    .dataframe thead th {\n",
       "        text-align: right;\n",
       "    }\n",
       "</style>\n",
       "<table border=\"1\" class=\"dataframe\">\n",
       "  <thead>\n",
       "    <tr style=\"text-align: right;\">\n",
       "      <th></th>\n",
       "      <th>Loan_ID</th>\n",
       "      <th>Gender</th>\n",
       "      <th>Married</th>\n",
       "      <th>Dependents</th>\n",
       "      <th>Education</th>\n",
       "      <th>Self_Employed</th>\n",
       "      <th>LoanAmount</th>\n",
       "      <th>Loan_Amount_Term</th>\n",
       "      <th>Credit_History</th>\n",
       "      <th>property_Area</th>\n",
       "      <th>TotalIncome</th>\n",
       "      <th>Loan_Status</th>\n",
       "    </tr>\n",
       "  </thead>\n",
       "  <tbody>\n",
       "    <tr>\n",
       "      <th>0</th>\n",
       "      <td>LP001059</td>\n",
       "      <td>1</td>\n",
       "      <td>1</td>\n",
       "      <td>2</td>\n",
       "      <td>0</td>\n",
       "      <td>0</td>\n",
       "      <td>280.0</td>\n",
       "      <td>240.0</td>\n",
       "      <td>1.0</td>\n",
       "      <td>2</td>\n",
       "      <td>13633.0</td>\n",
       "      <td>N</td>\n",
       "    </tr>\n",
       "    <tr>\n",
       "      <th>1</th>\n",
       "      <td>LP001794</td>\n",
       "      <td>1</td>\n",
       "      <td>1</td>\n",
       "      <td>2</td>\n",
       "      <td>0</td>\n",
       "      <td>1</td>\n",
       "      <td>260.0</td>\n",
       "      <td>12.0</td>\n",
       "      <td>1.0</td>\n",
       "      <td>0</td>\n",
       "      <td>10890.0</td>\n",
       "      <td>N</td>\n",
       "    </tr>\n",
       "    <tr>\n",
       "      <th>2</th>\n",
       "      <td>LP001207</td>\n",
       "      <td>1</td>\n",
       "      <td>1</td>\n",
       "      <td>0</td>\n",
       "      <td>1</td>\n",
       "      <td>1</td>\n",
       "      <td>165.0</td>\n",
       "      <td>180.0</td>\n",
       "      <td>0.0</td>\n",
       "      <td>0</td>\n",
       "      <td>6058.0</td>\n",
       "      <td>N</td>\n",
       "    </tr>\n",
       "    <tr>\n",
       "      <th>3</th>\n",
       "      <td>LP001228</td>\n",
       "      <td>1</td>\n",
       "      <td>0</td>\n",
       "      <td>0</td>\n",
       "      <td>1</td>\n",
       "      <td>0</td>\n",
       "      <td>126.0</td>\n",
       "      <td>180.0</td>\n",
       "      <td>0.0</td>\n",
       "      <td>2</td>\n",
       "      <td>5454.0</td>\n",
       "      <td>N</td>\n",
       "    </tr>\n",
       "    <tr>\n",
       "      <th>4</th>\n",
       "      <td>LP001451</td>\n",
       "      <td>1</td>\n",
       "      <td>1</td>\n",
       "      <td>1</td>\n",
       "      <td>0</td>\n",
       "      <td>1</td>\n",
       "      <td>160.0</td>\n",
       "      <td>180.0</td>\n",
       "      <td>0.0</td>\n",
       "      <td>2</td>\n",
       "      <td>14363.0</td>\n",
       "      <td>N</td>\n",
       "    </tr>\n",
       "  </tbody>\n",
       "</table>\n",
       "</div>"
      ],
      "text/plain": [
       "    Loan_ID  Gender  Married  Dependents  Education  Self_Employed  \\\n",
       "0  LP001059       1        1           2          0              0   \n",
       "1  LP001794       1        1           2          0              1   \n",
       "2  LP001207       1        1           0          1              1   \n",
       "3  LP001228       1        0           0          1              0   \n",
       "4  LP001451       1        1           1          0              1   \n",
       "\n",
       "   LoanAmount  Loan_Amount_Term Credit_History  property_Area  TotalIncome  \\\n",
       "0       280.0             240.0            1.0              2      13633.0   \n",
       "1       260.0              12.0            1.0              0      10890.0   \n",
       "2       165.0             180.0            0.0              0       6058.0   \n",
       "3       126.0             180.0            0.0              2       5454.0   \n",
       "4       160.0             180.0            0.0              2      14363.0   \n",
       "\n",
       "  Loan_Status  \n",
       "0           N  \n",
       "1           N  \n",
       "2           N  \n",
       "3           N  \n",
       "4           N  "
      ]
     },
     "execution_count": 77,
     "metadata": {},
     "output_type": "execute_result"
    }
   ],
   "source": [
    "test_df_3.head()"
   ]
  },
  {
   "cell_type": "code",
   "execution_count": 78,
   "metadata": {},
   "outputs": [],
   "source": [
    "#Dropping of columns\n",
    "train_df_3 = train_df_3.drop([\"Loan_ID\",\"Loan_Status\"],axis=1)\n",
    "test_df_3 = test_df_3.drop([\"Loan_ID\",\"Loan_Amount_Term\",\"Loan_Status\"],axis=1)"
   ]
  },
  {
   "cell_type": "code",
   "execution_count": 79,
   "metadata": {},
   "outputs": [
    {
     "data": {
      "text/plain": [
       "(776, 10)"
      ]
     },
     "execution_count": 79,
     "metadata": {},
     "output_type": "execute_result"
    }
   ],
   "source": [
    "train_df_3.shape"
   ]
  },
  {
   "cell_type": "code",
   "execution_count": 80,
   "metadata": {},
   "outputs": [
    {
     "data": {
      "text/plain": [
       "(21, 9)"
      ]
     },
     "execution_count": 80,
     "metadata": {},
     "output_type": "execute_result"
    }
   ],
   "source": [
    "test_df_3.shape"
   ]
  },
  {
   "cell_type": "markdown",
   "metadata": {},
   "source": [
    "<a id='9.2'></a>\n",
    "#### Defining X & Y"
   ]
  },
  {
   "cell_type": "code",
   "execution_count": 81,
   "metadata": {},
   "outputs": [
    {
     "name": "stdout",
     "output_type": "stream",
     "text": [
      "Shape of X: (776, 9)\n",
      "Shape of Y: (776, 1)\n",
      "Shape of testing dataset: (21, 9)\n"
     ]
    }
   ],
   "source": [
    "#X and Y has been defined using training data\n",
    "#P has been defined using testing data\n",
    "\n",
    "Y = train_df_3[[\"Loan_Amount_Term\"]]\n",
    "X = train_df_3.drop([\"Loan_Amount_Term\"],axis=1)\n",
    "P = test_df_3\n",
    "\n",
    "print(\"Shape of X:\", X.shape)\n",
    "print(\"Shape of Y:\", Y.shape)\n",
    "print(\"Shape of testing dataset:\", P.shape)"
   ]
  },
  {
   "cell_type": "markdown",
   "metadata": {},
   "source": [
    "<a id='9.3'></a>\n",
    "#### Building a Random Forest Regressor model to check feature importance"
   ]
  },
  {
   "cell_type": "code",
   "execution_count": 82,
   "metadata": {},
   "outputs": [
    {
     "data": {
      "text/html": [
       "<style type=\"text/css\">\n",
       "</style>\n",
       "<table id=\"T_8ec6d_\">\n",
       "  <thead>\n",
       "    <tr>\n",
       "      <th class=\"col_heading level0 col0\" >Feature</th>\n",
       "      <th class=\"col_heading level0 col1\" >Importance</th>\n",
       "    </tr>\n",
       "  </thead>\n",
       "  <tbody>\n",
       "    <tr>\n",
       "      <td id=\"T_8ec6d_row0_col0\" class=\"data row0 col0\" >TotalIncome</td>\n",
       "      <td id=\"T_8ec6d_row0_col1\" class=\"data row0 col1\" >0.397595</td>\n",
       "    </tr>\n",
       "    <tr>\n",
       "      <td id=\"T_8ec6d_row1_col0\" class=\"data row1 col0\" >Loan_Amount_Term</td>\n",
       "      <td id=\"T_8ec6d_row1_col1\" class=\"data row1 col1\" >0.358605</td>\n",
       "    </tr>\n",
       "    <tr>\n",
       "      <td id=\"T_8ec6d_row2_col0\" class=\"data row2 col0\" >Dependents</td>\n",
       "      <td id=\"T_8ec6d_row2_col1\" class=\"data row2 col1\" >0.078427</td>\n",
       "    </tr>\n",
       "    <tr>\n",
       "      <td id=\"T_8ec6d_row3_col0\" class=\"data row3 col0\" >property_Area</td>\n",
       "      <td id=\"T_8ec6d_row3_col1\" class=\"data row3 col1\" >0.055147</td>\n",
       "    </tr>\n",
       "    <tr>\n",
       "      <td id=\"T_8ec6d_row4_col0\" class=\"data row4 col0\" >Married</td>\n",
       "      <td id=\"T_8ec6d_row4_col1\" class=\"data row4 col1\" >0.030581</td>\n",
       "    </tr>\n",
       "    <tr>\n",
       "      <td id=\"T_8ec6d_row5_col0\" class=\"data row5 col0\" >Gender</td>\n",
       "      <td id=\"T_8ec6d_row5_col1\" class=\"data row5 col1\" >0.026541</td>\n",
       "    </tr>\n",
       "    <tr>\n",
       "      <td id=\"T_8ec6d_row6_col0\" class=\"data row6 col0\" >Education</td>\n",
       "      <td id=\"T_8ec6d_row6_col1\" class=\"data row6 col1\" >0.021153</td>\n",
       "    </tr>\n",
       "    <tr>\n",
       "      <td id=\"T_8ec6d_row7_col0\" class=\"data row7 col0\" >Credit_History</td>\n",
       "      <td id=\"T_8ec6d_row7_col1\" class=\"data row7 col1\" >0.019153</td>\n",
       "    </tr>\n",
       "    <tr>\n",
       "      <td id=\"T_8ec6d_row8_col0\" class=\"data row8 col0\" >Self_Employed</td>\n",
       "      <td id=\"T_8ec6d_row8_col1\" class=\"data row8 col1\" >0.012798</td>\n",
       "    </tr>\n",
       "  </tbody>\n",
       "</table>\n"
      ],
      "text/plain": [
       "<pandas.io.formats.style.Styler at 0x24527f27ec8>"
      ]
     },
     "execution_count": 82,
     "metadata": {},
     "output_type": "execute_result"
    }
   ],
   "source": [
    "# Splitting the data into test and train data sets.\n",
    "\n",
    "X_train, X_test, Y_train, Y_test= train_test_split(X, Y, test_size=0.2,random_state=10)\n",
    "\n",
    "# Creating a model object.\n",
    "\n",
    "model_DecisionTree = RandomForestRegressor(n_estimators=100, random_state=10)\n",
    "\n",
    "# Fitting the data into our model and predicting the values.\n",
    "\n",
    "model_DecisionTree.fit(X_train,Y_train)\n",
    "Y_pred = model_DecisionTree.predict(X_test)\n",
    "\n",
    "# Building a DataFrame to view the feature importance and sort for a better visual.\n",
    "\n",
    "feature_imp = pd.DataFrame()\n",
    "feature_imp[\"Feature\"] = df_train.drop([\"LoanAmount\", \"Loan_Status\",\"Loan_ID\"],axis=1).columns\n",
    "feature_imp[\"Importance\"] = model_DecisionTree.feature_importances_ \n",
    "feature_imp.sort_values(\"Importance\", ascending = False).style.hide_index()"
   ]
  },
  {
   "cell_type": "markdown",
   "metadata": {},
   "source": [
    "<a id='9.4'></a>\n",
    "### Creating a model pipeline"
   ]
  },
  {
   "cell_type": "code",
   "execution_count": 83,
   "metadata": {},
   "outputs": [],
   "source": [
    "# Defining multiple Regression models\n",
    "\n",
    "models = [\n",
    "    LinearRegression(),\n",
    "    KNeighborsRegressor(),\n",
    "    DecisionTreeRegressor(random_state=10),\n",
    "    RandomForestRegressor(n_estimators=100, random_state=10),\n",
    "    ExtraTreesRegressor(n_estimators=100, random_state=10),\n",
    "    GradientBoostingRegressor(n_estimators=100, random_state=10)  \n",
    "]"
   ]
  },
  {
   "cell_type": "code",
   "execution_count": 84,
   "metadata": {
    "scrolled": false
   },
   "outputs": [
    {
     "name": "stdout",
     "output_type": "stream",
     "text": [
      "Model: LinearRegression\n",
      "Model Score: 0.046158124862513805\n",
      "R-Squared: -0.11474342190150066\n",
      "Adj R-Squared: -0.18346048215570265\n",
      "RMSE: 67.85576489449628\n",
      "\n",
      "\n",
      "Model: KNeighborsRegressor\n",
      "Model Score: 0.23766368679230532\n",
      "R-Squared: -0.112245977353993\n",
      "Adj R-Squared: -0.18080908554704722\n",
      "RMSE: 67.77971105551595\n",
      "\n",
      "\n",
      "Model: DecisionTreeRegressor\n",
      "Model Score: 1.0\n",
      "R-Squared: -0.9748957091775923\n",
      "Adj R-Squared: -1.0966358556337452\n",
      "RMSE: 90.31738907447873\n",
      "\n",
      "\n",
      "Model: RandomForestRegressor\n",
      "Model Score: 0.8479668863411035\n",
      "R-Squared: -0.1480083190554231\n",
      "Adj R-Squared: -0.21877595516157933\n",
      "RMSE: 68.86075956371893\n",
      "\n",
      "\n",
      "Model: ExtraTreesRegressor\n",
      "Model Score: 0.9999988084460165\n",
      "R-Squared: -0.22227164655343645\n",
      "Adj R-Squared: -0.29761715901220986\n",
      "RMSE: 71.05312115340905\n",
      "\n",
      "\n",
      "Model: GradientBoostingRegressor\n",
      "Model Score: 0.5336662505401681\n",
      "R-Squared: -0.11878709175944024\n",
      "Adj R-Squared: -0.1877534193336523\n",
      "RMSE: 67.97872499716075\n",
      "\n",
      "\n"
     ]
    }
   ],
   "source": [
    "### Running the model pipeline\n",
    "\n",
    "### Creating a model pipelinefor model in models:\n",
    "for model in models:\n",
    "    model_score, r_squared, adjusted_r_squared, rmse = build_and_evaluate_regression_pipeline(X_train, Y_train, X_test, Y_test, model)\n",
    "\n",
    "    print(f\"Model: {type(model).__name__}\")\n",
    "    print(f\"Model Score: {model_score}\")\n",
    "    print(f\"R-Squared: {r_squared}\")\n",
    "    print(f\"Adj R-Squared: {adjusted_r_squared}\")\n",
    "    print(f\"RMSE: {rmse}\")\n",
    "    print(\"\\n\")    "
   ]
  },
  {
   "cell_type": "markdown",
   "metadata": {},
   "source": [
    "* All models perform poorly.\n",
    "* We will try to handle the imbalance in our data."
   ]
  },
  {
   "cell_type": "code",
   "execution_count": 85,
   "metadata": {
    "scrolled": true
   },
   "outputs": [
    {
     "data": {
      "text/plain": [
       "360.0    673\n",
       "180.0     51\n",
       "300.0     15\n",
       "480.0     14\n",
       "240.0      6\n",
       "84.0       6\n",
       "120.0      4\n",
       "60.0       3\n",
       "12.0       1\n",
       "350.0      1\n",
       "36.0       1\n",
       "6.0        1\n",
       "Name: Loan_Amount_Term, dtype: int64"
      ]
     },
     "execution_count": 85,
     "metadata": {},
     "output_type": "execute_result"
    }
   ],
   "source": [
    "train_df_3.Loan_Amount_Term.value_counts()"
   ]
  },
  {
   "cell_type": "markdown",
   "metadata": {},
   "source": [
    "<a id='9.5'></a>\n",
    "#### Upscaling our data in order to imporve model performance."
   ]
  },
  {
   "cell_type": "code",
   "execution_count": 86,
   "metadata": {},
   "outputs": [],
   "source": [
    "balanced_data = balance_multiclass_dataset_with_limit(train_df_3, 'Loan_Amount_Term', desired_samples_per_class=100)"
   ]
  },
  {
   "cell_type": "code",
   "execution_count": 87,
   "metadata": {
    "scrolled": false
   },
   "outputs": [
    {
     "data": {
      "text/html": [
       "<div>\n",
       "<style scoped>\n",
       "    .dataframe tbody tr th:only-of-type {\n",
       "        vertical-align: middle;\n",
       "    }\n",
       "\n",
       "    .dataframe tbody tr th {\n",
       "        vertical-align: top;\n",
       "    }\n",
       "\n",
       "    .dataframe thead th {\n",
       "        text-align: right;\n",
       "    }\n",
       "</style>\n",
       "<table border=\"1\" class=\"dataframe\">\n",
       "  <thead>\n",
       "    <tr style=\"text-align: right;\">\n",
       "      <th></th>\n",
       "      <th>Gender</th>\n",
       "      <th>Married</th>\n",
       "      <th>Dependents</th>\n",
       "      <th>Education</th>\n",
       "      <th>Self_Employed</th>\n",
       "      <th>LoanAmount</th>\n",
       "      <th>Loan_Amount_Term</th>\n",
       "      <th>Credit_History</th>\n",
       "      <th>property_Area</th>\n",
       "      <th>TotalIncome</th>\n",
       "    </tr>\n",
       "  </thead>\n",
       "  <tbody>\n",
       "    <tr>\n",
       "      <th>0</th>\n",
       "      <td>1</td>\n",
       "      <td>1</td>\n",
       "      <td>0</td>\n",
       "      <td>0</td>\n",
       "      <td>1</td>\n",
       "      <td>25.0</td>\n",
       "      <td>120.0</td>\n",
       "      <td>1.0</td>\n",
       "      <td>1</td>\n",
       "      <td>3459.0</td>\n",
       "    </tr>\n",
       "    <tr>\n",
       "      <th>1</th>\n",
       "      <td>0</td>\n",
       "      <td>1</td>\n",
       "      <td>0</td>\n",
       "      <td>0</td>\n",
       "      <td>0</td>\n",
       "      <td>84.0</td>\n",
       "      <td>480.0</td>\n",
       "      <td>1.0</td>\n",
       "      <td>1</td>\n",
       "      <td>2666.0</td>\n",
       "    </tr>\n",
       "    <tr>\n",
       "      <th>2</th>\n",
       "      <td>1</td>\n",
       "      <td>1</td>\n",
       "      <td>0</td>\n",
       "      <td>1</td>\n",
       "      <td>0</td>\n",
       "      <td>118.0</td>\n",
       "      <td>36.0</td>\n",
       "      <td>1.0</td>\n",
       "      <td>1</td>\n",
       "      <td>5205.0</td>\n",
       "    </tr>\n",
       "    <tr>\n",
       "      <th>3</th>\n",
       "      <td>1</td>\n",
       "      <td>1</td>\n",
       "      <td>0</td>\n",
       "      <td>0</td>\n",
       "      <td>0</td>\n",
       "      <td>133.0</td>\n",
       "      <td>350.0</td>\n",
       "      <td>1.0</td>\n",
       "      <td>0</td>\n",
       "      <td>6624.0</td>\n",
       "    </tr>\n",
       "    <tr>\n",
       "      <th>4</th>\n",
       "      <td>1</td>\n",
       "      <td>1</td>\n",
       "      <td>2</td>\n",
       "      <td>0</td>\n",
       "      <td>0</td>\n",
       "      <td>128.0</td>\n",
       "      <td>360.0</td>\n",
       "      <td>1.0</td>\n",
       "      <td>0</td>\n",
       "      <td>4120.0</td>\n",
       "    </tr>\n",
       "    <tr>\n",
       "      <th>...</th>\n",
       "      <td>...</td>\n",
       "      <td>...</td>\n",
       "      <td>...</td>\n",
       "      <td>...</td>\n",
       "      <td>...</td>\n",
       "      <td>...</td>\n",
       "      <td>...</td>\n",
       "      <td>...</td>\n",
       "      <td>...</td>\n",
       "      <td>...</td>\n",
       "    </tr>\n",
       "    <tr>\n",
       "      <th>1768</th>\n",
       "      <td>1</td>\n",
       "      <td>1</td>\n",
       "      <td>0</td>\n",
       "      <td>0</td>\n",
       "      <td>0</td>\n",
       "      <td>111.0</td>\n",
       "      <td>12.0</td>\n",
       "      <td>1.0</td>\n",
       "      <td>2</td>\n",
       "      <td>7482.0</td>\n",
       "    </tr>\n",
       "    <tr>\n",
       "      <th>1769</th>\n",
       "      <td>0</td>\n",
       "      <td>1</td>\n",
       "      <td>1</td>\n",
       "      <td>0</td>\n",
       "      <td>0</td>\n",
       "      <td>132.0</td>\n",
       "      <td>84.0</td>\n",
       "      <td>1.0</td>\n",
       "      <td>0</td>\n",
       "      <td>4333.0</td>\n",
       "    </tr>\n",
       "    <tr>\n",
       "      <th>1770</th>\n",
       "      <td>1</td>\n",
       "      <td>0</td>\n",
       "      <td>0</td>\n",
       "      <td>0</td>\n",
       "      <td>0</td>\n",
       "      <td>96.0</td>\n",
       "      <td>360.0</td>\n",
       "      <td>1.0</td>\n",
       "      <td>2</td>\n",
       "      <td>4083.0</td>\n",
       "    </tr>\n",
       "    <tr>\n",
       "      <th>1771</th>\n",
       "      <td>1</td>\n",
       "      <td>0</td>\n",
       "      <td>0</td>\n",
       "      <td>0</td>\n",
       "      <td>0</td>\n",
       "      <td>40.0</td>\n",
       "      <td>180.0</td>\n",
       "      <td>1.0</td>\n",
       "      <td>0</td>\n",
       "      <td>2925.0</td>\n",
       "    </tr>\n",
       "    <tr>\n",
       "      <th>1772</th>\n",
       "      <td>1</td>\n",
       "      <td>1</td>\n",
       "      <td>2</td>\n",
       "      <td>0</td>\n",
       "      <td>0</td>\n",
       "      <td>108.0</td>\n",
       "      <td>84.0</td>\n",
       "      <td>1.0</td>\n",
       "      <td>2</td>\n",
       "      <td>3620.0</td>\n",
       "    </tr>\n",
       "  </tbody>\n",
       "</table>\n",
       "<p>1773 rows × 10 columns</p>\n",
       "</div>"
      ],
      "text/plain": [
       "      Gender  Married  Dependents  Education  Self_Employed  LoanAmount  \\\n",
       "0          1        1           0          0              1        25.0   \n",
       "1          0        1           0          0              0        84.0   \n",
       "2          1        1           0          1              0       118.0   \n",
       "3          1        1           0          0              0       133.0   \n",
       "4          1        1           2          0              0       128.0   \n",
       "...      ...      ...         ...        ...            ...         ...   \n",
       "1768       1        1           0          0              0       111.0   \n",
       "1769       0        1           1          0              0       132.0   \n",
       "1770       1        0           0          0              0        96.0   \n",
       "1771       1        0           0          0              0        40.0   \n",
       "1772       1        1           2          0              0       108.0   \n",
       "\n",
       "      Loan_Amount_Term Credit_History  property_Area  TotalIncome  \n",
       "0                120.0            1.0              1       3459.0  \n",
       "1                480.0            1.0              1       2666.0  \n",
       "2                 36.0            1.0              1       5205.0  \n",
       "3                350.0            1.0              0       6624.0  \n",
       "4                360.0            1.0              0       4120.0  \n",
       "...                ...            ...            ...          ...  \n",
       "1768              12.0            1.0              2       7482.0  \n",
       "1769              84.0            1.0              0       4333.0  \n",
       "1770             360.0            1.0              2       4083.0  \n",
       "1771             180.0            1.0              0       2925.0  \n",
       "1772              84.0            1.0              2       3620.0  \n",
       "\n",
       "[1773 rows x 10 columns]"
      ]
     },
     "execution_count": 87,
     "metadata": {},
     "output_type": "execute_result"
    }
   ],
   "source": [
    "balanced_data.index = range(0,balanced_data.shape[0])\n",
    "balanced_data"
   ]
  },
  {
   "cell_type": "code",
   "execution_count": 88,
   "metadata": {},
   "outputs": [
    {
     "data": {
      "text/plain": [
       "360.0    673\n",
       "120.0    100\n",
       "480.0    100\n",
       "36.0     100\n",
       "350.0    100\n",
       "60.0     100\n",
       "240.0    100\n",
       "6.0      100\n",
       "180.0    100\n",
       "12.0     100\n",
       "84.0     100\n",
       "300.0    100\n",
       "Name: Loan_Amount_Term, dtype: int64"
      ]
     },
     "execution_count": 88,
     "metadata": {},
     "output_type": "execute_result"
    }
   ],
   "source": [
    "Y = balanced_data[[\"Loan_Amount_Term\"]]\n",
    "X = balanced_data.drop([\"Loan_Amount_Term\"],axis=1)\n",
    "X_train, X_test, Y_train, Y_test= train_test_split(X, Y, test_size=0.2,random_state=10)\n",
    "balanced_data.Loan_Amount_Term.value_counts()"
   ]
  },
  {
   "cell_type": "markdown",
   "metadata": {},
   "source": [
    "<a id='9.6'></a>\n",
    "#### Re-Running the model pipeline"
   ]
  },
  {
   "cell_type": "code",
   "execution_count": 89,
   "metadata": {},
   "outputs": [
    {
     "name": "stdout",
     "output_type": "stream",
     "text": [
      "Model: LinearRegression\n",
      "Model Score: 0.18668309689323925\n",
      "R-Squared: 0.1569446219051216\n",
      "Adj R-Squared: 0.13495187291134225\n",
      "RMSE: 134.59434240406924\n",
      "\n",
      "\n",
      "Model: KNeighborsRegressor\n",
      "Model Score: 0.9244272119638731\n",
      "R-Squared: 0.8594078283099529\n",
      "Adj R-Squared: 0.8557402064397777\n",
      "RMSE: 54.96412556014649\n",
      "\n",
      "\n",
      "Model: DecisionTreeRegressor\n",
      "Model Score: 1.0\n",
      "R-Squared: 0.9249501840933626\n",
      "Adj R-Squared: 0.9229923628088417\n",
      "RMSE: 40.158138108458516\n",
      "\n",
      "\n",
      "Model: RandomForestRegressor\n",
      "Model Score: 0.9926439201500336\n",
      "R-Squared: 0.9595316078536225\n",
      "Adj R-Squared: 0.9584759106671952\n",
      "RMSE: 29.488774756163036\n",
      "\n",
      "\n",
      "Model: ExtraTreesRegressor\n",
      "Model Score: 1.0\n",
      "R-Squared: 0.9572722736923175\n",
      "Adj R-Squared: 0.9561576373538562\n",
      "RMSE: 30.300768604577822\n",
      "\n",
      "\n",
      "Model: GradientBoostingRegressor\n",
      "Model Score: 0.8895278095728122\n",
      "R-Squared: 0.8538562241939038\n",
      "Adj R-Squared: 0.8500437778685275\n",
      "RMSE: 56.03881139870458\n",
      "\n",
      "\n"
     ]
    }
   ],
   "source": [
    "### Creating a model pipelinefor model in models:\n",
    "for model in models:\n",
    "    model_score, r_squared, adjusted_r_squared, rmse = build_and_evaluate_regression_pipeline(X_train, Y_train, X_test, Y_test, model)\n",
    "\n",
    "    print(f\"Model: {type(model).__name__}\")\n",
    "    print(f\"Model Score: {model_score}\")\n",
    "    print(f\"R-Squared: {r_squared}\")\n",
    "    print(f\"Adj R-Squared: {adjusted_r_squared}\")\n",
    "    print(f\"RMSE: {rmse}\")\n",
    "    print(\"\\n\")    "
   ]
  },
  {
   "cell_type": "markdown",
   "metadata": {},
   "source": [
    "* Linear Regression: performs very poorly and can not be used.\n",
    "* Decision Tree: Has a perfect Model Score and suggests it has been overfitted to training data.\n",
    "* K-Neighbors & Gradient Boosting: Perform well but have a higher RMSE.\n",
    "* Random Forest & Extra Trees: Perform well and have the lowest RMSE scores. Model Score however, is very close to 1 and these models might be overfitted.\n",
    "* We will try to prune our Random Forest & Extra Trees Models and compare."
   ]
  },
  {
   "cell_type": "markdown",
   "metadata": {},
   "source": [
    "<a id='9.7'></a>\n",
    "### Pruning well performing models."
   ]
  },
  {
   "cell_type": "markdown",
   "metadata": {},
   "source": [
    "<a id='9.7a'></a>\n",
    "#### Random forest model with different parameters along with graphs"
   ]
  },
  {
   "cell_type": "code",
   "execution_count": 90,
   "metadata": {},
   "outputs": [
    {
     "data": {
      "image/png": "[encoded data removed]",
      "text/plain": [
       "<Figure size 1008x504 with 1 Axes>"
      ]
     },
     "metadata": {
      "needs_background": "light"
     },
     "output_type": "display_data"
    }
   ],
   "source": [
    "tr = []\n",
    "ts = []\n",
    "\n",
    "for i in range(2,20,1):\n",
    "\n",
    "    rfr = RandomForestRegressor(random_state=10,max_depth=i)\n",
    "    rfr_model = rfr.fit(X_train,Y_train)\n",
    "    tr_pred_rfr = rfr_model.predict(X_train)\n",
    "    ts_pred_rfr = rfr_model.predict(X_test)\n",
    "    \n",
    "    tr.append(round(mean_squared_error(Y_train,tr_pred_rfr),2))\n",
    "    ts.append(round(mean_squared_error(Y_test,ts_pred_rfr),2))\n",
    "    \n",
    "plt.figure(figsize=(14,7))\n",
    "plt.plot(range(2,20,1),tr,\"--o\",c='blue',label=\"Training Error\")\n",
    "plt.plot(range(2,20,1),ts,\"--o\",c='red',label=\"Testing Error\")\n",
    "plt.legend()\n",
    "plt.xlabel(\"Max depth size from 2 to 20\")\n",
    "plt.ylabel(\"Error\")\n",
    "plt.title(\"Error vs Max depth(2-20)\")\n",
    "plt.xticks(range(2,20,1));"
   ]
  },
  {
   "cell_type": "code",
   "execution_count": 91,
   "metadata": {},
   "outputs": [
    {
     "data": {
      "image/png": "[encoded data removed]",
      "text/plain": [
       "<Figure size 1008x504 with 1 Axes>"
      ]
     },
     "metadata": {
      "needs_background": "light"
     },
     "output_type": "display_data"
    }
   ],
   "source": [
    "tr = []\n",
    "ts = []\n",
    "\n",
    "for i in range(2,20,1):\n",
    "\n",
    "    rfr = RandomForestRegressor(random_state=10,min_samples_split=i)\n",
    "    rfr_model = rfr.fit(X_train,Y_train)\n",
    "    tr_pred_rfr = rfr_model.predict(X_train)\n",
    "    ts_pred_rfr = rfr_model.predict(X_test)\n",
    "    \n",
    "    tr.append(round(mean_squared_error(Y_train,tr_pred_rfr),2))\n",
    "    ts.append(round(mean_squared_error(Y_test,ts_pred_rfr),2))\n",
    "    \n",
    "plt.figure(figsize=(14,7))\n",
    "plt.plot(range(2,20,1),tr,\"--o\",c='blue',label=\"Training Error\")\n",
    "plt.plot(range(2,20,1),ts,\"--o\",c='red',label=\"Testing Error\")\n",
    "plt.legend()\n",
    "plt.xlabel(\"Minimum Samples Split size from 2 to 20\")\n",
    "plt.ylabel(\"Error\")\n",
    "plt.title(\"Error vs Minimum Samples Split(2-20)\")\n",
    "plt.xticks(range(2,20,1));"
   ]
  },
  {
   "cell_type": "code",
   "execution_count": 92,
   "metadata": {},
   "outputs": [
    {
     "data": {
      "image/png": "[encoded data removed]",
      "text/plain": [
       "<Figure size 1008x504 with 1 Axes>"
      ]
     },
     "metadata": {
      "needs_background": "light"
     },
     "output_type": "display_data"
    }
   ],
   "source": [
    "tr = []\n",
    "ts = []\n",
    "\n",
    "for i in range(2,20,1):\n",
    "\n",
    "    rfr = RandomForestRegressor(random_state=10,min_samples_leaf=i)\n",
    "    rfr_model = rfr.fit(X_train,Y_train)\n",
    "    tr_pred_rfr = rfr_model.predict(X_train)\n",
    "    ts_pred_rfr = rfr_model.predict(X_test)\n",
    "    \n",
    "    tr.append(round(mean_squared_error(Y_train,tr_pred_rfr),2))\n",
    "    ts.append(round(mean_squared_error(Y_test,ts_pred_rfr),2))\n",
    "    \n",
    "plt.figure(figsize=(14,7))\n",
    "plt.plot(range(2,20,1),tr,\"--o\",c='blue',label=\"Training Error\")\n",
    "plt.plot(range(2,20,1),ts,\"--o\",c='red',label=\"Testing Error\")\n",
    "plt.legend()\n",
    "plt.xlabel(\"Minimum Samples Leaf size from 2 to 20\")\n",
    "plt.ylabel(\"Error\")\n",
    "plt.title(\"Error vs Minimum Samples Leaf(2-20)\")\n",
    "plt.xticks(range(2,20,1));"
   ]
  },
  {
   "cell_type": "code",
   "execution_count": 93,
   "metadata": {},
   "outputs": [
    {
     "name": "stdout",
     "output_type": "stream",
     "text": [
      "Training error is: 428.55\n",
      "Testing error is: 1138.98\n"
     ]
    }
   ],
   "source": [
    "rfr = RandomForestRegressor(random_state=10,min_samples_leaf=2)\n",
    "rfr_model = rfr.fit(X_train,Y_train)\n",
    "tr_pred_rfr = rfr_model.predict(X_train)\n",
    "ts_pred_rfr = rfr_model.predict(X_test)\n",
    "\n",
    "print(\"Training error is:\",round(mean_squared_error(Y_train,tr_pred_rfr),2))\n",
    "print(\"Testing error is:\",round(mean_squared_error(Y_test,ts_pred_rfr),2))"
   ]
  },
  {
   "cell_type": "markdown",
   "metadata": {},
   "source": [
    "##### Random forest model using GridSearchCV and tuning different parameter"
   ]
  },
  {
   "cell_type": "code",
   "execution_count": 94,
   "metadata": {},
   "outputs": [
    {
     "data": {
      "text/plain": [
       "{'max_depth': 11,\n",
       " 'min_samples_leaf': 2,\n",
       " 'min_samples_split': 2,\n",
       " 'n_estimators': 200}"
      ]
     },
     "execution_count": 94,
     "metadata": {},
     "output_type": "execute_result"
    }
   ],
   "source": [
    "rfr = RandomForestRegressor(random_state=10)\n",
    "tg = {'min_samples_leaf':range(2,5),\n",
    "      'n_estimators':[200,300,400,500],\n",
    "     'max_depth':range(8,12),\n",
    "     'min_samples_split':range(2,5)}\n",
    "\n",
    "cv2 = GridSearchCV(rfr,tg,scoring=\"neg_mean_squared_error\",cv=4)\n",
    "cv2_model = cv2.fit(X_train,Y_train)\n",
    "cv2_model.best_params_"
   ]
  },
  {
   "cell_type": "code",
   "execution_count": 95,
   "metadata": {},
   "outputs": [
    {
     "name": "stdout",
     "output_type": "stream",
     "text": [
      "Model Score: 0.9786645436629557\n",
      "R-squared: 0.9458951634910465\n",
      "RMSE: 34.09704932688286\n",
      "Adj R-square: 0.9456189618299118\n"
     ]
    }
   ],
   "source": [
    "RF = RandomForestRegressor(random_state=10, max_depth=11, min_samples_leaf = 2, n_estimators = 200)\n",
    "RF.fit(X_train, Y_train)\n",
    "Y_pred = RF.predict(X_test)\n",
    "\n",
    "print(\"Model Score:\", RF.score(X_train, Y_train))\n",
    "\n",
    "# Evaluating metrics:\n",
    "\n",
    "r2=r2_score(Y_test,Y_pred)  # R-Square value\n",
    "print(\"R-squared:\",r2)\n",
    "\n",
    "rmse = np.sqrt(mean_squared_error(Y_test, Y_pred))\n",
    "print(\"RMSE:\", rmse)\n",
    "\n",
    "adjusted_r_squared = 1 - (1-r2)*(len(Y)-1)/(len(Y)-X.shape[1]-1)\n",
    "print(\"Adj R-square:\",adjusted_r_squared)"
   ]
  },
  {
   "cell_type": "markdown",
   "metadata": {},
   "source": [
    "<a id='9.7b'></a>\n",
    "#### Extra Tree model using GridSearchCV and tuning different parameter"
   ]
  },
  {
   "cell_type": "code",
   "execution_count": 96,
   "metadata": {},
   "outputs": [
    {
     "data": {
      "text/plain": [
       "{'min_samples_leaf': 2, 'n_estimators': 500}"
      ]
     },
     "execution_count": 96,
     "metadata": {},
     "output_type": "execute_result"
    }
   ],
   "source": [
    "etr = ExtraTreesRegressor(random_state=10)\n",
    "tg = {'min_samples_leaf':range(2,9),'n_estimators':[200,300,400,500]}\n",
    "\n",
    "cv3 = GridSearchCV(etr,tg,scoring=\"neg_mean_squared_error\",cv=4)\n",
    "cv3_model = cv3.fit(X,Y)\n",
    "cv3_model.best_params_"
   ]
  },
  {
   "cell_type": "code",
   "execution_count": 97,
   "metadata": {},
   "outputs": [
    {
     "name": "stdout",
     "output_type": "stream",
     "text": [
      "Model Score: 0.9757165519719767\n",
      "R-squared: 0.9330422921147769\n",
      "RMSE: 37.93141487020541\n",
      "Adj R-square: 0.9327004773836555\n"
     ]
    }
   ],
   "source": [
    "ET = ExtraTreesRegressor(random_state=10, min_samples_leaf = 2, n_estimators = 500)\n",
    "ET.fit(X_train, Y_train)\n",
    "Y_pred = ET.predict(X_test)\n",
    "\n",
    "print(\"Model Score:\", ET.score(X_train, Y_train))\n",
    "\n",
    "# Evaluating metrics:\n",
    "\n",
    "r2=r2_score(Y_test,Y_pred)  # R-Square value\n",
    "print(\"R-squared:\",r2)\n",
    "\n",
    "rmse = np.sqrt(mean_squared_error(Y_test, Y_pred))\n",
    "print(\"RMSE:\", rmse)\n",
    "\n",
    "adjusted_r_squared = 1 - (1-r2)*(len(Y)-1)/(len(Y)-X.shape[1]-1)\n",
    "print(\"Adj R-square:\",adjusted_r_squared)"
   ]
  },
  {
   "cell_type": "markdown",
   "metadata": {},
   "source": [
    "<a id='9.8'></a>\n",
    "<body>\n",
    "    <h1>Metrics Summary</h1>\n",
    "\t<table>\n",
    "\t\t<thead>\n",
    "\t\t\t<tr>\n",
    "                <th><u>Metrics</u></th>\n",
    "\t\t\t\t<th>Pruned RandomForestRegressor</th>\n",
    "\t\t\t\t<th>Pruned ExtraTreeRegressor</th>\n",
    "\t\t\t</tr>\n",
    "\t\t</thead>\n",
    "\t\t<tbody>\n",
    "\t\t\t<tr>\n",
    "\t\t\t\t<td>Model Score</td>\n",
    "\t\t\t\t<td>0.978</td>\n",
    "\t\t\t\t<td>0.975</td>\n",
    "\t\t\t</tr>\n",
    "\t\t\t<tr>\n",
    "\t\t\t\t<td>R-Squared</td>\n",
    "\t\t\t\t<td>0.94</td>\n",
    "\t\t\t\t<td>0.93</td>\n",
    "\t\t\t</tr>\n",
    "\t\t\t<tr>\n",
    "\t\t\t\t<td>Adj R-Squared</td>\n",
    "\t\t\t\t<td>0.94</td>\n",
    "\t\t\t\t<td>0.93</td>\n",
    "\t\t\t</tr>\n",
    "\t\t\t<tr>\n",
    "\t\t\t\t<td>RMSE</td>\n",
    "\t\t\t\t<td>34.09</td>\n",
    "\t\t\t\t<td>37.93</td>\n",
    "\t\t\t</tr>\n",
    "\t\t</tbody>\n",
    "\t</table>\n",
    "</body>"
   ]
  },
  {
   "cell_type": "markdown",
   "metadata": {},
   "source": [
    "Our Pruned Random Forest model performs well and we will make predictions using it.\n",
    "<a id='9.9'></a>\n",
    "### Final Predictions"
   ]
  },
  {
   "cell_type": "code",
   "execution_count": 98,
   "metadata": {},
   "outputs": [],
   "source": [
    "RF = RandomForestRegressor(random_state=10, max_depth=11, min_samples_leaf = 2, n_estimators = 500)\n",
    "RF.fit(X, Y)\n",
    "Y_pred = RF.predict(P)"
   ]
  },
  {
   "cell_type": "code",
   "execution_count": 99,
   "metadata": {},
   "outputs": [
    {
     "data": {
      "text/html": [
       "<div>\n",
       "<style scoped>\n",
       "    .dataframe tbody tr th:only-of-type {\n",
       "        vertical-align: middle;\n",
       "    }\n",
       "\n",
       "    .dataframe tbody tr th {\n",
       "        vertical-align: top;\n",
       "    }\n",
       "\n",
       "    .dataframe thead th {\n",
       "        text-align: right;\n",
       "    }\n",
       "</style>\n",
       "<table border=\"1\" class=\"dataframe\">\n",
       "  <thead>\n",
       "    <tr style=\"text-align: right;\">\n",
       "      <th></th>\n",
       "      <th>Loan_ID</th>\n",
       "      <th>Gender</th>\n",
       "      <th>Married</th>\n",
       "      <th>Dependents</th>\n",
       "      <th>Education</th>\n",
       "      <th>Self_Employed</th>\n",
       "      <th>LoanAmount</th>\n",
       "      <th>Credit_History</th>\n",
       "      <th>property_Area</th>\n",
       "      <th>Loan_Status</th>\n",
       "      <th>Loan_Amount_Term</th>\n",
       "      <th>Predicted_Loan_Amount_Term</th>\n",
       "    </tr>\n",
       "  </thead>\n",
       "  <tbody>\n",
       "    <tr>\n",
       "      <th>0</th>\n",
       "      <td>LP001059</td>\n",
       "      <td>1</td>\n",
       "      <td>1</td>\n",
       "      <td>2</td>\n",
       "      <td>0</td>\n",
       "      <td>0</td>\n",
       "      <td>280.0</td>\n",
       "      <td>1.0</td>\n",
       "      <td>2</td>\n",
       "      <td>N</td>\n",
       "      <td>240.0</td>\n",
       "      <td>348.441970</td>\n",
       "    </tr>\n",
       "    <tr>\n",
       "      <th>1</th>\n",
       "      <td>LP001794</td>\n",
       "      <td>1</td>\n",
       "      <td>1</td>\n",
       "      <td>2</td>\n",
       "      <td>0</td>\n",
       "      <td>1</td>\n",
       "      <td>260.0</td>\n",
       "      <td>1.0</td>\n",
       "      <td>0</td>\n",
       "      <td>N</td>\n",
       "      <td>12.0</td>\n",
       "      <td>345.560559</td>\n",
       "    </tr>\n",
       "    <tr>\n",
       "      <th>2</th>\n",
       "      <td>LP001207</td>\n",
       "      <td>1</td>\n",
       "      <td>1</td>\n",
       "      <td>0</td>\n",
       "      <td>1</td>\n",
       "      <td>1</td>\n",
       "      <td>165.0</td>\n",
       "      <td>0.0</td>\n",
       "      <td>0</td>\n",
       "      <td>N</td>\n",
       "      <td>180.0</td>\n",
       "      <td>346.841406</td>\n",
       "    </tr>\n",
       "    <tr>\n",
       "      <th>3</th>\n",
       "      <td>LP001228</td>\n",
       "      <td>1</td>\n",
       "      <td>0</td>\n",
       "      <td>0</td>\n",
       "      <td>1</td>\n",
       "      <td>0</td>\n",
       "      <td>126.0</td>\n",
       "      <td>0.0</td>\n",
       "      <td>2</td>\n",
       "      <td>N</td>\n",
       "      <td>180.0</td>\n",
       "      <td>323.056273</td>\n",
       "    </tr>\n",
       "    <tr>\n",
       "      <th>4</th>\n",
       "      <td>LP001451</td>\n",
       "      <td>1</td>\n",
       "      <td>1</td>\n",
       "      <td>1</td>\n",
       "      <td>0</td>\n",
       "      <td>1</td>\n",
       "      <td>160.0</td>\n",
       "      <td>0.0</td>\n",
       "      <td>2</td>\n",
       "      <td>N</td>\n",
       "      <td>180.0</td>\n",
       "      <td>276.133936</td>\n",
       "    </tr>\n",
       "  </tbody>\n",
       "</table>\n",
       "</div>"
      ],
      "text/plain": [
       "    Loan_ID  Gender  Married  Dependents  Education  Self_Employed  \\\n",
       "0  LP001059       1        1           2          0              0   \n",
       "1  LP001794       1        1           2          0              1   \n",
       "2  LP001207       1        1           0          1              1   \n",
       "3  LP001228       1        0           0          1              0   \n",
       "4  LP001451       1        1           1          0              1   \n",
       "\n",
       "   LoanAmount Credit_History  property_Area Loan_Status  Loan_Amount_Term  \\\n",
       "0       280.0            1.0              2           N             240.0   \n",
       "1       260.0            1.0              0           N              12.0   \n",
       "2       165.0            0.0              0           N             180.0   \n",
       "3       126.0            0.0              2           N             180.0   \n",
       "4       160.0            0.0              2           N             180.0   \n",
       "\n",
       "   Predicted_Loan_Amount_Term  \n",
       "0                  348.441970  \n",
       "1                  345.560559  \n",
       "2                  346.841406  \n",
       "3                  323.056273  \n",
       "4                  276.133936  "
      ]
     },
     "execution_count": 99,
     "metadata": {},
     "output_type": "execute_result"
    }
   ],
   "source": [
    "pb_3 = final_test_3[['Loan_ID', 'Gender', 'Married', 'Dependents', 'Education',\n",
    "       'Self_Employed', 'LoanAmount', 'Credit_History', 'property_Area', \n",
    "        'Loan_Status', 'Loan_Amount_Term']]\n",
    "\n",
    "pb_3['Predicted_Loan_Amount_Term'] = Y_pred\n",
    "pb_3.index = range(0,pb_3.shape[0])\n",
    "pb_3.head()"
   ]
  },
  {
   "cell_type": "code",
   "execution_count": 100,
   "metadata": {
    "scrolled": false
   },
   "outputs": [],
   "source": [
    "# Dumping solution DataFrame to a csv file.\n",
    "\n",
    "output_3 = pb_3[['Loan_ID', 'LoanAmount', 'Loan_Amount_Term', 'Predicted_Loan_Amount_Term']]\n",
    "output_3.to_csv(\"Predicted_Loan_Amount_Term.csv\")"
   ]
  },
  {
   "cell_type": "markdown",
   "metadata": {},
   "source": [
    "<a id='9.10'></a>\n",
    "# Trying with classification.\n",
    "* We are implementing classification on our third problem statement.\n",
    "* We already have good scores with our regression models.\n",
    "* Since we have a multiclass Dependent Feature, we want to see how our classification models perform.\n",
    "* The goal of this extra step is to showcase that for our data, we can use regression as well as classification models."
   ]
  },
  {
   "cell_type": "markdown",
   "metadata": {},
   "source": [
    "<a id='9.1'></a>\n",
    "#### Creating new Dataframes"
   ]
  },
  {
   "cell_type": "code",
   "execution_count": 101,
   "metadata": {},
   "outputs": [
    {
     "data": {
      "text/html": [
       "<div>\n",
       "<style scoped>\n",
       "    .dataframe tbody tr th:only-of-type {\n",
       "        vertical-align: middle;\n",
       "    }\n",
       "\n",
       "    .dataframe tbody tr th {\n",
       "        vertical-align: top;\n",
       "    }\n",
       "\n",
       "    .dataframe thead th {\n",
       "        text-align: right;\n",
       "    }\n",
       "</style>\n",
       "<table border=\"1\" class=\"dataframe\">\n",
       "  <thead>\n",
       "    <tr style=\"text-align: right;\">\n",
       "      <th></th>\n",
       "      <th>Loan_ID</th>\n",
       "      <th>Gender</th>\n",
       "      <th>Married</th>\n",
       "      <th>Dependents</th>\n",
       "      <th>Education</th>\n",
       "      <th>Self_Employed</th>\n",
       "      <th>LoanAmount</th>\n",
       "      <th>Loan_Amount_Term</th>\n",
       "      <th>Credit_History</th>\n",
       "      <th>property_Area</th>\n",
       "      <th>TotalIncome</th>\n",
       "      <th>Loan_Status</th>\n",
       "    </tr>\n",
       "  </thead>\n",
       "  <tbody>\n",
       "    <tr>\n",
       "      <th>0</th>\n",
       "      <td>LP001002</td>\n",
       "      <td>1</td>\n",
       "      <td>0</td>\n",
       "      <td>0</td>\n",
       "      <td>0</td>\n",
       "      <td>0</td>\n",
       "      <td>146.412162</td>\n",
       "      <td>360.0</td>\n",
       "      <td>1.0</td>\n",
       "      <td>2</td>\n",
       "      <td>5849.0</td>\n",
       "      <td>Y</td>\n",
       "    </tr>\n",
       "    <tr>\n",
       "      <th>1</th>\n",
       "      <td>LP001005</td>\n",
       "      <td>1</td>\n",
       "      <td>1</td>\n",
       "      <td>0</td>\n",
       "      <td>0</td>\n",
       "      <td>1</td>\n",
       "      <td>66.000000</td>\n",
       "      <td>360.0</td>\n",
       "      <td>1.0</td>\n",
       "      <td>2</td>\n",
       "      <td>3000.0</td>\n",
       "      <td>Y</td>\n",
       "    </tr>\n",
       "    <tr>\n",
       "      <th>2</th>\n",
       "      <td>LP001006</td>\n",
       "      <td>1</td>\n",
       "      <td>1</td>\n",
       "      <td>0</td>\n",
       "      <td>1</td>\n",
       "      <td>0</td>\n",
       "      <td>120.000000</td>\n",
       "      <td>360.0</td>\n",
       "      <td>1.0</td>\n",
       "      <td>2</td>\n",
       "      <td>4941.0</td>\n",
       "      <td>Y</td>\n",
       "    </tr>\n",
       "    <tr>\n",
       "      <th>3</th>\n",
       "      <td>LP001008</td>\n",
       "      <td>1</td>\n",
       "      <td>0</td>\n",
       "      <td>0</td>\n",
       "      <td>0</td>\n",
       "      <td>0</td>\n",
       "      <td>141.000000</td>\n",
       "      <td>360.0</td>\n",
       "      <td>1.0</td>\n",
       "      <td>2</td>\n",
       "      <td>6000.0</td>\n",
       "      <td>Y</td>\n",
       "    </tr>\n",
       "    <tr>\n",
       "      <th>4</th>\n",
       "      <td>LP001011</td>\n",
       "      <td>1</td>\n",
       "      <td>1</td>\n",
       "      <td>2</td>\n",
       "      <td>0</td>\n",
       "      <td>1</td>\n",
       "      <td>267.000000</td>\n",
       "      <td>360.0</td>\n",
       "      <td>1.0</td>\n",
       "      <td>2</td>\n",
       "      <td>9613.0</td>\n",
       "      <td>Y</td>\n",
       "    </tr>\n",
       "  </tbody>\n",
       "</table>\n",
       "</div>"
      ],
      "text/plain": [
       "    Loan_ID  Gender  Married  Dependents  Education  Self_Employed  \\\n",
       "0  LP001002       1        0           0          0              0   \n",
       "1  LP001005       1        1           0          0              1   \n",
       "2  LP001006       1        1           0          1              0   \n",
       "3  LP001008       1        0           0          0              0   \n",
       "4  LP001011       1        1           2          0              1   \n",
       "\n",
       "   LoanAmount  Loan_Amount_Term Credit_History  property_Area  TotalIncome  \\\n",
       "0  146.412162             360.0            1.0              2       5849.0   \n",
       "1   66.000000             360.0            1.0              2       3000.0   \n",
       "2  120.000000             360.0            1.0              2       4941.0   \n",
       "3  141.000000             360.0            1.0              2       6000.0   \n",
       "4  267.000000             360.0            1.0              2       9613.0   \n",
       "\n",
       "  Loan_Status  \n",
       "0           Y  \n",
       "1           Y  \n",
       "2           Y  \n",
       "3           Y  \n",
       "4           Y  "
      ]
     },
     "execution_count": 101,
     "metadata": {},
     "output_type": "execute_result"
    }
   ],
   "source": [
    "# Contains data of all customers whose loans were approved\n",
    "\n",
    "train_df_3 = train_df_2.copy()\n",
    "train_df_3.index = range(0,train_df_3.shape[0])\n",
    "train_df_3.head()"
   ]
  },
  {
   "cell_type": "code",
   "execution_count": 102,
   "metadata": {},
   "outputs": [],
   "source": [
    "# Contains data of all customers whose loans were rejected\n",
    "# Loan_Amount_Term <=240 months (20 years).\n",
    "\n",
    "test_df_3 = test_df_2.copy()\n",
    "test_df_3 = test_df_3[test_df_3.Loan_Amount_Term <= 240]\n",
    "test_df_3.index = range(0,test_df_3.shape[0])\n",
    "test_df_3.shape\n",
    "\n",
    "# Reserving for final predictions.\n",
    "final_test_3 = test_df_3.copy()"
   ]
  },
  {
   "cell_type": "code",
   "execution_count": 103,
   "metadata": {},
   "outputs": [
    {
     "data": {
      "text/html": [
       "<div>\n",
       "<style scoped>\n",
       "    .dataframe tbody tr th:only-of-type {\n",
       "        vertical-align: middle;\n",
       "    }\n",
       "\n",
       "    .dataframe tbody tr th {\n",
       "        vertical-align: top;\n",
       "    }\n",
       "\n",
       "    .dataframe thead th {\n",
       "        text-align: right;\n",
       "    }\n",
       "</style>\n",
       "<table border=\"1\" class=\"dataframe\">\n",
       "  <thead>\n",
       "    <tr style=\"text-align: right;\">\n",
       "      <th></th>\n",
       "      <th>Loan_ID</th>\n",
       "      <th>Gender</th>\n",
       "      <th>Married</th>\n",
       "      <th>Dependents</th>\n",
       "      <th>Education</th>\n",
       "      <th>Self_Employed</th>\n",
       "      <th>LoanAmount</th>\n",
       "      <th>Loan_Amount_Term</th>\n",
       "      <th>Credit_History</th>\n",
       "      <th>property_Area</th>\n",
       "      <th>TotalIncome</th>\n",
       "      <th>Loan_Status</th>\n",
       "    </tr>\n",
       "  </thead>\n",
       "  <tbody>\n",
       "    <tr>\n",
       "      <th>0</th>\n",
       "      <td>LP001059</td>\n",
       "      <td>1</td>\n",
       "      <td>1</td>\n",
       "      <td>2</td>\n",
       "      <td>0</td>\n",
       "      <td>0</td>\n",
       "      <td>280.0</td>\n",
       "      <td>240.0</td>\n",
       "      <td>1.0</td>\n",
       "      <td>2</td>\n",
       "      <td>13633.0</td>\n",
       "      <td>N</td>\n",
       "    </tr>\n",
       "    <tr>\n",
       "      <th>1</th>\n",
       "      <td>LP001794</td>\n",
       "      <td>1</td>\n",
       "      <td>1</td>\n",
       "      <td>2</td>\n",
       "      <td>0</td>\n",
       "      <td>1</td>\n",
       "      <td>260.0</td>\n",
       "      <td>12.0</td>\n",
       "      <td>1.0</td>\n",
       "      <td>0</td>\n",
       "      <td>10890.0</td>\n",
       "      <td>N</td>\n",
       "    </tr>\n",
       "    <tr>\n",
       "      <th>2</th>\n",
       "      <td>LP001207</td>\n",
       "      <td>1</td>\n",
       "      <td>1</td>\n",
       "      <td>0</td>\n",
       "      <td>1</td>\n",
       "      <td>1</td>\n",
       "      <td>165.0</td>\n",
       "      <td>180.0</td>\n",
       "      <td>0.0</td>\n",
       "      <td>0</td>\n",
       "      <td>6058.0</td>\n",
       "      <td>N</td>\n",
       "    </tr>\n",
       "    <tr>\n",
       "      <th>3</th>\n",
       "      <td>LP001228</td>\n",
       "      <td>1</td>\n",
       "      <td>0</td>\n",
       "      <td>0</td>\n",
       "      <td>1</td>\n",
       "      <td>0</td>\n",
       "      <td>126.0</td>\n",
       "      <td>180.0</td>\n",
       "      <td>0.0</td>\n",
       "      <td>2</td>\n",
       "      <td>5454.0</td>\n",
       "      <td>N</td>\n",
       "    </tr>\n",
       "    <tr>\n",
       "      <th>4</th>\n",
       "      <td>LP001451</td>\n",
       "      <td>1</td>\n",
       "      <td>1</td>\n",
       "      <td>1</td>\n",
       "      <td>0</td>\n",
       "      <td>1</td>\n",
       "      <td>160.0</td>\n",
       "      <td>180.0</td>\n",
       "      <td>0.0</td>\n",
       "      <td>2</td>\n",
       "      <td>14363.0</td>\n",
       "      <td>N</td>\n",
       "    </tr>\n",
       "  </tbody>\n",
       "</table>\n",
       "</div>"
      ],
      "text/plain": [
       "    Loan_ID  Gender  Married  Dependents  Education  Self_Employed  \\\n",
       "0  LP001059       1        1           2          0              0   \n",
       "1  LP001794       1        1           2          0              1   \n",
       "2  LP001207       1        1           0          1              1   \n",
       "3  LP001228       1        0           0          1              0   \n",
       "4  LP001451       1        1           1          0              1   \n",
       "\n",
       "   LoanAmount  Loan_Amount_Term Credit_History  property_Area  TotalIncome  \\\n",
       "0       280.0             240.0            1.0              2      13633.0   \n",
       "1       260.0              12.0            1.0              0      10890.0   \n",
       "2       165.0             180.0            0.0              0       6058.0   \n",
       "3       126.0             180.0            0.0              2       5454.0   \n",
       "4       160.0             180.0            0.0              2      14363.0   \n",
       "\n",
       "  Loan_Status  \n",
       "0           N  \n",
       "1           N  \n",
       "2           N  \n",
       "3           N  \n",
       "4           N  "
      ]
     },
     "execution_count": 103,
     "metadata": {},
     "output_type": "execute_result"
    }
   ],
   "source": [
    "test_df_3.head()"
   ]
  },
  {
   "cell_type": "code",
   "execution_count": 104,
   "metadata": {},
   "outputs": [],
   "source": [
    "#Dropping of columns\n",
    "train_df_3 = train_df_3.drop([\"Loan_ID\",\"Loan_Status\"],axis=1)\n",
    "test_df_3 = test_df_3.drop([\"Loan_ID\",\"Loan_Amount_Term\",\"Loan_Status\"],axis=1)"
   ]
  },
  {
   "cell_type": "code",
   "execution_count": 105,
   "metadata": {},
   "outputs": [
    {
     "data": {
      "text/plain": [
       "(776, 10)"
      ]
     },
     "execution_count": 105,
     "metadata": {},
     "output_type": "execute_result"
    }
   ],
   "source": [
    "train_df_3.shape"
   ]
  },
  {
   "cell_type": "code",
   "execution_count": 106,
   "metadata": {},
   "outputs": [
    {
     "data": {
      "text/plain": [
       "(21, 9)"
      ]
     },
     "execution_count": 106,
     "metadata": {},
     "output_type": "execute_result"
    }
   ],
   "source": [
    "test_df_3.shape"
   ]
  },
  {
   "cell_type": "markdown",
   "metadata": {},
   "source": [
    "<a id='9.2'></a>\n",
    "#### Defining X & Y"
   ]
  },
  {
   "cell_type": "code",
   "execution_count": 107,
   "metadata": {},
   "outputs": [
    {
     "name": "stdout",
     "output_type": "stream",
     "text": [
      "Shape of X: (776, 9)\n",
      "Shape of Y: (776, 1)\n",
      "Shape of testing dataset: (21, 9)\n"
     ]
    }
   ],
   "source": [
    "#X and Y has been defined using training data\n",
    "#P has been defined using testing data\n",
    "\n",
    "Y = train_df_3[[\"Loan_Amount_Term\"]]\n",
    "X = train_df_3.drop([\"Loan_Amount_Term\"],axis=1)\n",
    "P = test_df_3\n",
    "\n",
    "print(\"Shape of X:\", X.shape)\n",
    "print(\"Shape of Y:\", Y.shape)\n",
    "print(\"Shape of testing dataset:\", P.shape)"
   ]
  },
  {
   "cell_type": "markdown",
   "metadata": {},
   "source": [
    "<a id='9.3'></a>\n",
    "#### Building a Random Forest Regressor model to check feature importance"
   ]
  },
  {
   "cell_type": "code",
   "execution_count": 108,
   "metadata": {},
   "outputs": [
    {
     "data": {
      "text/html": [
       "<style type=\"text/css\">\n",
       "</style>\n",
       "<table id=\"T_fa485_\">\n",
       "  <thead>\n",
       "    <tr>\n",
       "      <th class=\"col_heading level0 col0\" >Feature</th>\n",
       "      <th class=\"col_heading level0 col1\" >Importance</th>\n",
       "    </tr>\n",
       "  </thead>\n",
       "  <tbody>\n",
       "    <tr>\n",
       "      <td id=\"T_fa485_row0_col0\" class=\"data row0 col0\" >TotalIncome</td>\n",
       "      <td id=\"T_fa485_row0_col1\" class=\"data row0 col1\" >0.397595</td>\n",
       "    </tr>\n",
       "    <tr>\n",
       "      <td id=\"T_fa485_row1_col0\" class=\"data row1 col0\" >Loan_Amount_Term</td>\n",
       "      <td id=\"T_fa485_row1_col1\" class=\"data row1 col1\" >0.358605</td>\n",
       "    </tr>\n",
       "    <tr>\n",
       "      <td id=\"T_fa485_row2_col0\" class=\"data row2 col0\" >Dependents</td>\n",
       "      <td id=\"T_fa485_row2_col1\" class=\"data row2 col1\" >0.078427</td>\n",
       "    </tr>\n",
       "    <tr>\n",
       "      <td id=\"T_fa485_row3_col0\" class=\"data row3 col0\" >property_Area</td>\n",
       "      <td id=\"T_fa485_row3_col1\" class=\"data row3 col1\" >0.055147</td>\n",
       "    </tr>\n",
       "    <tr>\n",
       "      <td id=\"T_fa485_row4_col0\" class=\"data row4 col0\" >Married</td>\n",
       "      <td id=\"T_fa485_row4_col1\" class=\"data row4 col1\" >0.030581</td>\n",
       "    </tr>\n",
       "    <tr>\n",
       "      <td id=\"T_fa485_row5_col0\" class=\"data row5 col0\" >Gender</td>\n",
       "      <td id=\"T_fa485_row5_col1\" class=\"data row5 col1\" >0.026541</td>\n",
       "    </tr>\n",
       "    <tr>\n",
       "      <td id=\"T_fa485_row6_col0\" class=\"data row6 col0\" >Education</td>\n",
       "      <td id=\"T_fa485_row6_col1\" class=\"data row6 col1\" >0.021153</td>\n",
       "    </tr>\n",
       "    <tr>\n",
       "      <td id=\"T_fa485_row7_col0\" class=\"data row7 col0\" >Credit_History</td>\n",
       "      <td id=\"T_fa485_row7_col1\" class=\"data row7 col1\" >0.019153</td>\n",
       "    </tr>\n",
       "    <tr>\n",
       "      <td id=\"T_fa485_row8_col0\" class=\"data row8 col0\" >Self_Employed</td>\n",
       "      <td id=\"T_fa485_row8_col1\" class=\"data row8 col1\" >0.012798</td>\n",
       "    </tr>\n",
       "  </tbody>\n",
       "</table>\n"
      ],
      "text/plain": [
       "<pandas.io.formats.style.Styler at 0x24526874948>"
      ]
     },
     "execution_count": 108,
     "metadata": {},
     "output_type": "execute_result"
    }
   ],
   "source": [
    "# Splitting the data into test and train data sets.\n",
    "\n",
    "X_train, X_test, Y_train, Y_test= train_test_split(X, Y, test_size=0.2,random_state=10)\n",
    "\n",
    "# Creating a model object.\n",
    "\n",
    "model_DecisionTree = RandomForestRegressor(n_estimators=100, random_state=10)\n",
    "\n",
    "# Fitting the data into our model and predicting the values.\n",
    "\n",
    "model_DecisionTree.fit(X_train,Y_train)\n",
    "Y_pred = model_DecisionTree.predict(X_test)\n",
    "\n",
    "# Building a DataFrame to view the feature importance and sort for a better visual.\n",
    "\n",
    "feature_imp = pd.DataFrame()\n",
    "feature_imp[\"Feature\"] = df_train.drop([\"LoanAmount\", \"Loan_Status\",\"Loan_ID\"],axis=1).columns\n",
    "feature_imp[\"Importance\"] = model_DecisionTree.feature_importances_ \n",
    "feature_imp.sort_values(\"Importance\", ascending = False).style.hide_index()"
   ]
  },
  {
   "cell_type": "markdown",
   "metadata": {},
   "source": [
    "<a id='9.4'></a>\n",
    "### Creating a model pipeline"
   ]
  },
  {
   "cell_type": "code",
   "execution_count": 109,
   "metadata": {},
   "outputs": [],
   "source": [
    "# Defining multiple classification models\n",
    "\n",
    "models = [\n",
    "    LogisticRegression(),\n",
    "    DecisionTreeClassifier(criterion=\"gini\", random_state=10),\n",
    "    RandomForestClassifier(n_estimators=100, random_state=10),\n",
    "    GradientBoostingClassifier(random_state=10),\n",
    "    SVC(probability=True, random_state=10),\n",
    "    KNeighborsClassifier()\n",
    "]"
   ]
  },
  {
   "cell_type": "code",
   "execution_count": 110,
   "metadata": {
    "scrolled": false
   },
   "outputs": [
    {
     "name": "stdout",
     "output_type": "stream",
     "text": [
      "Model: LogisticRegression\n",
      "Accuracy: 0.8461538461538461\n",
      "Classification Report:\n",
      "              precision    recall  f1-score   support\n",
      "\n",
      "        36.0       0.00      0.00      0.00         1\n",
      "        84.0       0.00      0.00      0.00         1\n",
      "       180.0       0.00      0.00      0.00        14\n",
      "       240.0       0.00      0.00      0.00         1\n",
      "       300.0       0.00      0.00      0.00         4\n",
      "       360.0       0.85      1.00      0.92       132\n",
      "       480.0       0.00      0.00      0.00         3\n",
      "\n",
      "    accuracy                           0.85       156\n",
      "   macro avg       0.12      0.14      0.13       156\n",
      "weighted avg       0.72      0.85      0.78       156\n",
      "\n",
      "Confusion Matrix:\n",
      "[[  0   0   0   0   0   1   0]\n",
      " [  0   0   0   0   0   1   0]\n",
      " [  0   0   0   0   0  14   0]\n",
      " [  0   0   0   0   0   1   0]\n",
      " [  0   0   0   0   0   4   0]\n",
      " [  0   0   0   0   0 132   0]\n",
      " [  0   0   0   0   0   3   0]]\n",
      "\n",
      "\n",
      "Model: DecisionTreeClassifier\n",
      "Accuracy: 0.75\n",
      "Classification Report:\n",
      "              precision    recall  f1-score   support\n",
      "\n",
      "        12.0       0.00      0.00      0.00         0\n",
      "        36.0       0.00      0.00      0.00         1\n",
      "        84.0       0.00      0.00      0.00         1\n",
      "       180.0       0.15      0.14      0.15        14\n",
      "       240.0       0.00      0.00      0.00         1\n",
      "       300.0       0.00      0.00      0.00         4\n",
      "       360.0       0.86      0.87      0.86       132\n",
      "       480.0       0.00      0.00      0.00         3\n",
      "\n",
      "    accuracy                           0.75       156\n",
      "   macro avg       0.13      0.13      0.13       156\n",
      "weighted avg       0.74      0.75      0.74       156\n",
      "\n",
      "Confusion Matrix:\n",
      "[[  0   0   0   0   0   0   0   0]\n",
      " [  0   0   0   0   0   1   0   0]\n",
      " [  0   0   0   0   0   0   1   0]\n",
      " [  0   0   0   2   0   0  12   0]\n",
      " [  0   0   0   0   0   0   1   0]\n",
      " [  0   0   0   0   0   0   3   1]\n",
      " [  1   0   1  10   1   1 115   3]\n",
      " [  0   0   0   1   0   0   2   0]]\n",
      "\n",
      "\n",
      "Model: RandomForestClassifier\n",
      "Accuracy: 0.8525641025641025\n",
      "Classification Report:\n",
      "              precision    recall  f1-score   support\n",
      "\n",
      "        36.0       0.00      0.00      0.00         1\n",
      "        84.0       0.00      0.00      0.00         1\n",
      "       180.0       1.00      0.07      0.13        14\n",
      "       240.0       0.00      0.00      0.00         1\n",
      "       300.0       0.00      0.00      0.00         4\n",
      "       360.0       0.85      1.00      0.92       132\n",
      "       480.0       0.00      0.00      0.00         3\n",
      "\n",
      "    accuracy                           0.85       156\n",
      "   macro avg       0.26      0.15      0.15       156\n",
      "weighted avg       0.81      0.85      0.79       156\n",
      "\n",
      "Confusion Matrix:\n",
      "[[  0   0   0   0   0   1   0]\n",
      " [  0   0   0   0   0   1   0]\n",
      " [  0   0   1   0   0  13   0]\n",
      " [  0   0   0   0   0   1   0]\n",
      " [  0   0   0   0   0   4   0]\n",
      " [  0   0   0   0   0 132   0]\n",
      " [  0   0   0   0   0   3   0]]\n",
      "\n",
      "\n",
      "Model: GradientBoostingClassifier\n",
      "Accuracy: 0.8333333333333334\n",
      "Classification Report:\n",
      "              precision    recall  f1-score   support\n",
      "\n",
      "        36.0       0.00      0.00      0.00         1\n",
      "        60.0       0.00      0.00      0.00         0\n",
      "        84.0       0.00      0.00      0.00         1\n",
      "       120.0       0.00      0.00      0.00         0\n",
      "       180.0       0.67      0.14      0.24        14\n",
      "       240.0       0.00      0.00      0.00         1\n",
      "       300.0       0.00      0.00      0.00         4\n",
      "       360.0       0.86      0.97      0.91       132\n",
      "       480.0       0.00      0.00      0.00         3\n",
      "\n",
      "    accuracy                           0.83       156\n",
      "   macro avg       0.17      0.12      0.13       156\n",
      "weighted avg       0.79      0.83      0.79       156\n",
      "\n",
      "Confusion Matrix:\n",
      "[[  0   0   0   0   0   0   0   1   0]\n",
      " [  0   0   0   0   0   0   0   0   0]\n",
      " [  0   0   0   0   0   0   0   1   0]\n",
      " [  0   0   0   0   0   0   0   0   0]\n",
      " [  0   1   0   0   2   0   0  11   0]\n",
      " [  0   0   0   0   0   0   0   1   0]\n",
      " [  0   0   0   0   0   0   0   3   1]\n",
      " [  0   0   0   1   1   0   1 128   1]\n",
      " [  0   0   0   0   0   0   0   3   0]]\n",
      "\n",
      "\n",
      "Model: SVC\n",
      "Accuracy: 0.8461538461538461\n",
      "Classification Report:\n",
      "              precision    recall  f1-score   support\n",
      "\n",
      "        36.0       0.00      0.00      0.00         1\n",
      "        84.0       0.00      0.00      0.00         1\n",
      "       180.0       0.00      0.00      0.00        14\n",
      "       240.0       0.00      0.00      0.00         1\n",
      "       300.0       0.00      0.00      0.00         4\n",
      "       360.0       0.85      1.00      0.92       132\n",
      "       480.0       0.00      0.00      0.00         3\n",
      "\n",
      "    accuracy                           0.85       156\n",
      "   macro avg       0.12      0.14      0.13       156\n",
      "weighted avg       0.72      0.85      0.78       156\n",
      "\n",
      "Confusion Matrix:\n",
      "[[  0   0   0   0   0   1   0]\n",
      " [  0   0   0   0   0   1   0]\n",
      " [  0   0   0   0   0  14   0]\n",
      " [  0   0   0   0   0   1   0]\n",
      " [  0   0   0   0   0   4   0]\n",
      " [  0   0   0   0   0 132   0]\n",
      " [  0   0   0   0   0   3   0]]\n",
      "\n",
      "\n",
      "Model: KNeighborsClassifier\n",
      "Accuracy: 0.8397435897435898\n",
      "Classification Report:\n",
      "              precision    recall  f1-score   support\n",
      "\n",
      "        36.0       0.00      0.00      0.00         1\n",
      "        84.0       0.00      0.00      0.00         1\n",
      "       180.0       0.00      0.00      0.00        14\n",
      "       240.0       0.00      0.00      0.00         1\n",
      "       300.0       0.00      0.00      0.00         4\n",
      "       360.0       0.85      0.99      0.91       132\n",
      "       480.0       0.00      0.00      0.00         3\n",
      "\n",
      "    accuracy                           0.84       156\n",
      "   macro avg       0.12      0.14      0.13       156\n",
      "weighted avg       0.72      0.84      0.77       156\n",
      "\n",
      "Confusion Matrix:\n",
      "[[  0   0   0   0   0   1   0]\n",
      " [  0   0   0   0   0   1   0]\n",
      " [  0   0   0   0   0  14   0]\n",
      " [  0   0   0   0   0   1   0]\n",
      " [  0   0   0   0   0   4   0]\n",
      " [  0   0   1   0   0 131   0]\n",
      " [  0   0   0   0   0   3   0]]\n",
      "\n",
      "\n"
     ]
    }
   ],
   "source": [
    "### Running the model pipeline\n",
    "\n",
    "### Looping through each model in our pipeline:\n",
    "for model in models:\n",
    "    accuracy, report, cm = build_and_evaluate_classification_pipeline(X_train, Y_train, X_test, Y_test, model)\n",
    "\n",
    "    print(f\"Model: {type(model).__name__}\")\n",
    "    print(f\"Accuracy: {accuracy}\")\n",
    "    print(\"Classification Report:\")\n",
    "    print(report)\n",
    "    print(\"Confusion Matrix:\")\n",
    "    print(cm)\n",
    "    print(\"\\n\")### Running the model pipeline"
   ]
  },
  {
   "cell_type": "markdown",
   "metadata": {},
   "source": [
    "* All models perform poorly.\n",
    "* We will try to handle the imbalance in our data."
   ]
  },
  {
   "cell_type": "code",
   "execution_count": 111,
   "metadata": {
    "scrolled": false
   },
   "outputs": [
    {
     "data": {
      "text/plain": [
       "360.0    673\n",
       "180.0     51\n",
       "300.0     15\n",
       "480.0     14\n",
       "240.0      6\n",
       "84.0       6\n",
       "120.0      4\n",
       "60.0       3\n",
       "12.0       1\n",
       "350.0      1\n",
       "36.0       1\n",
       "6.0        1\n",
       "Name: Loan_Amount_Term, dtype: int64"
      ]
     },
     "execution_count": 111,
     "metadata": {},
     "output_type": "execute_result"
    }
   ],
   "source": [
    "train_df_3.Loan_Amount_Term.value_counts()"
   ]
  },
  {
   "cell_type": "markdown",
   "metadata": {},
   "source": [
    "<a id='9.5'></a>\n",
    "#### Upscaling our data in order to imporve model performance."
   ]
  },
  {
   "cell_type": "code",
   "execution_count": 112,
   "metadata": {},
   "outputs": [],
   "source": [
    "balanced_data = balance_multiclass_dataset_with_limit(train_df_3, 'Loan_Amount_Term', desired_samples_per_class=100)"
   ]
  },
  {
   "cell_type": "code",
   "execution_count": 113,
   "metadata": {
    "scrolled": false
   },
   "outputs": [
    {
     "data": {
      "text/html": [
       "<div>\n",
       "<style scoped>\n",
       "    .dataframe tbody tr th:only-of-type {\n",
       "        vertical-align: middle;\n",
       "    }\n",
       "\n",
       "    .dataframe tbody tr th {\n",
       "        vertical-align: top;\n",
       "    }\n",
       "\n",
       "    .dataframe thead th {\n",
       "        text-align: right;\n",
       "    }\n",
       "</style>\n",
       "<table border=\"1\" class=\"dataframe\">\n",
       "  <thead>\n",
       "    <tr style=\"text-align: right;\">\n",
       "      <th></th>\n",
       "      <th>Gender</th>\n",
       "      <th>Married</th>\n",
       "      <th>Dependents</th>\n",
       "      <th>Education</th>\n",
       "      <th>Self_Employed</th>\n",
       "      <th>LoanAmount</th>\n",
       "      <th>Loan_Amount_Term</th>\n",
       "      <th>Credit_History</th>\n",
       "      <th>property_Area</th>\n",
       "      <th>TotalIncome</th>\n",
       "    </tr>\n",
       "  </thead>\n",
       "  <tbody>\n",
       "    <tr>\n",
       "      <th>0</th>\n",
       "      <td>1</td>\n",
       "      <td>1</td>\n",
       "      <td>0</td>\n",
       "      <td>0</td>\n",
       "      <td>1</td>\n",
       "      <td>25.0</td>\n",
       "      <td>120.0</td>\n",
       "      <td>1.0</td>\n",
       "      <td>1</td>\n",
       "      <td>3459.0</td>\n",
       "    </tr>\n",
       "    <tr>\n",
       "      <th>1</th>\n",
       "      <td>0</td>\n",
       "      <td>1</td>\n",
       "      <td>0</td>\n",
       "      <td>0</td>\n",
       "      <td>0</td>\n",
       "      <td>84.0</td>\n",
       "      <td>480.0</td>\n",
       "      <td>1.0</td>\n",
       "      <td>1</td>\n",
       "      <td>2666.0</td>\n",
       "    </tr>\n",
       "    <tr>\n",
       "      <th>2</th>\n",
       "      <td>1</td>\n",
       "      <td>1</td>\n",
       "      <td>0</td>\n",
       "      <td>1</td>\n",
       "      <td>0</td>\n",
       "      <td>118.0</td>\n",
       "      <td>36.0</td>\n",
       "      <td>1.0</td>\n",
       "      <td>1</td>\n",
       "      <td>5205.0</td>\n",
       "    </tr>\n",
       "    <tr>\n",
       "      <th>3</th>\n",
       "      <td>1</td>\n",
       "      <td>1</td>\n",
       "      <td>0</td>\n",
       "      <td>0</td>\n",
       "      <td>0</td>\n",
       "      <td>133.0</td>\n",
       "      <td>350.0</td>\n",
       "      <td>1.0</td>\n",
       "      <td>0</td>\n",
       "      <td>6624.0</td>\n",
       "    </tr>\n",
       "    <tr>\n",
       "      <th>4</th>\n",
       "      <td>1</td>\n",
       "      <td>1</td>\n",
       "      <td>2</td>\n",
       "      <td>0</td>\n",
       "      <td>0</td>\n",
       "      <td>128.0</td>\n",
       "      <td>360.0</td>\n",
       "      <td>1.0</td>\n",
       "      <td>0</td>\n",
       "      <td>4120.0</td>\n",
       "    </tr>\n",
       "    <tr>\n",
       "      <th>...</th>\n",
       "      <td>...</td>\n",
       "      <td>...</td>\n",
       "      <td>...</td>\n",
       "      <td>...</td>\n",
       "      <td>...</td>\n",
       "      <td>...</td>\n",
       "      <td>...</td>\n",
       "      <td>...</td>\n",
       "      <td>...</td>\n",
       "      <td>...</td>\n",
       "    </tr>\n",
       "    <tr>\n",
       "      <th>1768</th>\n",
       "      <td>1</td>\n",
       "      <td>1</td>\n",
       "      <td>0</td>\n",
       "      <td>0</td>\n",
       "      <td>0</td>\n",
       "      <td>111.0</td>\n",
       "      <td>12.0</td>\n",
       "      <td>1.0</td>\n",
       "      <td>2</td>\n",
       "      <td>7482.0</td>\n",
       "    </tr>\n",
       "    <tr>\n",
       "      <th>1769</th>\n",
       "      <td>0</td>\n",
       "      <td>1</td>\n",
       "      <td>1</td>\n",
       "      <td>0</td>\n",
       "      <td>0</td>\n",
       "      <td>132.0</td>\n",
       "      <td>84.0</td>\n",
       "      <td>1.0</td>\n",
       "      <td>0</td>\n",
       "      <td>4333.0</td>\n",
       "    </tr>\n",
       "    <tr>\n",
       "      <th>1770</th>\n",
       "      <td>1</td>\n",
       "      <td>0</td>\n",
       "      <td>0</td>\n",
       "      <td>0</td>\n",
       "      <td>0</td>\n",
       "      <td>96.0</td>\n",
       "      <td>360.0</td>\n",
       "      <td>1.0</td>\n",
       "      <td>2</td>\n",
       "      <td>4083.0</td>\n",
       "    </tr>\n",
       "    <tr>\n",
       "      <th>1771</th>\n",
       "      <td>1</td>\n",
       "      <td>0</td>\n",
       "      <td>0</td>\n",
       "      <td>0</td>\n",
       "      <td>0</td>\n",
       "      <td>40.0</td>\n",
       "      <td>180.0</td>\n",
       "      <td>1.0</td>\n",
       "      <td>0</td>\n",
       "      <td>2925.0</td>\n",
       "    </tr>\n",
       "    <tr>\n",
       "      <th>1772</th>\n",
       "      <td>1</td>\n",
       "      <td>1</td>\n",
       "      <td>2</td>\n",
       "      <td>0</td>\n",
       "      <td>0</td>\n",
       "      <td>108.0</td>\n",
       "      <td>84.0</td>\n",
       "      <td>1.0</td>\n",
       "      <td>2</td>\n",
       "      <td>3620.0</td>\n",
       "    </tr>\n",
       "  </tbody>\n",
       "</table>\n",
       "<p>1773 rows × 10 columns</p>\n",
       "</div>"
      ],
      "text/plain": [
       "      Gender  Married  Dependents  Education  Self_Employed  LoanAmount  \\\n",
       "0          1        1           0          0              1        25.0   \n",
       "1          0        1           0          0              0        84.0   \n",
       "2          1        1           0          1              0       118.0   \n",
       "3          1        1           0          0              0       133.0   \n",
       "4          1        1           2          0              0       128.0   \n",
       "...      ...      ...         ...        ...            ...         ...   \n",
       "1768       1        1           0          0              0       111.0   \n",
       "1769       0        1           1          0              0       132.0   \n",
       "1770       1        0           0          0              0        96.0   \n",
       "1771       1        0           0          0              0        40.0   \n",
       "1772       1        1           2          0              0       108.0   \n",
       "\n",
       "      Loan_Amount_Term Credit_History  property_Area  TotalIncome  \n",
       "0                120.0            1.0              1       3459.0  \n",
       "1                480.0            1.0              1       2666.0  \n",
       "2                 36.0            1.0              1       5205.0  \n",
       "3                350.0            1.0              0       6624.0  \n",
       "4                360.0            1.0              0       4120.0  \n",
       "...                ...            ...            ...          ...  \n",
       "1768              12.0            1.0              2       7482.0  \n",
       "1769              84.0            1.0              0       4333.0  \n",
       "1770             360.0            1.0              2       4083.0  \n",
       "1771             180.0            1.0              0       2925.0  \n",
       "1772              84.0            1.0              2       3620.0  \n",
       "\n",
       "[1773 rows x 10 columns]"
      ]
     },
     "execution_count": 113,
     "metadata": {},
     "output_type": "execute_result"
    }
   ],
   "source": [
    "balanced_data.index = range(0,balanced_data.shape[0])\n",
    "balanced_data"
   ]
  },
  {
   "cell_type": "code",
   "execution_count": 114,
   "metadata": {},
   "outputs": [
    {
     "data": {
      "text/plain": [
       "360.0    673\n",
       "120.0    100\n",
       "480.0    100\n",
       "36.0     100\n",
       "350.0    100\n",
       "60.0     100\n",
       "240.0    100\n",
       "6.0      100\n",
       "180.0    100\n",
       "12.0     100\n",
       "84.0     100\n",
       "300.0    100\n",
       "Name: Loan_Amount_Term, dtype: int64"
      ]
     },
     "execution_count": 114,
     "metadata": {},
     "output_type": "execute_result"
    }
   ],
   "source": [
    "Y = balanced_data[[\"Loan_Amount_Term\"]]\n",
    "X = balanced_data.drop([\"Loan_Amount_Term\"],axis=1)\n",
    "X_train, X_test, Y_train, Y_test= train_test_split(X, Y, test_size=0.2,random_state=10)\n",
    "balanced_data.Loan_Amount_Term.value_counts()"
   ]
  },
  {
   "cell_type": "markdown",
   "metadata": {},
   "source": [
    "<a id='9.6'></a>\n",
    "#### Re-Running the model pipeline"
   ]
  },
  {
   "cell_type": "code",
   "execution_count": 115,
   "metadata": {
    "scrolled": false
   },
   "outputs": [
    {
     "name": "stdout",
     "output_type": "stream",
     "text": [
      "Model: LogisticRegression\n",
      "Accuracy: 0.5746478873239437\n",
      "Classification Report:\n",
      "              precision    recall  f1-score   support\n",
      "\n",
      "         6.0       1.00      1.00      1.00         9\n",
      "        12.0       0.78      1.00      0.88        21\n",
      "        36.0       0.68      1.00      0.81        26\n",
      "        60.0       0.50      0.29      0.36        21\n",
      "        84.0       0.00      0.00      0.00        13\n",
      "       120.0       0.64      0.78      0.71        23\n",
      "       180.0       0.00      0.00      0.00        18\n",
      "       240.0       0.00      0.00      0.00        24\n",
      "       300.0       0.00      0.00      0.00        17\n",
      "       350.0       0.69      1.00      0.82        18\n",
      "       360.0       0.55      0.71      0.62       143\n",
      "       480.0       0.50      0.18      0.27        22\n",
      "\n",
      "    accuracy                           0.57       355\n",
      "   macro avg       0.45      0.50      0.46       355\n",
      "weighted avg       0.48      0.57      0.51       355\n",
      "\n",
      "Confusion Matrix:\n",
      "[[  9   0   0   0   0   0   0   0   0   0   0   0]\n",
      " [  0  21   0   0   0   0   0   0   0   0   0   0]\n",
      " [  0   0  26   0   0   0   0   0   0   0   0   0]\n",
      " [  0   0   0   6   0   0   0   0   0   0  15   0]\n",
      " [  0   0   0   0   0   0   0   0   0   0  13   0]\n",
      " [  0   0   0   0   5  18   0   0   0   0   0   0]\n",
      " [  0   0   0   0   0   1   0   0   1   2  14   0]\n",
      " [  0   0   0   0   0   8   0   0   0   0  16   0]\n",
      " [  0   1   3   0   2   0   0   0   0   0  11   0]\n",
      " [  0   0   0   0   0   0   0   0   0  18   0   0]\n",
      " [  0   5   9   6   5   1   2   2   1   6 102   4]\n",
      " [  0   0   0   0   1   0   0   0   2   0  15   4]]\n",
      "\n",
      "\n",
      "Model: DecisionTreeClassifier\n",
      "Accuracy: 0.9352112676056338\n",
      "Classification Report:\n",
      "              precision    recall  f1-score   support\n",
      "\n",
      "         6.0       1.00      1.00      1.00         9\n",
      "        12.0       0.95      1.00      0.98        21\n",
      "        36.0       1.00      1.00      1.00        26\n",
      "        60.0       1.00      1.00      1.00        21\n",
      "        84.0       1.00      1.00      1.00        13\n",
      "       120.0       1.00      1.00      1.00        23\n",
      "       180.0       0.62      0.89      0.73        18\n",
      "       240.0       0.96      1.00      0.98        24\n",
      "       300.0       0.88      0.82      0.85        17\n",
      "       350.0       1.00      1.00      1.00        18\n",
      "       360.0       0.96      0.87      0.92       143\n",
      "       480.0       0.85      1.00      0.92        22\n",
      "\n",
      "    accuracy                           0.94       355\n",
      "   macro avg       0.93      0.97      0.95       355\n",
      "weighted avg       0.94      0.94      0.94       355\n",
      "\n",
      "Confusion Matrix:\n",
      "[[  9   0   0   0   0   0   0   0   0   0   0   0]\n",
      " [  0  21   0   0   0   0   0   0   0   0   0   0]\n",
      " [  0   0  26   0   0   0   0   0   0   0   0   0]\n",
      " [  0   0   0  21   0   0   0   0   0   0   0   0]\n",
      " [  0   0   0   0  13   0   0   0   0   0   0   0]\n",
      " [  0   0   0   0   0  23   0   0   0   0   0   0]\n",
      " [  0   0   0   0   0   0  16   0   0   0   2   0]\n",
      " [  0   0   0   0   0   0   0  24   0   0   0   0]\n",
      " [  0   0   0   0   0   0   0   0  14   0   3   0]\n",
      " [  0   0   0   0   0   0   0   0   0  18   0   0]\n",
      " [  0   1   0   0   0   0  10   1   2   0 125   4]\n",
      " [  0   0   0   0   0   0   0   0   0   0   0  22]]\n",
      "\n",
      "\n",
      "Model: RandomForestClassifier\n",
      "Accuracy: 0.9746478873239437\n",
      "Classification Report:\n",
      "              precision    recall  f1-score   support\n",
      "\n",
      "         6.0       1.00      1.00      1.00         9\n",
      "        12.0       1.00      1.00      1.00        21\n",
      "        36.0       1.00      1.00      1.00        26\n",
      "        60.0       1.00      1.00      1.00        21\n",
      "        84.0       1.00      1.00      1.00        13\n",
      "       120.0       1.00      1.00      1.00        23\n",
      "       180.0       0.89      0.89      0.89        18\n",
      "       240.0       1.00      1.00      1.00        24\n",
      "       300.0       0.93      0.82      0.87        17\n",
      "       350.0       1.00      1.00      1.00        18\n",
      "       360.0       0.97      0.97      0.97       143\n",
      "       480.0       0.96      1.00      0.98        22\n",
      "\n",
      "    accuracy                           0.97       355\n",
      "   macro avg       0.98      0.97      0.98       355\n",
      "weighted avg       0.97      0.97      0.97       355\n",
      "\n",
      "Confusion Matrix:\n",
      "[[  9   0   0   0   0   0   0   0   0   0   0   0]\n",
      " [  0  21   0   0   0   0   0   0   0   0   0   0]\n",
      " [  0   0  26   0   0   0   0   0   0   0   0   0]\n",
      " [  0   0   0  21   0   0   0   0   0   0   0   0]\n",
      " [  0   0   0   0  13   0   0   0   0   0   0   0]\n",
      " [  0   0   0   0   0  23   0   0   0   0   0   0]\n",
      " [  0   0   0   0   0   0  16   0   0   0   2   0]\n",
      " [  0   0   0   0   0   0   0  24   0   0   0   0]\n",
      " [  0   0   0   0   0   0   0   0  14   0   3   0]\n",
      " [  0   0   0   0   0   0   0   0   0  18   0   0]\n",
      " [  0   0   0   0   0   0   2   0   1   0 139   1]\n",
      " [  0   0   0   0   0   0   0   0   0   0   0  22]]\n",
      "\n",
      "\n",
      "Model: GradientBoostingClassifier\n",
      "Accuracy: 0.971830985915493\n",
      "Classification Report:\n",
      "              precision    recall  f1-score   support\n",
      "\n",
      "         6.0       1.00      1.00      1.00         9\n",
      "        12.0       1.00      1.00      1.00        21\n",
      "        36.0       1.00      1.00      1.00        26\n",
      "        60.0       1.00      1.00      1.00        21\n",
      "        84.0       1.00      1.00      1.00        13\n",
      "       120.0       1.00      1.00      1.00        23\n",
      "       180.0       0.94      0.89      0.91        18\n",
      "       240.0       1.00      1.00      1.00        24\n",
      "       300.0       0.93      0.82      0.87        17\n",
      "       350.0       0.95      1.00      0.97        18\n",
      "       360.0       0.97      0.97      0.97       143\n",
      "       480.0       0.92      1.00      0.96        22\n",
      "\n",
      "    accuracy                           0.97       355\n",
      "   macro avg       0.98      0.97      0.97       355\n",
      "weighted avg       0.97      0.97      0.97       355\n",
      "\n",
      "Confusion Matrix:\n",
      "[[  9   0   0   0   0   0   0   0   0   0   0   0]\n",
      " [  0  21   0   0   0   0   0   0   0   0   0   0]\n",
      " [  0   0  26   0   0   0   0   0   0   0   0   0]\n",
      " [  0   0   0  21   0   0   0   0   0   0   0   0]\n",
      " [  0   0   0   0  13   0   0   0   0   0   0   0]\n",
      " [  0   0   0   0   0  23   0   0   0   0   0   0]\n",
      " [  0   0   0   0   0   0  16   0   0   0   2   0]\n",
      " [  0   0   0   0   0   0   0  24   0   0   0   0]\n",
      " [  0   0   0   0   0   0   0   0  14   0   3   0]\n",
      " [  0   0   0   0   0   0   0   0   0  18   0   0]\n",
      " [  0   0   0   0   0   0   1   0   1   1 138   2]\n",
      " [  0   0   0   0   0   0   0   0   0   0   0  22]]\n",
      "\n",
      "\n",
      "Model: SVC\n",
      "Accuracy: 0.7380281690140845\n",
      "Classification Report:\n",
      "              precision    recall  f1-score   support\n",
      "\n",
      "         6.0       1.00      1.00      1.00         9\n",
      "        12.0       0.78      1.00      0.88        21\n",
      "        36.0       0.93      1.00      0.96        26\n",
      "        60.0       0.84      0.76      0.80        21\n",
      "        84.0       0.54      0.54      0.54        13\n",
      "       120.0       0.96      1.00      0.98        23\n",
      "       180.0       0.43      0.17      0.24        18\n",
      "       240.0       0.88      0.58      0.70        24\n",
      "       300.0       0.56      0.29      0.38        17\n",
      "       350.0       0.69      1.00      0.82        18\n",
      "       360.0       0.68      0.76      0.71       143\n",
      "       480.0       0.71      0.55      0.62        22\n",
      "\n",
      "    accuracy                           0.74       355\n",
      "   macro avg       0.75      0.72      0.72       355\n",
      "weighted avg       0.73      0.74      0.72       355\n",
      "\n",
      "Confusion Matrix:\n",
      "[[  9   0   0   0   0   0   0   0   0   0   0   0]\n",
      " [  0  21   0   0   0   0   0   0   0   0   0   0]\n",
      " [  0   0  26   0   0   0   0   0   0   0   0   0]\n",
      " [  0   0   0  16   0   0   0   0   0   0   5   0]\n",
      " [  0   0   0   0   7   0   0   0   0   0   6   0]\n",
      " [  0   0   0   0   0  23   0   0   0   0   0   0]\n",
      " [  0   0   0   0   1   0   3   0   0   1  13   0]\n",
      " [  0   0   0   0   0   0   2  14   0   0   8   0]\n",
      " [  0   1   0   0   0   0   0   0   5   0  11   0]\n",
      " [  0   0   0   0   0   0   0   0   0  18   0   0]\n",
      " [  0   5   2   3   4   1   2   2   4   7 108   5]\n",
      " [  0   0   0   0   1   0   0   0   0   0   9  12]]\n",
      "\n",
      "\n",
      "Model: KNeighborsClassifier\n",
      "Accuracy: 0.847887323943662\n",
      "Classification Report:\n",
      "              precision    recall  f1-score   support\n",
      "\n",
      "         6.0       0.90      1.00      0.95         9\n",
      "        12.0       1.00      1.00      1.00        21\n",
      "        36.0       0.93      1.00      0.96        26\n",
      "        60.0       0.95      1.00      0.98        21\n",
      "        84.0       0.81      1.00      0.90        13\n",
      "       120.0       0.92      1.00      0.96        23\n",
      "       180.0       0.64      0.50      0.56        18\n",
      "       240.0       0.86      1.00      0.92        24\n",
      "       300.0       0.54      0.82      0.65        17\n",
      "       350.0       1.00      1.00      1.00        18\n",
      "       360.0       0.87      0.74      0.80       143\n",
      "       480.0       0.68      0.77      0.72        22\n",
      "\n",
      "    accuracy                           0.85       355\n",
      "   macro avg       0.84      0.90      0.87       355\n",
      "weighted avg       0.85      0.85      0.85       355\n",
      "\n",
      "Confusion Matrix:\n",
      "[[  9   0   0   0   0   0   0   0   0   0   0   0]\n",
      " [  0  21   0   0   0   0   0   0   0   0   0   0]\n",
      " [  0   0  26   0   0   0   0   0   0   0   0   0]\n",
      " [  0   0   0  21   0   0   0   0   0   0   0   0]\n",
      " [  0   0   0   0  13   0   0   0   0   0   0   0]\n",
      " [  0   0   0   0   0  23   0   0   0   0   0   0]\n",
      " [  0   0   0   0   0   0   9   0   0   0   9   0]\n",
      " [  0   0   0   0   0   0   0  24   0   0   0   0]\n",
      " [  0   0   0   0   0   0   0   0  14   0   3   0]\n",
      " [  0   0   0   0   0   0   0   0   0  18   0   0]\n",
      " [  1   0   2   1   2   2   5   4  12   0 106   8]\n",
      " [  0   0   0   0   1   0   0   0   0   0   4  17]]\n",
      "\n",
      "\n"
     ]
    }
   ],
   "source": [
    "### Running the model pipeline\n",
    "\n",
    "### Looping through each model in our pipeline:\n",
    "for model in models:\n",
    "    accuracy, report, cm = build_and_evaluate_classification_pipeline(X_train, Y_train, X_test, Y_test, model)\n",
    "\n",
    "    print(f\"Model: {type(model).__name__}\")\n",
    "    print(f\"Accuracy: {accuracy}\")\n",
    "    print(\"Classification Report:\")\n",
    "    print(report)\n",
    "    print(\"Confusion Matrix:\")\n",
    "    print(cm)\n",
    "    print(\"\\n\")### Running the model pipeline"
   ]
  },
  {
   "cell_type": "markdown",
   "metadata": {},
   "source": [
    "## Metrics Summary:\n",
    "1. Logistic Regression:\n",
    "    * Accuracy: 0.575\n",
    "    * Precision, Recall, and F1-score: Varies by class\n",
    "    * Confusion Matrix: Varies by class  \n",
    "<br>    \n",
    "\n",
    "2. Decision Tree Classifier:\n",
    "    * Accuracy: 0.935\n",
    "    * Precision, Recall, and F1-score: Excellent across most classes\n",
    "    * Confusion Matrix: Well-balanced  \n",
    "<br>    \n",
    "\n",
    "3. Random Forest Classifier:\n",
    "    * Accuracy: 0.975\n",
    "    * Precision, Recall, and F1-score: Excellent across most classes\n",
    "    * Confusion Matrix: Well-balanced  \n",
    "<br>    \n",
    "\n",
    "4. Gradient Boosting Classifier:\n",
    "    * Accuracy: 0.972\n",
    "    * Precision, Recall, and F1-score: Excellent across most classes\n",
    "    * Confusion Matrix: Well-balanced  \n",
    "<br>    \n",
    "\n",
    "5. Support Vector Classifier (SVC):\n",
    "    * Accuracy: 0.738\n",
    "    * Precision, Recall, and F1-score: Varies by class\n",
    "    * Confusion Matrix: Varies by class  \n",
    "<br>    \n",
    "\n",
    "6. K-Nearest Neighbors (KNN):\n",
    "    * Accuracy: 0.848\n",
    "    * Precision, Recall, and F1-score: Good overall, especially for some classes\n",
    "    * Confusion Matrix: Well-balanced"
   ]
  },
  {
   "cell_type": "markdown",
   "metadata": {},
   "source": [
    "* We see that our classification models also perform very well, for our problem statement.\n",
    "* We confirm that in future, if either classification or regression performs poorly, we can use its counterpart.\n",
    "* Considering above metrics summary, we decide to use Random Forest classifier or Gradient Boost Classifier.\n",
    "* If we choose Random Forest and need to prune it, I have commented the code below."
   ]
  },
  {
   "cell_type": "code",
   "execution_count": 116,
   "metadata": {},
   "outputs": [],
   "source": [
    "# ##### Random forest model using GridSearchCV and tuning different parameter\n",
    "\n",
    "# rfr = RandomForestRegressor(random_state=10)\n",
    "# tg = {'min_samples_leaf':range(2,9),'n_estimators':[200,300,400],'max_depth':range(2,10),'min_samples_split':range(2,5)}\n",
    "\n",
    "# cv2 = GridSearchCV(rfr,tg,scoring=\"neg_mean_squared_error\",cv=4)\n",
    "# cv2_model = cv2.fit(X_train,Y_train)\n",
    "# cv2_model.best_params_\n",
    "\n",
    "# RF = RandomForestRegressor(random_state=10, min_samples_leaf = 8, n_estimators = 200)\n",
    "# RF.fit(X_train, Y_train)\n",
    "# Y_pred = RF.predict(X_test)\n",
    "\n",
    "# print(\"Model Score:\", RF.score(X_train, Y_train))\n",
    "\n",
    "# # Evaluating metrics:\n",
    "\n",
    "# r2=r2_score(Y_test,Y_pred)  # R-Square value\n",
    "# print(\"R-squared:\",r2)\n",
    "\n",
    "# rmse = np.sqrt(mean_squared_error(Y_test, Y_pred))\n",
    "# print(\"RMSE:\", rmse)\n",
    "\n",
    "# adjusted_r_squared = 1 - (1-r2)*(len(Y)-1)/(len(Y)-X.shape[1]-1)\n",
    "# print(\"Adj R-square:\",adjusted_r_squared)"
   ]
  },
  {
   "cell_type": "code",
   "execution_count": 117,
   "metadata": {
    "scrolled": true
   },
   "outputs": [
    {
     "name": "stdout",
     "output_type": "stream",
     "text": [
      "Execution time: 17 minutes and 5.35 seconds\n"
     ]
    }
   ],
   "source": [
    "# Time taken to run the entire notebook\n",
    "\n",
    "end_time = time.time()\n",
    "\n",
    "result = calculate_execution_time(start_time, end_time)\n",
    "print(result)"
   ]
  },
  {
   "cell_type": "markdown",
   "metadata": {},
   "source": [
    "# End of Project"
   ]
  }
 ],
 "metadata": {
  "kernelspec": {
   "display_name": "Python 3 (ipykernel)",
   "language": "python",
   "name": "python3"
  },
  "language_info": {
   "codemirror_mode": {
    "name": "ipython",
    "version": 3
   },
   "file_extension": ".py",
   "mimetype": "text/x-python",
   "name": "python",
   "nbconvert_exporter": "python",
   "pygments_lexer": "ipython3",
   "version": "3.7.6"
  }
 },
 "nbformat": 4,
 "nbformat_minor": 4
}
